{
 "cells": [
  {
   "cell_type": "code",
   "execution_count": 22,
   "metadata": {},
   "outputs": [],
   "source": [
    "# Dependencies and Setup\n",
    "import pandas as pd\n",
    "\n",
    "# File to Load (Remember to change the path if needed.)\n",
    "school_data_to_load = \"Resources/schools_complete.csv\"\n",
    "student_data_to_load = \"Resources/students_complete.csv\"\n",
    "\n",
    "# Read the School Data and Student Data and store into a Pandas DataFrame\n",
    "school_data_df = pd.read_csv(school_data_to_load)\n",
    "student_data_df = pd.read_csv(student_data_to_load)"
   ]
  },
  {
   "source": [
    "Deliverable 1: Replace the reading and math scores.\n",
    "Replace the 9th grade reading and math scores at Thomas High School with NaN."
   ],
   "cell_type": "markdown",
   "metadata": {}
  },
  {
   "cell_type": "code",
   "execution_count": 24,
   "metadata": {},
   "outputs": [
    {
     "output_type": "execute_result",
     "data": {
      "text/plain": [
       "       Student ID      student_name gender grade         school_name  \\\n",
       "37537       37537       Erik Snyder      M   9th  Thomas High School   \n",
       "37538       37538    Tanya Martinez      F   9th  Thomas High School   \n",
       "37539       37539     Noah Erickson      M   9th  Thomas High School   \n",
       "37540       37540      Austin Meyer      M   9th  Thomas High School   \n",
       "37543       37543   Madison Hampton      F   9th  Thomas High School   \n",
       "...           ...               ...    ...   ...                 ...   \n",
       "39152       39152        Lori Moore      F   9th  Thomas High School   \n",
       "39153       39153   William Hubbard      M   9th  Thomas High School   \n",
       "39157       39157  Kristen Gonzalez      F   9th  Thomas High School   \n",
       "39164       39164    Joseph Anthony      M   9th  Thomas High School   \n",
       "39167       39167    Rebecca Tanner      F   9th  Thomas High School   \n",
       "\n",
       "       reading_score  math_score  \n",
       "37537            NaN         NaN  \n",
       "37538            NaN         NaN  \n",
       "37539            NaN         NaN  \n",
       "37540            NaN         NaN  \n",
       "37543            NaN         NaN  \n",
       "...              ...         ...  \n",
       "39152            NaN         NaN  \n",
       "39153            NaN         NaN  \n",
       "39157            NaN         NaN  \n",
       "39164            NaN         NaN  \n",
       "39167            NaN         NaN  \n",
       "\n",
       "[461 rows x 7 columns]"
      ],
      "text/html": "<div>\n<style scoped>\n    .dataframe tbody tr th:only-of-type {\n        vertical-align: middle;\n    }\n\n    .dataframe tbody tr th {\n        vertical-align: top;\n    }\n\n    .dataframe thead th {\n        text-align: right;\n    }\n</style>\n<table border=\"1\" class=\"dataframe\">\n  <thead>\n    <tr style=\"text-align: right;\">\n      <th></th>\n      <th>Student ID</th>\n      <th>student_name</th>\n      <th>gender</th>\n      <th>grade</th>\n      <th>school_name</th>\n      <th>reading_score</th>\n      <th>math_score</th>\n    </tr>\n  </thead>\n  <tbody>\n    <tr>\n      <th>37537</th>\n      <td>37537</td>\n      <td>Erik Snyder</td>\n      <td>M</td>\n      <td>9th</td>\n      <td>Thomas High School</td>\n      <td>NaN</td>\n      <td>NaN</td>\n    </tr>\n    <tr>\n      <th>37538</th>\n      <td>37538</td>\n      <td>Tanya Martinez</td>\n      <td>F</td>\n      <td>9th</td>\n      <td>Thomas High School</td>\n      <td>NaN</td>\n      <td>NaN</td>\n    </tr>\n    <tr>\n      <th>37539</th>\n      <td>37539</td>\n      <td>Noah Erickson</td>\n      <td>M</td>\n      <td>9th</td>\n      <td>Thomas High School</td>\n      <td>NaN</td>\n      <td>NaN</td>\n    </tr>\n    <tr>\n      <th>37540</th>\n      <td>37540</td>\n      <td>Austin Meyer</td>\n      <td>M</td>\n      <td>9th</td>\n      <td>Thomas High School</td>\n      <td>NaN</td>\n      <td>NaN</td>\n    </tr>\n    <tr>\n      <th>37543</th>\n      <td>37543</td>\n      <td>Madison Hampton</td>\n      <td>F</td>\n      <td>9th</td>\n      <td>Thomas High School</td>\n      <td>NaN</td>\n      <td>NaN</td>\n    </tr>\n    <tr>\n      <th>...</th>\n      <td>...</td>\n      <td>...</td>\n      <td>...</td>\n      <td>...</td>\n      <td>...</td>\n      <td>...</td>\n      <td>...</td>\n    </tr>\n    <tr>\n      <th>39152</th>\n      <td>39152</td>\n      <td>Lori Moore</td>\n      <td>F</td>\n      <td>9th</td>\n      <td>Thomas High School</td>\n      <td>NaN</td>\n      <td>NaN</td>\n    </tr>\n    <tr>\n      <th>39153</th>\n      <td>39153</td>\n      <td>William Hubbard</td>\n      <td>M</td>\n      <td>9th</td>\n      <td>Thomas High School</td>\n      <td>NaN</td>\n      <td>NaN</td>\n    </tr>\n    <tr>\n      <th>39157</th>\n      <td>39157</td>\n      <td>Kristen Gonzalez</td>\n      <td>F</td>\n      <td>9th</td>\n      <td>Thomas High School</td>\n      <td>NaN</td>\n      <td>NaN</td>\n    </tr>\n    <tr>\n      <th>39164</th>\n      <td>39164</td>\n      <td>Joseph Anthony</td>\n      <td>M</td>\n      <td>9th</td>\n      <td>Thomas High School</td>\n      <td>NaN</td>\n      <td>NaN</td>\n    </tr>\n    <tr>\n      <th>39167</th>\n      <td>39167</td>\n      <td>Rebecca Tanner</td>\n      <td>F</td>\n      <td>9th</td>\n      <td>Thomas High School</td>\n      <td>NaN</td>\n      <td>NaN</td>\n    </tr>\n  </tbody>\n</table>\n<p>461 rows × 7 columns</p>\n</div>"
     },
     "metadata": {},
     "execution_count": 24
    }
   ],
   "source": [
    "# Install numpy using conda install numpy or pip install numpy. \n",
    "# Step 1. Import numpy as np.\n",
    "import numpy as np\n",
    "\n",
    "# Step 2. Use the loc method on the student_data_df to select all the reading scores from the 9th grade at Thomas High School and replace them with NaN.\n",
    "student_data_df.loc[(student_data_df['grade']=='9th') & (student_data_df['school_name']=='Thomas High School'),'reading_score'] = np.nan\n",
    "\n",
    "#  Step 3. Refactor the code in Step 2 to replace the math scores with NaN.\n",
    "student_data_df.loc[(student_data_df['grade']=='9th') & (student_data_df['school_name']=='Thomas High School'),'math_score'] = np.nan\n",
    "\n",
    "#  Step 4. Check the student data for NaN's. \n",
    "student_data_df.loc[(student_data_df['grade']=='9th') & (student_data_df['school_name']=='Thomas High School')]"
   ]
  },
  {
   "source": [
    "Deliverable 2 : Repeat the school district analysis District Summary"
   ],
   "cell_type": "markdown",
   "metadata": {}
  },
  {
   "cell_type": "code",
   "execution_count": null,
   "metadata": {},
   "outputs": [],
   "source": [
    "# Combine the data into a single dataset\n",
    "school_data_complete_df = pd.merge(student_data_df, school_data_df, how=\"left\", on=[\"school_name\", \"school_name\"])\n",
    "school_data_complete_df.head()\n"
   ]
  },
  {
   "source": [
    "Student ID\tstudent_name\tgender\tgrade\tschool_name\treading_score\tmath_score\tSchool ID\ttype\tsize\tbudget\n",
    "0\t0\tPaul Bradley\tM\t9th\tHuang High School\t66\t79\t0\tDistrict\t2917\t1910635\n",
    "1\t1\tVictor Smith\tM\t12th\tHuang High School\t94\t61\t0\tDistrict\t2917\t1910635\n",
    "2\t2\tKevin Rodriguez\tM\t12th\tHuang High School\t90\t60\t0\tDistrict\t2917\t1910635\n",
    "3\t3\tRichard Scott\tM\t12th\tHuang High School\t67\t58\t0\tDistrict\t2917\t1910635\n",
    "4\t4\tBonnie Ray\tF\t9th\tHuang High School\t97\t84\t0\tDistrict\t2917\t1910635"
   ],
   "cell_type": "code",
   "metadata": {},
   "execution_count": null,
   "outputs": []
  },
  {
   "source": [
    "\n",
    "[7]\n",
    "\n",
    "\n",
    "\n",
    "# Calculate the Totals (Schools and Students)\n",
    "school_count = len(school_data_complete_df[\"school_name\"].unique())\n",
    "student_count = school_data_complete_df[\"Student ID\"].count()\n",
    "\n",
    "# Calculate the Total Budget\n",
    "total_budget = school_data_df[\"budget\"].sum()\n",
    "[8]\n",
    "\n",
    "\n",
    "\n",
    "# Calculate the Average Scores using the \"clean_student_data\".\n",
    "average_reading_score = school_data_complete_df[\"reading_score\"].mean()\n",
    "average_math_score = school_data_complete_df[\"math_score\"].mean()\n",
    "[9]\n",
    "\n",
    "\n",
    "\n",
    "# Step 1. Get the number of students that are in ninth grade at Thomas High School.\n",
    "# These students have no grades. \n",
    "\n",
    "\n",
    "# Get the total student count \n",
    "student_count = school_data_complete_df[\"Student ID\"].count()\n",
    "\n",
    "\n",
    "# Step 2. Subtract the number of students that are in ninth grade at \n",
    "# Thomas High School from the total student count to get the new total student count.\n",
    "\n",
    "[10]\n",
    "\n",
    "\n",
    "\n",
    "# Calculate the passing rates using the \"clean_student_data\".\n",
    "passing_math_count = school_data_complete_df[(school_data_complete_df[\"math_score\"] >= 70)].count()[\"student_name\"]\n",
    "passing_reading_count = school_data_complete_df[(school_data_complete_df[\"reading_score\"] >= 70)].count()[\"student_name\"]\n",
    "[11]\n",
    "\n",
    "\n",
    "\n",
    "# Step 3. Calculate the passing percentages with the new total student count.\n",
    "\n",
    "[12]\n",
    "\n",
    "\n",
    "\n",
    "# Calculate the students who passed both reading and math.\n",
    "passing_math_reading = school_data_complete_df[(school_data_complete_df[\"math_score\"] >= 70)\n",
    "                                               & (school_data_complete_df[\"reading_score\"] >= 70)]\n",
    "\n",
    "# Calculate the number of students that passed both reading and math.\n",
    "overall_passing_math_reading_count = passing_math_reading[\"student_name\"].count()\n",
    "\n",
    "\n",
    "# Step 4.Calculate the overall passing percentage with new total student count.\n",
    "\n",
    "[14]\n",
    "\n",
    "\n",
    "\n",
    "# Create a DataFrame\n",
    "district_summary_df = pd.DataFrame(\n",
    "          [{\"Total Schools\": school_count, \n",
    "          \"Total Students\": student_count, \n",
    "          \"Total Budget\": total_budget,\n",
    "          \"Average Math Score\": average_math_score, \n",
    "          \"Average Reading Score\": average_reading_score,\n",
    "          \"% Passing Math\": passing_math_percentage,\n",
    "         \"% Passing Reading\": passing_reading_percentage,\n",
    "        \"% Overall Passing\": overall_passing_percentage}])\n",
    "\n",
    "School Summary\n",
    "[15]\n",
    "\n",
    "\n",
    "\n",
    "# Determine the School Type\n",
    "per_school_types = school_data_df.set_index([\"school_name\"])[\"type\"]\n",
    "\n",
    "# Calculate the total student count.\n",
    "per_school_counts = school_data_complete_df[\"school_name\"].value_counts()\n",
    "\n",
    "# Calculate the total school budget and per capita spending\n",
    "per_school_budget = school_data_complete_df.groupby([\"school_name\"]).mean()[\"budget\"]\n",
    "# Calculate the per capita spending.\n",
    "per_school_capita = per_school_budget / per_school_counts\n",
    "\n",
    "[16]\n",
    "\n",
    "\n",
    "\n",
    "# Create the DataFrame\n",
    "per_school_summary_df = pd.DataFrame({\n",
    "    \"School Type\": per_school_types,\n",
    "    \"Total Students\": per_school_counts,\n",
    "    \"Total School Budget\": per_school_budget,\n",
    "    \"Per Student Budget\": per_school_capita,\n",
    "    \"Average Math Score\": per_school_math,\n",
    "    \"Average Reading Score\": per_school_reading,\n",
    "    \"% Passing Math\": per_school_passing_math,\n",
    "    \"% Passing Reading\": per_school_passing_reading,\n",
    "\n",
    "[17]\n",
    "\n",
    "\n",
    "\n",
    "# Format the Total School Budget and the Per Student Budget\n",
    "per_school_summary_df[\"Total School Budget\"] = per_school_summary_df[\"Total School Budget\"].map(\"${:,.2f}\".format)\n",
    "per_school_summary_df[\"Per Student Budget\"] = per_school_summary_df[\"Per Student Budget\"].map(\"${:,.2f}\".format)\n",
    "\n",
    "# Display the data frame\n",
    "per_school_summary_df\n",
    "[18]\n",
    "\n",
    "\n",
    "\n",
    "# Step 5.  Get the number of 10th-12th graders from Thomas High School (THS).\n",
    "\n",
    "[19]\n",
    "\n",
    "\n",
    "\n",
    "# Step 6. Get all the students passing math from THS\n",
    "\n",
    "[20]\n",
    "\n",
    "\n",
    "\n",
    "# Step 7. Get all the students passing reading from THS\n",
    "\n",
    "[21]\n",
    "\n",
    "\n",
    "\n",
    "# Step 8. Get all the students passing math and reading from THS\n",
    "\n",
    "[22]\n",
    "\n",
    "\n",
    "\n",
    "# Step 9. Calculate the percentage of 10th-12th grade students passing math from Thomas High School. \n",
    "\n",
    "[23]\n",
    "\n",
    "\n",
    "\n",
    "# Step 10. Calculate the percentage of 10th-12th grade students passing reading from Thomas High School.\n",
    "\n",
    "[24]\n",
    "\n",
    "\n",
    "\n",
    "# Step 11. Calculate the overall passing percentage of 10th-12th grade from Thomas High School. \n",
    "\n",
    "\n",
    "[25]\n",
    "\n",
    "\n",
    "\n",
    "# Step 12. Replace the passing math percent for Thomas High School in the per_school_summary_df.\n",
    "\n",
    "[26]\n",
    "\n",
    "\n",
    "\n",
    "# Step 13. Replace the passing reading percentage for Thomas High School in the per_school_summary_df.\n",
    "\n",
    "[27]\n",
    "\n",
    "\n",
    "\n",
    "# Step 14. Replace the overall passing percentage for Thomas High School in the per_school_summary_df.\n",
    "\n",
    "[28]\n",
    "\n",
    "\n",
    "\n",
    "# per_school_summary_df\n",
    "High and Low Performing Schools\n",
    "[29]\n",
    "\n",
    "\n",
    "\n",
    "# Sort and show top five schools.\n",
    "\n",
    "[30]\n",
    "\n",
    "\n",
    "\n",
    "# Sort and show top five schools.\n",
    "\n",
    "Math and Reading Scores by Grade\n",
    "[31]\n",
    "\n",
    "\n",
    "\n",
    "# Create a Series of scores by grade levels using conditionals.\n",
    "\n",
    "\n",
    "# Group each school Series by the school name for the average math score.\n",
    "\n",
    "\n",
    "# Group each school Series by the school name for the average reading score.\n",
    "\n",
    "[32]\n",
    "\n",
    "\n",
    "\n",
    "# Combine each Series for average math scores by school into single data frame.\n",
    "\n",
    "[33]\n",
    "\n",
    "\n",
    "\n",
    "# Combine each Series for average reading scores by school into single data frame.\n",
    "\n",
    "[34]\n",
    "\n",
    "\n",
    "\n",
    "# Format each grade column.\n",
    "\n",
    "[35]\n",
    "\n",
    "\n",
    "\n",
    "# Remove the index.\n",
    "\n",
    "\n",
    "# Display the data frame\n",
    "\n",
    "[36]\n",
    "\n",
    "\n",
    "\n",
    "## Remove the index.\n",
    "\n",
    "\n",
    "# Display the data frame\n",
    "\n",
    "Scores by School Spending\n",
    "[37]\n",
    "\n",
    "\n",
    "\n",
    "# Establish the spending bins and group names.\n",
    "\n",
    "\n",
    "# Categorize spending based on the bins.\n",
    "\n",
    "[38]\n",
    "\n",
    "\n",
    "\n",
    "# Calculate averages for the desired columns. \n",
    "\n",
    "[39]\n",
    "\n",
    "\n",
    "\n",
    "# Create the DataFrame\n",
    "\n",
    "[40]\n",
    "\n",
    "\n",
    "\n",
    "# Format the DataFrame \n",
    "\n",
    "Scores by School Size\n",
    "[41]\n",
    "\n",
    "\n",
    "\n",
    "# Establish the bins.\n",
    "\n",
    "# Categorize spending based on the bins.\n",
    "\n",
    "[42]\n",
    "\n",
    "\n",
    "\n",
    "# Calculate averages for the desired columns. \n",
    "\n",
    "[43]\n",
    "\n",
    "\n",
    "\n",
    "# Assemble into DataFrame. \n",
    "\n",
    "[44]\n",
    "\n",
    "\n",
    "\n",
    "# Format the DataFrame  \n",
    "\n",
    "Scores by School Type\n",
    "[45]\n",
    "\n",
    "\n",
    "\n",
    "# Calculate averages for the desired columns. \n",
    "\n",
    "[46]\n",
    "\n",
    "\n",
    "\n",
    "# Assemble into DataFrame. \n",
    "\n",
    "[47]\n",
    "\n",
    "\n",
    "\n",
    "# # Format the DataFrame \n",
    "\n",
    "\n",
    "\n"
   ],
   "cell_type": "code",
   "metadata": {},
   "execution_count": null,
   "outputs": []
  },
  {
   "cell_type": "code",
   "execution_count": null,
   "metadata": {},
   "outputs": [],
   "source": [
    "import pandas as pd \n",
    "import numpy as np\n"
   ]
  },
  {
   "cell_type": "code",
   "execution_count": null,
   "metadata": {},
   "outputs": [],
   "source": [
    "schools_data_df = pd.read_csv(\"Resources/schools_complete.csv\")\n",
    "student_data_df = pd.read_csv(\"Resources/students_complete.csv\")"
   ]
  },
  {
   "cell_type": "code",
   "execution_count": null,
   "metadata": {},
   "outputs": [],
   "source": [
    "schools_data_df"
   ]
  },
  {
   "cell_type": "code",
   "execution_count": null,
   "metadata": {},
   "outputs": [],
   "source": [
    "student_data_df"
   ]
  },
  {
   "cell_type": "code",
   "execution_count": null,
   "metadata": {},
   "outputs": [],
   "source": [
    "#student_data.count()\n",
    "\n",
    "student_data_df.isnull().sum()"
   ]
  },
  {
   "cell_type": "code",
   "execution_count": null,
   "metadata": {},
   "outputs": [],
   "source": [
    "schools_data_df.dtypes"
   ]
  },
  {
   "cell_type": "code",
   "execution_count": null,
   "metadata": {},
   "outputs": [],
   "source": [
    "student_data_df.dtypes"
   ]
  },
  {
   "cell_type": "code",
   "execution_count": null,
   "metadata": {},
   "outputs": [],
   "source": [
    "## Move student_names to a list\n",
    "\n",
    "student_name_ls = student_data_df[\"student_name\"].tolist()"
   ]
  },
  {
   "cell_type": "code",
   "execution_count": null,
   "metadata": {
    "tags": [
     "outputPrepend"
    ]
   },
   "outputs": [],
   "source": [
    "## split student_names and count substring parts - VISUAL\n",
    "\n",
    "for name in student_name_ls:\n",
    "    print(name.split(), len(name.split()))\n"
   ]
  },
  {
   "cell_type": "code",
   "execution_count": null,
   "metadata": {},
   "outputs": [],
   "source": [
    "## copy names with more than 2 parts to the 'students_to_fix' list \n",
    "\n",
    "students_to_fix = []\n",
    "\n",
    "for name in student_name_ls:\n",
    "    if len(name.split()) >=3:\n",
    "        students_to_fix.append(name)\n",
    "\n",
    "## copy the Prefixes only to the 'prefixes' list\n",
    "prefixes = []\n",
    "\n",
    "for name in students_to_fix:\n",
    "    if len(name.split()[0]) <= 4:\n",
    "        prefixes.append(name.split()[0])\n",
    "\n",
    "## copy the Suffixes only to the 'suffixes' list\n",
    "suffixes = []\n",
    "\n",
    "for name in students_to_fix:\n",
    "    if len(name.split()[-1]) <= 3: \n",
    "        suffixes.append(name.split()[-1])\n",
    "\n",
    "## view distinct values from 'prefixes' list\n",
    "set(prefixes)\n",
    "\n"
   ]
  },
  {
   "cell_type": "code",
   "execution_count": null,
   "metadata": {},
   "outputs": [],
   "source": [
    "## view distinct values from 'suffixes' list\n",
    "set(suffixes)\n"
   ]
  },
  {
   "cell_type": "code",
   "execution_count": null,
   "metadata": {},
   "outputs": [],
   "source": [
    "## add distinct values from the Prefixes and Suffixes lists to new 'prefix_suffix' list\n",
    "prefix_suffix = [' DDS',' DVM',' MD',' PhD','Dr. ','Miss ','Mr. ','Mrs. ','Ms. ']\n",
    "prefix_suffix\n"
   ]
  },
  {
   "cell_type": "code",
   "execution_count": null,
   "metadata": {},
   "outputs": [],
   "source": [
    "## replace all 'prefixes' and 'suffixes' with \"\" to remove them\n",
    "\n",
    "for word in prefix_suffix:\n",
    "    student_data_df[\"student_name\"] = student_data_df[\"student_name\"].str.replace(word,\"\")\n",
    "\n",
    "## create list of 'clean_names' and print to screen for validation \n",
    "clean_names = student_data_df[\"student_name\"].tolist()\n",
    "\n",
    "students_fixed = []\n",
    "\n",
    "for name in clean_names:\n",
    "    if len(name.split()) >=3:\n",
    "        students_fixed.append(name)\n",
    "\n"
   ]
  },
  {
   "cell_type": "code",
   "execution_count": null,
   "metadata": {},
   "outputs": [],
   "source": [
    "sample = [students_fixed[0:11]]\n",
    "sample\n",
    "\n",
    "## Yay! Everyone in \"students_fixed\" list has more than a first and last name, but it's an appropriate suffix"
   ]
  },
  {
   "cell_type": "code",
   "execution_count": null,
   "metadata": {},
   "outputs": [],
   "source": [
    "student_data_df\n"
   ]
  },
  {
   "source": [
    "clean_students_df = pd.read_csv(\"Resources/clean_students_complete.csv\")\n",
    "clean_students_df"
   ],
   "cell_type": "code",
   "metadata": {},
   "execution_count": null,
   "outputs": []
  },
  {
   "cell_type": "code",
   "execution_count": null,
   "metadata": {},
   "outputs": [],
   "source": [
    "school_data_complete_df = pd.merge(clean_students_df, schools_data_df, on=[\"school_name\", \"school_name\"])\n",
    "school_data_complete_df"
   ]
  },
  {
   "cell_type": "code",
   "execution_count": null,
   "metadata": {},
   "outputs": [],
   "source": [
    "## get the total number of students\n",
    "student_count = school_data_complete_df.count()\n",
    "student_count"
   ]
  },
  {
   "cell_type": "code",
   "execution_count": null,
   "metadata": {},
   "outputs": [],
   "source": [
    "school_count = schools_data_df.school_name.count()\n",
    "school_count"
   ]
  },
  {
   "cell_type": "code",
   "execution_count": null,
   "metadata": {},
   "outputs": [],
   "source": [
    "## calculate the total number of schools\n",
    "school_count_2 = school_data_complete_df[\"school_name\"].unique()\n",
    "school_count_2"
   ]
  },
  {
   "cell_type": "code",
   "execution_count": null,
   "metadata": {},
   "outputs": [],
   "source": [
    "total_schools = len(school_data_complete_df[\"school_name\"].unique())\n",
    "total_schools"
   ]
  },
  {
   "cell_type": "code",
   "execution_count": null,
   "metadata": {},
   "outputs": [],
   "source": [
    "##calculate the total budget\n",
    "total_budget = schools_data_df['budget'].sum()\n",
    "total_budget"
   ]
  },
  {
   "cell_type": "code",
   "execution_count": null,
   "metadata": {},
   "outputs": [],
   "source": [
    "## find the average reading score\n",
    "avg_reading = school_data_complete_df['reading_score'].mean()\n",
    "avg_reading"
   ]
  },
  {
   "cell_type": "code",
   "execution_count": null,
   "metadata": {},
   "outputs": [],
   "source": [
    "## find the average match score\n",
    "avg_math = school_data_complete_df['math_score'].mean()\n",
    "avg_math"
   ]
  },
  {
   "cell_type": "code",
   "execution_count": null,
   "metadata": {},
   "outputs": [],
   "source": [
    "## add students with passing math scores to new DFs\n",
    "passing_math = school_data_complete_df[school_data_complete_df['math_score'] >=70]\n",
    "passing_math"
   ]
  },
  {
   "cell_type": "code",
   "execution_count": null,
   "metadata": {},
   "outputs": [],
   "source": [
    "## add students with passing reading scores to new DFs\n",
    "passing_reading = school_data_complete_df[school_data_complete_df['reading_score'] >=70]\n",
    "passing_reading"
   ]
  },
  {
   "cell_type": "code",
   "execution_count": null,
   "metadata": {},
   "outputs": [],
   "source": [
    "## total students with passing_math score\n",
    "passing_math_count = passing_math[\"student_name\"].count()\n",
    "\n",
    "## total students with passing_reading score\n",
    "passing_reading_count = passing_reading['student_name'].count()"
   ]
  },
  {
   "cell_type": "code",
   "execution_count": null,
   "metadata": {},
   "outputs": [],
   "source": [
    "print(passing_math_count)\n",
    "print(passing_reading_count)"
   ]
  },
  {
   "cell_type": "code",
   "execution_count": null,
   "metadata": {},
   "outputs": [],
   "source": [
    "student_count = school_data_complete_df['Student ID'].count()\n",
    "student_count"
   ]
  },
  {
   "cell_type": "code",
   "execution_count": null,
   "metadata": {},
   "outputs": [],
   "source": [
    "passing_math_percentage = passing_math_count/float(student_count) *100\n",
    "passing_math_percentage"
   ]
  },
  {
   "cell_type": "code",
   "execution_count": null,
   "metadata": {},
   "outputs": [],
   "source": [
    "passing_reading_percentage = passing_reading_count/float(student_count) *100\n",
    "passing_reading_percentage"
   ]
  },
  {
   "cell_type": "code",
   "execution_count": null,
   "metadata": {},
   "outputs": [],
   "source": [
    "passed_both = school_data_complete_df[(school_data_complete_df['reading_score'] >=70) & (school_data_complete_df['math_score'] >=70)]\n",
    "passed_both"
   ]
  },
  {
   "cell_type": "code",
   "execution_count": null,
   "metadata": {},
   "outputs": [],
   "source": [
    "passed_both_count = passed_both.student_name.count()\n",
    "passed_both_count"
   ]
  },
  {
   "cell_type": "code",
   "execution_count": null,
   "metadata": {},
   "outputs": [],
   "source": [
    "passed_both_percentage = passed_both_count / student_count *100\n",
    "passed_both_percentage"
   ]
  },
  {
   "cell_type": "code",
   "execution_count": null,
   "metadata": {},
   "outputs": [],
   "source": []
  },
  {
   "cell_type": "code",
   "execution_count": null,
   "metadata": {},
   "outputs": [],
   "source": []
  }
 ],
 "metadata": {
  "kernelspec": {
   "display_name": "PythonData",
   "language": "python",
   "name": "pythondata"
  },
  "language_info": {
   "codemirror_mode": {
    "name": "ipython",
    "version": 3
   },
   "file_extension": ".py",
   "mimetype": "text/x-python",
   "name": "python",
   "nbconvert_exporter": "python",
   "pygments_lexer": "ipython3",
   "version": "3.7.9"
  }
 },
 "nbformat": 4,
 "nbformat_minor": 4
}