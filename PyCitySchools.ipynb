{
 "cells": [
  {
   "cell_type": "code",
   "execution_count": 110,
   "metadata": {},
   "outputs": [],
   "source": [
    "import pandas as pd \n",
    "import numpy as np\n"
   ]
  },
  {
   "cell_type": "code",
   "execution_count": 111,
   "metadata": {},
   "outputs": [],
   "source": [
    "schools_data_df = pd.read_csv(\"Resources/schools_complete.csv\")\n",
    "student_data_df = pd.read_csv(\"Resources/students_complete.csv\")"
   ]
  },
  {
   "cell_type": "code",
   "execution_count": 112,
   "metadata": {},
   "outputs": [
    {
     "output_type": "execute_result",
     "data": {
      "text/plain": [
       "    School ID            school_name      type  size   budget\n",
       "0           0      Huang High School  District  2917  1910635\n",
       "1           1   Figueroa High School  District  2949  1884411\n",
       "2           2    Shelton High School   Charter  1761  1056600\n",
       "3           3  Hernandez High School  District  4635  3022020\n",
       "4           4    Griffin High School   Charter  1468   917500\n",
       "5           5     Wilson High School   Charter  2283  1319574\n",
       "6           6    Cabrera High School   Charter  1858  1081356\n",
       "7           7     Bailey High School  District  4976  3124928\n",
       "8           8     Holden High School   Charter   427   248087\n",
       "9           9       Pena High School   Charter   962   585858\n",
       "10         10     Wright High School   Charter  1800  1049400\n",
       "11         11  Rodriguez High School  District  3999  2547363\n",
       "12         12    Johnson High School  District  4761  3094650\n",
       "13         13       Ford High School  District  2739  1763916\n",
       "14         14     Thomas High School   Charter  1635  1043130"
      ],
      "text/html": "<div>\n<style scoped>\n    .dataframe tbody tr th:only-of-type {\n        vertical-align: middle;\n    }\n\n    .dataframe tbody tr th {\n        vertical-align: top;\n    }\n\n    .dataframe thead th {\n        text-align: right;\n    }\n</style>\n<table border=\"1\" class=\"dataframe\">\n  <thead>\n    <tr style=\"text-align: right;\">\n      <th></th>\n      <th>School ID</th>\n      <th>school_name</th>\n      <th>type</th>\n      <th>size</th>\n      <th>budget</th>\n    </tr>\n  </thead>\n  <tbody>\n    <tr>\n      <th>0</th>\n      <td>0</td>\n      <td>Huang High School</td>\n      <td>District</td>\n      <td>2917</td>\n      <td>1910635</td>\n    </tr>\n    <tr>\n      <th>1</th>\n      <td>1</td>\n      <td>Figueroa High School</td>\n      <td>District</td>\n      <td>2949</td>\n      <td>1884411</td>\n    </tr>\n    <tr>\n      <th>2</th>\n      <td>2</td>\n      <td>Shelton High School</td>\n      <td>Charter</td>\n      <td>1761</td>\n      <td>1056600</td>\n    </tr>\n    <tr>\n      <th>3</th>\n      <td>3</td>\n      <td>Hernandez High School</td>\n      <td>District</td>\n      <td>4635</td>\n      <td>3022020</td>\n    </tr>\n    <tr>\n      <th>4</th>\n      <td>4</td>\n      <td>Griffin High School</td>\n      <td>Charter</td>\n      <td>1468</td>\n      <td>917500</td>\n    </tr>\n    <tr>\n      <th>5</th>\n      <td>5</td>\n      <td>Wilson High School</td>\n      <td>Charter</td>\n      <td>2283</td>\n      <td>1319574</td>\n    </tr>\n    <tr>\n      <th>6</th>\n      <td>6</td>\n      <td>Cabrera High School</td>\n      <td>Charter</td>\n      <td>1858</td>\n      <td>1081356</td>\n    </tr>\n    <tr>\n      <th>7</th>\n      <td>7</td>\n      <td>Bailey High School</td>\n      <td>District</td>\n      <td>4976</td>\n      <td>3124928</td>\n    </tr>\n    <tr>\n      <th>8</th>\n      <td>8</td>\n      <td>Holden High School</td>\n      <td>Charter</td>\n      <td>427</td>\n      <td>248087</td>\n    </tr>\n    <tr>\n      <th>9</th>\n      <td>9</td>\n      <td>Pena High School</td>\n      <td>Charter</td>\n      <td>962</td>\n      <td>585858</td>\n    </tr>\n    <tr>\n      <th>10</th>\n      <td>10</td>\n      <td>Wright High School</td>\n      <td>Charter</td>\n      <td>1800</td>\n      <td>1049400</td>\n    </tr>\n    <tr>\n      <th>11</th>\n      <td>11</td>\n      <td>Rodriguez High School</td>\n      <td>District</td>\n      <td>3999</td>\n      <td>2547363</td>\n    </tr>\n    <tr>\n      <th>12</th>\n      <td>12</td>\n      <td>Johnson High School</td>\n      <td>District</td>\n      <td>4761</td>\n      <td>3094650</td>\n    </tr>\n    <tr>\n      <th>13</th>\n      <td>13</td>\n      <td>Ford High School</td>\n      <td>District</td>\n      <td>2739</td>\n      <td>1763916</td>\n    </tr>\n    <tr>\n      <th>14</th>\n      <td>14</td>\n      <td>Thomas High School</td>\n      <td>Charter</td>\n      <td>1635</td>\n      <td>1043130</td>\n    </tr>\n  </tbody>\n</table>\n</div>"
     },
     "metadata": {},
     "execution_count": 112
    }
   ],
   "source": [
    "schools_data_df"
   ]
  },
  {
   "cell_type": "code",
   "execution_count": 113,
   "metadata": {},
   "outputs": [
    {
     "output_type": "execute_result",
     "data": {
      "text/plain": [
       "       Student ID       student_name gender grade         school_name  \\\n",
       "0               0       Paul Bradley      M   9th   Huang High School   \n",
       "1               1       Victor Smith      M  12th   Huang High School   \n",
       "2               2    Kevin Rodriguez      M  12th   Huang High School   \n",
       "3               3  Dr. Richard Scott      M  12th   Huang High School   \n",
       "4               4         Bonnie Ray      F   9th   Huang High School   \n",
       "...           ...                ...    ...   ...                 ...   \n",
       "39165       39165       Donna Howard      F  12th  Thomas High School   \n",
       "39166       39166          Dawn Bell      F  10th  Thomas High School   \n",
       "39167       39167     Rebecca Tanner      F   9th  Thomas High School   \n",
       "39168       39168       Desiree Kidd      F  10th  Thomas High School   \n",
       "39169       39169    Carolyn Jackson      F  11th  Thomas High School   \n",
       "\n",
       "       reading_score  math_score  \n",
       "0                 66          79  \n",
       "1                 94          61  \n",
       "2                 90          60  \n",
       "3                 67          58  \n",
       "4                 97          84  \n",
       "...              ...         ...  \n",
       "39165             99          90  \n",
       "39166             95          70  \n",
       "39167             73          84  \n",
       "39168             99          90  \n",
       "39169             95          75  \n",
       "\n",
       "[39170 rows x 7 columns]"
      ],
      "text/html": "<div>\n<style scoped>\n    .dataframe tbody tr th:only-of-type {\n        vertical-align: middle;\n    }\n\n    .dataframe tbody tr th {\n        vertical-align: top;\n    }\n\n    .dataframe thead th {\n        text-align: right;\n    }\n</style>\n<table border=\"1\" class=\"dataframe\">\n  <thead>\n    <tr style=\"text-align: right;\">\n      <th></th>\n      <th>Student ID</th>\n      <th>student_name</th>\n      <th>gender</th>\n      <th>grade</th>\n      <th>school_name</th>\n      <th>reading_score</th>\n      <th>math_score</th>\n    </tr>\n  </thead>\n  <tbody>\n    <tr>\n      <th>0</th>\n      <td>0</td>\n      <td>Paul Bradley</td>\n      <td>M</td>\n      <td>9th</td>\n      <td>Huang High School</td>\n      <td>66</td>\n      <td>79</td>\n    </tr>\n    <tr>\n      <th>1</th>\n      <td>1</td>\n      <td>Victor Smith</td>\n      <td>M</td>\n      <td>12th</td>\n      <td>Huang High School</td>\n      <td>94</td>\n      <td>61</td>\n    </tr>\n    <tr>\n      <th>2</th>\n      <td>2</td>\n      <td>Kevin Rodriguez</td>\n      <td>M</td>\n      <td>12th</td>\n      <td>Huang High School</td>\n      <td>90</td>\n      <td>60</td>\n    </tr>\n    <tr>\n      <th>3</th>\n      <td>3</td>\n      <td>Dr. Richard Scott</td>\n      <td>M</td>\n      <td>12th</td>\n      <td>Huang High School</td>\n      <td>67</td>\n      <td>58</td>\n    </tr>\n    <tr>\n      <th>4</th>\n      <td>4</td>\n      <td>Bonnie Ray</td>\n      <td>F</td>\n      <td>9th</td>\n      <td>Huang High School</td>\n      <td>97</td>\n      <td>84</td>\n    </tr>\n    <tr>\n      <th>...</th>\n      <td>...</td>\n      <td>...</td>\n      <td>...</td>\n      <td>...</td>\n      <td>...</td>\n      <td>...</td>\n      <td>...</td>\n    </tr>\n    <tr>\n      <th>39165</th>\n      <td>39165</td>\n      <td>Donna Howard</td>\n      <td>F</td>\n      <td>12th</td>\n      <td>Thomas High School</td>\n      <td>99</td>\n      <td>90</td>\n    </tr>\n    <tr>\n      <th>39166</th>\n      <td>39166</td>\n      <td>Dawn Bell</td>\n      <td>F</td>\n      <td>10th</td>\n      <td>Thomas High School</td>\n      <td>95</td>\n      <td>70</td>\n    </tr>\n    <tr>\n      <th>39167</th>\n      <td>39167</td>\n      <td>Rebecca Tanner</td>\n      <td>F</td>\n      <td>9th</td>\n      <td>Thomas High School</td>\n      <td>73</td>\n      <td>84</td>\n    </tr>\n    <tr>\n      <th>39168</th>\n      <td>39168</td>\n      <td>Desiree Kidd</td>\n      <td>F</td>\n      <td>10th</td>\n      <td>Thomas High School</td>\n      <td>99</td>\n      <td>90</td>\n    </tr>\n    <tr>\n      <th>39169</th>\n      <td>39169</td>\n      <td>Carolyn Jackson</td>\n      <td>F</td>\n      <td>11th</td>\n      <td>Thomas High School</td>\n      <td>95</td>\n      <td>75</td>\n    </tr>\n  </tbody>\n</table>\n<p>39170 rows × 7 columns</p>\n</div>"
     },
     "metadata": {},
     "execution_count": 113
    }
   ],
   "source": [
    "student_data_df"
   ]
  },
  {
   "cell_type": "code",
   "execution_count": 114,
   "metadata": {},
   "outputs": [
    {
     "output_type": "execute_result",
     "data": {
      "text/plain": [
       "Student ID       0\n",
       "student_name     0\n",
       "gender           0\n",
       "grade            0\n",
       "school_name      0\n",
       "reading_score    0\n",
       "math_score       0\n",
       "dtype: int64"
      ]
     },
     "metadata": {},
     "execution_count": 114
    }
   ],
   "source": [
    "#student_data.count()\n",
    "\n",
    "student_data_df.isnull().sum()"
   ]
  },
  {
   "cell_type": "code",
   "execution_count": 115,
   "metadata": {},
   "outputs": [
    {
     "output_type": "execute_result",
     "data": {
      "text/plain": [
       "School ID       int64\n",
       "school_name    object\n",
       "type           object\n",
       "size            int64\n",
       "budget          int64\n",
       "dtype: object"
      ]
     },
     "metadata": {},
     "execution_count": 115
    }
   ],
   "source": [
    "schools_data_df.dtypes"
   ]
  },
  {
   "cell_type": "code",
   "execution_count": 116,
   "metadata": {},
   "outputs": [
    {
     "output_type": "execute_result",
     "data": {
      "text/plain": [
       "Student ID        int64\n",
       "student_name     object\n",
       "gender           object\n",
       "grade            object\n",
       "school_name      object\n",
       "reading_score     int64\n",
       "math_score        int64\n",
       "dtype: object"
      ]
     },
     "metadata": {},
     "execution_count": 116
    }
   ],
   "source": [
    "student_data_df.dtypes"
   ]
  },
  {
   "cell_type": "code",
   "execution_count": 117,
   "metadata": {},
   "outputs": [],
   "source": [
    "## Move student_names to a list\n",
    "\n",
    "student_name_ls = student_data_df[\"student_name\"].tolist()"
   ]
  },
  {
   "cell_type": "code",
   "execution_count": 118,
   "metadata": {
    "tags": [
     "outputPrepend"
    ]
   },
   "outputs": [
    {
     "output_type": "stream",
     "name": "stdout",
     "text": [
      "'] 2\n",
      "['Savannah', 'Smith'] 2\n",
      "['Heather', 'Hunter'] 2\n",
      "['Lisa', 'Tucker'] 2\n",
      "['Renee', 'Moore'] 2\n",
      "['Nicole', 'White', 'MD'] 3\n",
      "['Keith', 'King'] 2\n",
      "['Amanda', 'Skinner', 'MD'] 3\n",
      "['Marcus', 'Wallace'] 2\n",
      "['James', 'Horton'] 2\n",
      "['Darrell', 'Simpson'] 2\n",
      "['Diane', 'Rush'] 2\n",
      "['Christine', 'Guerrero'] 2\n",
      "['Rita', 'Perez'] 2\n",
      "['Sarah', 'Williams'] 2\n",
      "['Jason', 'Key'] 2\n",
      "['Christine', 'Smith'] 2\n",
      "['Jennifer', 'Dixon'] 2\n",
      "['Timothy', 'Wilson'] 2\n",
      "['Maxwell', 'Anderson'] 2\n",
      "['Christina', 'Robinson'] 2\n",
      "['Abigail', 'Durham'] 2\n",
      "['Charlotte', 'Graham'] 2\n",
      "['Tanya', 'Barnes'] 2\n",
      "['Theresa', 'Gentry'] 2\n",
      "['Donald', 'Nicholson'] 2\n",
      "['Nathan', 'Smith'] 2\n",
      "['Sarah', 'Briggs'] 2\n",
      "['Joshua', 'Thomas'] 2\n",
      "['Alexander', 'Wilson'] 2\n",
      "['David', 'Smith'] 2\n",
      "['Rebecca', 'Reilly'] 2\n",
      "['Paul', 'Bowers'] 2\n",
      "['Teresa', 'Chapman'] 2\n",
      "['Kimberly', 'Case'] 2\n",
      "['Guy', 'Goodwin'] 2\n",
      "['Brenda', 'Rivera'] 2\n",
      "['Gregory', 'Shepherd'] 2\n",
      "['Kenneth', 'Simon'] 2\n",
      "['James', 'Stone'] 2\n",
      "['Scott', 'Smith'] 2\n",
      "['Kevin', 'Costa'] 2\n",
      "['Kayla', 'Williams'] 2\n",
      "['Joshua', 'Burch'] 2\n",
      "['Emily', 'Washington'] 2\n",
      "['Elizabeth', 'Graham'] 2\n",
      "['Kristy', 'Perry'] 2\n",
      "['Stacey', 'Rodriguez'] 2\n",
      "['Brittany', 'Harper'] 2\n",
      "['Robert', 'Pollard'] 2\n",
      "['Heidi', 'Gomez'] 2\n",
      "['Mark', 'White'] 2\n",
      "['Dustin', 'Meyer'] 2\n",
      "['Stephanie', 'Pham'] 2\n",
      "['Jeffery', 'Howard'] 2\n",
      "['Christina', 'Owen'] 2\n",
      "['Ana', 'Ellis'] 2\n",
      "['Evan', 'Jones'] 2\n",
      "['William', 'Schmidt'] 2\n",
      "['Elizabeth', 'Johnson'] 2\n",
      "['Ronald', 'Yates'] 2\n",
      "['Kenneth', 'Collins'] 2\n",
      "['Stacey', 'Jennings'] 2\n",
      "['Brandy', 'Cox'] 2\n",
      "['Ann', 'Garcia'] 2\n",
      "['David', 'Young'] 2\n",
      "['Steven', 'Thompson'] 2\n",
      "['Kaitlyn', 'Davis'] 2\n",
      "['Patricia', 'Maddox'] 2\n",
      "['Dylan', 'Ray'] 2\n",
      "['Sharon', 'Larson'] 2\n",
      "['Marc', 'Short'] 2\n",
      "['John', 'Atkins'] 2\n",
      "['Eugene', 'Johnson'] 2\n",
      "['Terry', 'Torres'] 2\n",
      "['Eric', 'Huff'] 2\n",
      "['Joseph', 'Kim'] 2\n",
      "['Katie', 'Neal'] 2\n",
      "['Amy', 'Vega'] 2\n",
      "['Daniel', 'Wilson'] 2\n",
      "['Kurt', 'Martinez'] 2\n",
      "['Dennis', 'Rodriguez'] 2\n",
      "['Elaine', 'Stephens'] 2\n",
      "['Melissa', 'Graves'] 2\n",
      "['Adrienne', 'Turner', 'MD'] 3\n",
      "['Sandra', 'Franco'] 2\n",
      "['Adam', 'Woods'] 2\n",
      "['Patrick', 'Joyce'] 2\n",
      "['Tanya', 'Chen'] 2\n",
      "['Tracy', 'Dawson'] 2\n",
      "['Lisa', 'Coleman'] 2\n",
      "['Brenda', 'Lloyd'] 2\n",
      "['Brianna', 'Frey'] 2\n",
      "['Michael', 'Green'] 2\n",
      "['Megan', 'Page'] 2\n",
      "['Jordan', 'Long'] 2\n",
      "['Tracy', 'Lewis'] 2\n",
      "['Christine', 'Sellers'] 2\n",
      "['Angela', 'Berger'] 2\n",
      "['Donald', 'Evans'] 2\n",
      "['Scott', 'Rowe'] 2\n",
      "['Veronica', 'Drake'] 2\n",
      "['David', 'Cohen'] 2\n",
      "['Mark', 'Rice'] 2\n",
      "['Jesse', 'Reyes'] 2\n",
      "['Nicole', 'Ritter'] 2\n",
      "['Lisa', 'Gentry'] 2\n",
      "['Terry', 'Scott', 'Jr.'] 3\n",
      "['Cesar', 'Rodriguez', 'DVM'] 3\n",
      "['Jennifer', 'Gay', 'MD'] 3\n",
      "['David', 'House'] 2\n",
      "['Michael', 'Moore'] 2\n",
      "['Jared', 'Woodward'] 2\n",
      "['Ashley', 'Black'] 2\n",
      "['Adam', 'Hinton'] 2\n",
      "['Rebecca', 'Sanchez'] 2\n",
      "['Daniel', 'Harris'] 2\n",
      "['Angie', 'Vance'] 2\n",
      "['Zachary', 'Davis'] 2\n",
      "['Joshua', 'Glass'] 2\n",
      "['Scott', 'Mack'] 2\n",
      "['Diane', 'Morse'] 2\n",
      "['Lori', 'Jenkins'] 2\n",
      "['Paul', 'Garcia'] 2\n",
      "['Jonathan', 'Dunn'] 2\n",
      "['Dustin', 'Butler'] 2\n",
      "['Cody', 'Cortez'] 2\n",
      "['Bridget', 'Benitez'] 2\n",
      "['Mr.', 'Earl', 'Thompson'] 3\n",
      "['Tracie', 'Stewart'] 2\n",
      "['Brenda', 'Le'] 2\n",
      "['Jennifer', 'Combs'] 2\n",
      "['Elizabeth', 'Stout'] 2\n",
      "['Edward', 'Lopez'] 2\n",
      "['Timothy', 'Baird'] 2\n",
      "['Drew', 'Jones'] 2\n",
      "['Kevin', 'Gordon'] 2\n",
      "['Andrew', 'Anthony'] 2\n",
      "['David', 'Garner'] 2\n",
      "['Dawn', 'Richards'] 2\n",
      "['Zachary', 'Sanchez'] 2\n",
      "['Paul', 'Butler'] 2\n",
      "['Heidi', 'Rhodes'] 2\n",
      "['Kimberly', 'Duncan'] 2\n",
      "['Andrew', 'Jones'] 2\n",
      "['Scott', 'Walters'] 2\n",
      "['Travis', 'Johnson'] 2\n",
      "['Taylor', 'Owen'] 2\n",
      "['Ryan', 'Reed'] 2\n",
      "['Erin', 'Miller'] 2\n",
      "['Tiffany', 'Alvarez'] 2\n",
      "['Donna', 'Ramirez'] 2\n",
      "['David', 'Taylor'] 2\n",
      "['Jacob', 'Roberts'] 2\n",
      "['John', 'Small'] 2\n",
      "['Robert', 'Lloyd'] 2\n",
      "['Joe', 'Ewing'] 2\n",
      "['William', 'Carter'] 2\n",
      "['Miss', 'Melinda', 'Thomas'] 3\n",
      "['Jill', 'Mckinney'] 2\n",
      "['John', 'Dunn'] 2\n",
      "['Jordan', 'Martinez'] 2\n",
      "['Mary', 'Nixon', 'MD'] 3\n",
      "['Kristin', 'Taylor'] 2\n",
      "['Ashley', 'Jimenez'] 2\n",
      "['Jessica', 'Hill'] 2\n",
      "['Laurie', 'Fowler'] 2\n",
      "['Michael', 'Johnson'] 2\n",
      "['Kevin', 'Foster'] 2\n",
      "['Michael', 'Stevens'] 2\n",
      "['Tracy', 'Noble'] 2\n",
      "['Daniel', 'Schultz'] 2\n",
      "['Bridget', 'Robles'] 2\n",
      "['Erin', 'Mccann'] 2\n",
      "['Paul', 'Hayes'] 2\n",
      "['Glenn', 'Mercer'] 2\n",
      "['Charles', 'Flores'] 2\n",
      "['Melissa', 'Wilson'] 2\n",
      "['Tim', 'Harris'] 2\n",
      "['John', 'Stuart'] 2\n",
      "['Kim', 'Williams'] 2\n",
      "['Andrew', 'Gomez'] 2\n",
      "['Beverly', 'Whitney'] 2\n",
      "['Eric', 'Cox'] 2\n",
      "['Leslie', 'Kelly', 'MD'] 3\n",
      "['Eric', 'Kelley'] 2\n",
      "['Olivia', 'Hernandez'] 2\n",
      "['Patrick', 'Garcia'] 2\n",
      "['Teresa', 'Schultz'] 2\n",
      "['Kim', 'Peck'] 2\n",
      "['Laura', 'Murphy'] 2\n",
      "['George', 'Green'] 2\n",
      "['Richard', 'Bowman'] 2\n",
      "['Jasmine', 'Garcia'] 2\n",
      "['Victoria', 'Harrell'] 2\n",
      "['Julie', 'Nelson'] 2\n",
      "['Mrs.', 'Kristen', 'Gonzalez'] 3\n",
      "['Michael', 'Carter', 'MD'] 3\n",
      "['Arthur', 'Martinez'] 2\n",
      "['James', 'Cruz'] 2\n",
      "['Brian', 'Monroe'] 2\n",
      "['Michael', 'Booth'] 2\n",
      "['Daniel', 'Simpson'] 2\n",
      "['Kenneth', 'Smith'] 2\n",
      "['Joseph', 'Mitchell'] 2\n",
      "['Allen', 'Payne'] 2\n",
      "['Lisa', 'Ward'] 2\n",
      "['Teresa', 'Miller'] 2\n",
      "['Daniel', 'Wallace'] 2\n",
      "['Sheena', 'Hill'] 2\n",
      "['Sarah', 'Scott'] 2\n",
      "['Michael', 'James'] 2\n",
      "['Angela', 'Thompson'] 2\n",
      "['Lindsay', 'Ortiz'] 2\n",
      "['Catherine', 'Wilson'] 2\n",
      "['Jill', 'Kim'] 2\n",
      "['Lauren', 'Wilson'] 2\n",
      "['Stacey', 'Lee'] 2\n",
      "['Carmen', 'Kim'] 2\n",
      "['Jennifer', 'Weaver'] 2\n",
      "['Kristi', 'Castillo'] 2\n",
      "['Matthew', 'Perez'] 2\n",
      "['Diana', 'Mcdaniel'] 2\n",
      "['Julia', 'King'] 2\n",
      "['Susan', 'Thomas'] 2\n",
      "['Lisa', 'Price'] 2\n",
      "['Nancy', 'Hopkins'] 2\n",
      "['Danny', 'Miller'] 2\n",
      "['Paul', 'Ewing'] 2\n",
      "['Frank', 'Davis'] 2\n",
      "['Jeffrey', 'Schultz'] 2\n",
      "['Misty', 'Nguyen'] 2\n",
      "['Leroy', 'Shaffer'] 2\n",
      "['Raymond', 'Hawkins'] 2\n",
      "['Robert', 'Lewis'] 2\n",
      "['Anna', 'Jacobs'] 2\n",
      "['Nathan', 'Adams'] 2\n",
      "['Christy', 'Ryan'] 2\n",
      "['Madison', 'Palmer'] 2\n",
      "['Christina', 'Hall'] 2\n",
      "['Charles', 'Dickson'] 2\n",
      "['Pamela', 'Thompson'] 2\n",
      "['Meghan', 'Williams'] 2\n",
      "['Gerald', 'Jones'] 2\n",
      "['Tara', 'Simpson'] 2\n",
      "['Ryan', 'Fernandez'] 2\n",
      "['Marissa', 'Wilson'] 2\n",
      "['Heather', 'Leblanc'] 2\n",
      "['Andrea', 'Lee'] 2\n",
      "['Erica', 'Singh'] 2\n",
      "['Matthew', 'Crane'] 2\n",
      "['Jennifer', 'Weaver'] 2\n",
      "['Brian', 'Thomas'] 2\n",
      "['Elizabeth', 'Lamb'] 2\n",
      "['Dakota', 'Marshall'] 2\n",
      "['Kelly', 'Donaldson'] 2\n",
      "['Donald', 'Scott'] 2\n",
      "['Mark', 'Smith'] 2\n",
      "['Todd', 'Johnson'] 2\n",
      "['Robin', 'Mathis'] 2\n",
      "['Carlos', 'Gutierrez'] 2\n",
      "['Katherine', 'Porter'] 2\n",
      "['Denise', 'Perry'] 2\n",
      "['Andrew', 'Nelson'] 2\n",
      "['Michael', 'Hartman'] 2\n",
      "['Andrea', 'Sanchez'] 2\n",
      "['Ronnie', 'Powell'] 2\n",
      "['Matthew', 'Davis'] 2\n",
      "['Kristina', 'Morrison'] 2\n",
      "['Kevin', 'Pierce'] 2\n",
      "['Frank', 'Mitchell'] 2\n",
      "['Tony', 'Hoover'] 2\n",
      "['Jessica', 'Roach'] 2\n",
      "['Danielle', 'Rodriguez'] 2\n",
      "['Tracy', 'Nguyen'] 2\n",
      "['Kelly', 'Bridges'] 2\n",
      "['Joseph', 'Mcgrath'] 2\n",
      "['Austin', 'Wilcox'] 2\n",
      "['Katherine', 'Sims'] 2\n",
      "['Mary', 'Miller'] 2\n",
      "['Martin', 'Taylor'] 2\n",
      "['Madison', 'Suarez'] 2\n",
      "['Betty', 'Campbell'] 2\n",
      "['Anna', 'Jackson'] 2\n",
      "['Anthony', 'Reynolds'] 2\n",
      "['Joseph', 'Perez', 'DDS'] 3\n",
      "['Matthew', 'Dougherty'] 2\n",
      "['Angela', 'Hill'] 2\n",
      "['Stephanie', 'Long'] 2\n",
      "['Kathy', 'Gonzales'] 2\n",
      "['Kayla', 'Myers'] 2\n",
      "['Edward', 'Jones'] 2\n",
      "['Tiffany', 'Cook'] 2\n",
      "['Bradley', 'Miller'] 2\n",
      "['Lisa', 'Blackburn'] 2\n",
      "['Sara', 'Williams'] 2\n",
      "['Gregory', 'Howell'] 2\n",
      "['Sarah', 'Allen'] 2\n",
      "['Russell', 'Schmitt'] 2\n",
      "['Peter', 'Stone'] 2\n",
      "['Gerald', 'Estes'] 2\n",
      "['Holly', 'Moore'] 2\n",
      "['Allison', 'Webb'] 2\n",
      "['Steven', 'Reynolds'] 2\n",
      "['Mrs.', 'Alice', 'Warren'] 3\n",
      "['Nichole', 'Perez'] 2\n",
      "['Autumn', 'Green'] 2\n",
      "['Eileen', 'Rios'] 2\n",
      "['Jennifer', 'Cooper'] 2\n",
      "['Martha', 'Molina'] 2\n",
      "['Judith', 'Potter'] 2\n",
      "['Evan', 'Martin'] 2\n",
      "['Heather', 'Bailey'] 2\n",
      "['Thomas', 'Clark'] 2\n",
      "['Brian', 'Arnold'] 2\n",
      "['Julia', 'Kelley', 'MD'] 3\n",
      "['Evan', 'Mitchell'] 2\n",
      "['Susan', 'Roberts'] 2\n",
      "['Shannon', 'Lopez'] 2\n",
      "['James', 'Williams'] 2\n",
      "['Allison', 'Kerr'] 2\n",
      "['Tiffany', 'Mccarthy'] 2\n",
      "['Christina', 'Moreno'] 2\n",
      "['Tony', 'Byrd'] 2\n",
      "['Jared', 'Mcdonald'] 2\n",
      "['Zoe', 'Allen'] 2\n",
      "['Laura', 'Baker'] 2\n",
      "['James', 'Hale'] 2\n",
      "['Timothy', 'Obrien'] 2\n",
      "['Mariah', 'Proctor'] 2\n",
      "['Mary', 'Rogers'] 2\n",
      "['Amber', 'Thompson'] 2\n",
      "['Yolanda', 'Ochoa'] 2\n",
      "['Debra', 'Rosales'] 2\n",
      "['Joseph', 'Wood'] 2\n",
      "['Andre', 'Fisher'] 2\n",
      "['David', 'Coffey', 'PhD'] 3\n",
      "['Kelly', 'Hernandez'] 2\n",
      "['Cheryl', 'Diaz'] 2\n",
      "['Linda', 'Chambers'] 2\n",
      "['William', 'Sandoval'] 2\n",
      "['Kristen', 'Crawford'] 2\n",
      "['Erica', 'King'] 2\n",
      "['Eric', 'Carson'] 2\n",
      "['James', 'Cruz'] 2\n",
      "['Nathan', 'Maldonado'] 2\n",
      "['David', 'Rodriguez'] 2\n",
      "['Justin', 'Williams'] 2\n",
      "['Jason', 'Shaw'] 2\n",
      "['Mrs.', 'Pam', 'Wolf', 'DDS'] 4\n",
      "['Catherine', 'Cross'] 2\n",
      "['Melissa', 'Johnson'] 2\n",
      "['Lori', 'Wilkerson'] 2\n",
      "['Katherine', 'Hardin'] 2\n",
      "['Kevin', 'Vasquez'] 2\n",
      "['Stephanie', 'Franklin'] 2\n",
      "['Edward', 'Parrish'] 2\n",
      "['Caitlin', 'Williams'] 2\n",
      "['Mark', 'Sanchez'] 2\n",
      "['Lindsey', 'Benson'] 2\n",
      "['Rachel', 'Miller'] 2\n",
      "['Andrea', 'Mack'] 2\n",
      "['Sarah', 'Brown'] 2\n",
      "['Lisa', 'Fitzgerald'] 2\n",
      "['Jessica', 'Prince'] 2\n",
      "['Jeffery', 'King'] 2\n",
      "['Travis', 'Spencer'] 2\n",
      "['Erica', 'Tucker'] 2\n",
      "['Lauren', 'Casey'] 2\n",
      "['Emily', 'Williams'] 2\n",
      "['Kevin', 'Thomas'] 2\n",
      "['Amanda', 'Small'] 2\n",
      "['Kerri', 'Torres'] 2\n",
      "['Danny', 'Powers'] 2\n",
      "['Jessica', 'Cohen'] 2\n",
      "['Jeffrey', 'Duarte'] 2\n",
      "['Crystal', 'Fields'] 2\n",
      "['Henry', 'Tucker'] 2\n",
      "['Kenneth', 'Carter'] 2\n",
      "['Courtney', 'Miller'] 2\n",
      "['Eric', 'Benson'] 2\n",
      "['Joshua', 'Vargas'] 2\n",
      "['Rebekah', 'Perkins'] 2\n",
      "['Mr.', 'Ryan', 'Thomas'] 3\n",
      "['Pamela', 'Brooks'] 2\n",
      "['Bridget', 'Shah'] 2\n",
      "['Cassidy', 'Carter'] 2\n",
      "['Kelly', 'Michael'] 2\n",
      "['Michael', 'Flores'] 2\n",
      "['Robert', 'Wilcox'] 2\n",
      "['Christopher', 'Melton'] 2\n",
      "['Stephanie', 'Johnson'] 2\n",
      "['Thomas', 'Payne'] 2\n",
      "['Elizabeth', 'Miller'] 2\n",
      "['Pamela', 'Thomas'] 2\n",
      "['Victoria', 'Nguyen'] 2\n",
      "['Brian', 'Mills'] 2\n",
      "['Deborah', 'Holloway'] 2\n",
      "['David', 'Gray'] 2\n",
      "['Kathleen', 'Lewis'] 2\n",
      "['Michelle', 'Pratt'] 2\n",
      "['Steven', 'Brown'] 2\n",
      "['James', 'Wallace'] 2\n",
      "['Amy', 'Hayes'] 2\n",
      "['Matthew', 'Nunez'] 2\n",
      "['Joseph', 'Gentry'] 2\n",
      "['Heidi', 'Johnson'] 2\n",
      "['Nancy', 'Harris'] 2\n",
      "['Ashley', 'Hill'] 2\n",
      "['Jeffery', 'Abbott'] 2\n",
      "['Gregory', 'Morgan', 'MD'] 3\n",
      "['Daniel', 'Herrera'] 2\n",
      "['Pamela', 'Salinas'] 2\n",
      "['Sarah', 'Johnson'] 2\n",
      "['Jason', 'Gonzalez'] 2\n",
      "['Richard', 'Alexander'] 2\n",
      "['Randy', 'Richards'] 2\n",
      "['Adriana', 'Reyes'] 2\n",
      "['Carrie', 'Meyer'] 2\n",
      "['Phillip', 'Lin'] 2\n",
      "['Daniel', 'Mack'] 2\n",
      "['Kimberly', 'Roach'] 2\n",
      "['Dakota', 'Barry'] 2\n",
      "['Latoya', 'Graham'] 2\n",
      "['Manuel', 'Lane'] 2\n",
      "['Kathy', 'Jones'] 2\n",
      "['Charles', 'Petty'] 2\n",
      "['Brent', 'Matthews'] 2\n",
      "['Amy', 'Lucas'] 2\n",
      "['Christopher', 'Black'] 2\n",
      "['Alyssa', 'Burns'] 2\n",
      "['Jeffrey', 'Evans'] 2\n",
      "['Dr.', 'Carol', 'Williams'] 3\n",
      "['Kelly', 'Chambers'] 2\n",
      "['Kayla', 'Anderson'] 2\n",
      "['Andrew', 'Ellis'] 2\n",
      "['Michelle', 'Cook'] 2\n",
      "['Victoria', 'Martin'] 2\n",
      "['Joshua', 'Underwood'] 2\n",
      "['Matthew', 'Howard'] 2\n",
      "['Michelle', 'Gray'] 2\n",
      "['Ms.', 'Rebecca', 'Gonzales'] 3\n",
      "['James', 'Schmidt'] 2\n",
      "['Mrs.', 'Samantha', 'Glover'] 3\n",
      "['Theresa', 'Nelson'] 2\n",
      "['Raymond', 'Jackson'] 2\n",
      "['Yvette', 'Ashley'] 2\n",
      "['David', 'Moss'] 2\n",
      "['Elizabeth', 'Howard'] 2\n",
      "['Shelby', 'George'] 2\n",
      "['Justin', 'Frazier'] 2\n",
      "['Chelsea', 'Adams'] 2\n",
      "['Erika', 'Payne'] 2\n",
      "['Anna', 'Decker', 'MD'] 3\n",
      "['Linda', 'Mccann'] 2\n",
      "['Leslie', 'Fowler'] 2\n",
      "['Robin', 'Morris'] 2\n",
      "['Samuel', 'Campbell'] 2\n",
      "['Angela', 'Pennington'] 2\n",
      "['Andrew', 'Stephenson'] 2\n",
      "['Sandra', 'Mcbride'] 2\n",
      "['Hailey', 'Lopez', 'DDS'] 3\n",
      "['Walter', 'Stokes'] 2\n",
      "['Dave', 'Diaz'] 2\n",
      "['Robert', 'Coleman'] 2\n",
      "['Andrew', 'Gibson'] 2\n",
      "['Kristina', 'Snow'] 2\n",
      "['Michael', 'Martinez'] 2\n",
      "['Patrick', 'Jenkins'] 2\n",
      "['Larry', 'Scott'] 2\n",
      "['Dana', 'Kidd'] 2\n",
      "['Amber', 'Lewis'] 2\n",
      "['Alan', 'Simmons'] 2\n",
      "['Rebecca', 'Joseph'] 2\n",
      "['Brian', 'Acosta'] 2\n",
      "['Kimberly', 'Erickson'] 2\n",
      "['Cynthia', 'Maldonado'] 2\n",
      "['Anthony', 'Flores'] 2\n",
      "['Jacob', 'Mills'] 2\n",
      "['Mr.', 'James', 'Baker'] 3\n",
      "['Cynthia', 'Martin'] 2\n",
      "['Natalie', 'Taylor'] 2\n",
      "['Ashley', 'Mcdonald'] 2\n",
      "['Kirk', 'Vaughn'] 2\n",
      "['Dustin', 'Ray'] 2\n",
      "['Gabriel', 'Miller'] 2\n",
      "['Deborah', 'Griffith'] 2\n",
      "['Christopher', 'Rose'] 2\n",
      "['Maria', 'Kirk'] 2\n",
      "['Nancy', 'Fox'] 2\n",
      "['Heather', 'Davis'] 2\n",
      "['Taylor', 'Smith'] 2\n",
      "['Mrs.', 'Amber', 'Gonzalez'] 3\n",
      "['Leslie', 'Nelson'] 2\n",
      "['John', 'Escobar'] 2\n",
      "['Robert', 'Harper'] 2\n",
      "['Angela', 'Mooney'] 2\n",
      "['Chad', 'Dudley'] 2\n",
      "['Richard', 'Lee'] 2\n",
      "['Elizabeth', 'Ross'] 2\n",
      "['Cheryl', 'Garner'] 2\n",
      "['Debbie', 'Garrison'] 2\n",
      "['Nicole', 'Shaw'] 2\n",
      "['Kayla', 'Jones'] 2\n",
      "['Cristina', 'Drake'] 2\n",
      "['Mr.', 'Jason', 'Patel', 'Jr.'] 4\n",
      "['Tina', 'Salazar'] 2\n",
      "['Timothy', 'Ward'] 2\n",
      "['Jeremiah', 'Arroyo'] 2\n",
      "['Ryan', 'Barnes'] 2\n",
      "['Jennifer', 'Robinson'] 2\n",
      "['Matthew', 'Walsh'] 2\n",
      "['Marissa', 'Reed'] 2\n",
      "['Matthew', 'Ritter'] 2\n",
      "['Jennifer', 'Kelley'] 2\n",
      "['David', 'Silva'] 2\n",
      "['Reginald', 'Johnson'] 2\n",
      "['Logan', 'White'] 2\n",
      "['Cheryl', 'Reynolds'] 2\n",
      "['Kelly', 'Mclean'] 2\n",
      "['Laura', 'Richardson'] 2\n",
      "['Maria', 'Davis'] 2\n",
      "['Amy', 'Anderson'] 2\n",
      "['Timothy', 'Smith'] 2\n",
      "['Laura', 'Kidd'] 2\n",
      "['Lydia', 'Gomez'] 2\n",
      "['Stephanie', 'Walker', 'DDS'] 3\n",
      "['Joseph', 'Daniels'] 2\n",
      "['Tracey', 'Hernandez'] 2\n",
      "['Barry', 'Bridges'] 2\n",
      "['David', 'Lin'] 2\n",
      "['Ariel', 'Reynolds'] 2\n",
      "['Mr.', 'Timothy', 'Scott'] 3\n",
      "['Jonathan', 'Crawford'] 2\n",
      "['Natalie', 'Dunn'] 2\n",
      "['Shawn', 'Williams'] 2\n",
      "['Jennifer', 'Parsons'] 2\n",
      "['Adam', 'Haley'] 2\n",
      "['Mary', 'Berry'] 2\n",
      "['Amy', 'Payne'] 2\n",
      "['Emily', 'Neal'] 2\n",
      "['Ashlee', 'Cooley'] 2\n",
      "['Kenneth', 'Lane'] 2\n",
      "['Joseph', 'Garcia'] 2\n",
      "['Dr.', 'Michael', 'Sullivan', 'DDS'] 4\n",
      "['Christopher', 'Henderson'] 2\n",
      "['Javier', 'Zamora'] 2\n",
      "['Theresa', 'Oconnor'] 2\n",
      "['Jamie', 'Campbell'] 2\n",
      "['Paige', 'Bates'] 2\n",
      "['Kelly', 'Lane'] 2\n",
      "['Steven', 'Hernandez'] 2\n",
      "['Kristen', 'Sims'] 2\n",
      "['Todd', 'Fields'] 2\n",
      "['Larry', 'Holmes'] 2\n",
      "['Michael', 'Miller'] 2\n",
      "['Doris', 'Taylor'] 2\n",
      "['Margaret', 'Hodge'] 2\n",
      "['Vanessa', 'Burton'] 2\n",
      "['Debra', 'Thomas'] 2\n",
      "['Donna', 'Ellison'] 2\n",
      "['Mrs.', 'Brittney', 'Schultz', 'DVM'] 4\n",
      "['Sean', 'Morrison'] 2\n",
      "['Dillon', 'Davidson'] 2\n",
      "['Timothy', 'Conner'] 2\n",
      "['Catherine', 'Romero'] 2\n",
      "['Michael', 'Williams'] 2\n",
      "['Susan', 'Greer'] 2\n",
      "['John', 'Bentley'] 2\n",
      "['Craig', 'Wells'] 2\n",
      "['Aaron', 'Martin'] 2\n",
      "['Alexandra', 'Wright'] 2\n",
      "['Elizabeth', 'Mccoy'] 2\n",
      "['Steven', 'Johnson'] 2\n",
      "['Donna', 'Morales'] 2\n",
      "['Sean', 'Morales'] 2\n",
      "['Ashley', 'Park'] 2\n",
      "['Kristy', 'Ruiz'] 2\n",
      "['Jason', 'Fisher'] 2\n",
      "['Gloria', 'Hamilton'] 2\n",
      "['Evan', 'Moreno'] 2\n",
      "['Betty', 'Jackson'] 2\n",
      "['Courtney', 'Santos'] 2\n",
      "['Lisa', 'Jackson'] 2\n",
      "['Keith', 'Petty'] 2\n",
      "['Randy', 'Travis'] 2\n",
      "['Michael', 'Morgan'] 2\n",
      "['Stephen', 'Miller'] 2\n",
      "['Brian', 'Burton'] 2\n",
      "['Debra', 'Williams'] 2\n",
      "['Dr.', 'Frances', 'Romero'] 3\n",
      "['Edgar', 'Garcia'] 2\n",
      "['Eric', 'Williams'] 2\n",
      "['Louis', 'Elliott'] 2\n",
      "['Robin', 'Jones'] 2\n",
      "['Lynn', 'Duncan'] 2\n",
      "['Anthony', 'Nunez'] 2\n",
      "['William', 'Newman'] 2\n",
      "['Taylor', 'Salinas'] 2\n",
      "['Lauren', 'Kelly'] 2\n",
      "['Jordan', 'Hamilton'] 2\n",
      "['Joel', 'Curry'] 2\n",
      "['Andres', 'Reyes'] 2\n",
      "['Thomas', 'Pham'] 2\n",
      "['Gregory', 'Graham'] 2\n",
      "['Nicholas', 'White'] 2\n",
      "['Kevin', 'Rowe'] 2\n",
      "['Michael', 'Palmer'] 2\n",
      "['Jim', 'Carrillo'] 2\n",
      "['Katherine', 'Russell'] 2\n",
      "['Spencer', 'Johnson'] 2\n",
      "['Mary', 'Taylor'] 2\n",
      "['Henry', 'Burke'] 2\n",
      "['Kelly', 'Weaver'] 2\n",
      "['Christopher', 'Johnson'] 2\n",
      "['Janice', 'Martin'] 2\n",
      "['Taylor', 'Cooke'] 2\n",
      "['Chad', 'Medina'] 2\n",
      "['Ashley', 'Romero'] 2\n",
      "['Samantha', 'Steele'] 2\n",
      "['Stacey', 'Taylor'] 2\n",
      "['Vicki', 'Meyer'] 2\n",
      "['Taylor', 'Thomas'] 2\n",
      "['Peggy', 'King'] 2\n",
      "['Alexandra', 'Williams'] 2\n",
      "['Sandra', 'Griffin'] 2\n",
      "['Yolanda', 'Le'] 2\n",
      "['Dennis', 'Bradford'] 2\n",
      "['Ann', 'Duffy'] 2\n",
      "['Rachel', 'Butler'] 2\n",
      "['Robert', 'Smith'] 2\n",
      "['Melissa', 'Hooper'] 2\n",
      "['Amber', 'Anderson'] 2\n",
      "['George', 'Collins'] 2\n",
      "['Robert', 'Reid'] 2\n",
      "['Stephen', 'Jones'] 2\n",
      "['Brenda', 'Taylor'] 2\n",
      "['Denise', 'Foster'] 2\n",
      "['Alexandria', 'Carpenter'] 2\n",
      "['Luke', 'Brown'] 2\n",
      "['Michael', 'Clements'] 2\n",
      "['Tiffany', 'Francis'] 2\n",
      "['Shannon', 'Carson'] 2\n",
      "['Tracey', 'Liu'] 2\n",
      "['Logan', 'Osborn'] 2\n",
      "['John', 'Roberson'] 2\n",
      "['Dennis', 'Anderson'] 2\n",
      "['Kelly', 'Diaz'] 2\n",
      "['Chad', 'Carr'] 2\n",
      "['John', 'Bailey'] 2\n",
      "['Dennis', 'Peters'] 2\n",
      "['Laura', 'Bennett', 'DDS'] 3\n",
      "['Charles', 'Brown'] 2\n",
      "['Marissa', 'Richardson'] 2\n",
      "['Amy', 'Davis'] 2\n",
      "['Andrea', 'Johnson'] 2\n",
      "['Jessica', 'Brewer'] 2\n",
      "['Ashley', 'Lynch'] 2\n",
      "['Christine', 'Howell'] 2\n",
      "['Luis', 'Cannon'] 2\n",
      "['Jennifer', 'Phillips'] 2\n",
      "['Maria', 'Davis'] 2\n",
      "['Thomas', 'Anderson'] 2\n",
      "['Annette', 'Davis'] 2\n",
      "['David', 'Price'] 2\n",
      "['Christina', 'Carter'] 2\n",
      "['Laura', 'Smith'] 2\n",
      "['Stacey', 'Mitchell'] 2\n",
      "['Michelle', 'Davis'] 2\n",
      "['Shane', 'Lindsey'] 2\n",
      "['Denise', 'Moore'] 2\n",
      "['Kendra', 'Flynn'] 2\n",
      "['Austin', 'Burke'] 2\n",
      "['David', 'Chapman'] 2\n",
      "['Malik', 'Thomas'] 2\n",
      "['Cynthia', 'Lloyd'] 2\n",
      "['Theresa', 'Ryan'] 2\n",
      "['Amber', 'Reynolds'] 2\n",
      "['Allen', 'Goodwin', 'DDS'] 3\n",
      "['Terry', 'Diaz'] 2\n",
      "['Jeffrey', 'Davis'] 2\n",
      "['Diana', 'Jones'] 2\n",
      "['Mia', 'Gould'] 2\n",
      "['Katherine', 'Johnson'] 2\n",
      "['Michael', 'Williams'] 2\n",
      "['Joseph', 'Turner'] 2\n",
      "['Peter', 'Potter'] 2\n",
      "['Ryan', 'Kim'] 2\n",
      "['Janice', 'Yoder'] 2\n",
      "['Carolyn', 'Webb'] 2\n",
      "['Elizabeth', 'Bush'] 2\n",
      "['Jaime', 'Edwards'] 2\n",
      "['Bethany', 'Smith'] 2\n",
      "['Wanda', 'Grimes'] 2\n",
      "['Karina', 'Allison'] 2\n",
      "['Timothy', 'Smith'] 2\n",
      "['Jason', 'Harris'] 2\n",
      "['Thomas', 'Smith'] 2\n",
      "['John', 'Whitaker'] 2\n",
      "['Kimberly', 'Brown', 'MD'] 3\n",
      "['Barbara', 'Miller'] 2\n",
      "['Madeline', 'Lopez'] 2\n",
      "['Carlos', 'Fischer'] 2\n",
      "['Amy', 'Collins'] 2\n",
      "['Abigail', 'White'] 2\n",
      "['Joanne', 'Strickland'] 2\n",
      "['Maria', 'Hernandez'] 2\n",
      "['Sandra', 'Mcdowell'] 2\n",
      "['Kristin', 'Krause'] 2\n",
      "['Alicia', 'Reese'] 2\n",
      "['Isaac', 'Holt'] 2\n",
      "['Jonathan', 'Garza'] 2\n",
      "['Phillip', 'Smith'] 2\n",
      "['Amanda', 'Vazquez'] 2\n",
      "['Jaime', 'Holland'] 2\n",
      "['Tina', 'Rhodes'] 2\n",
      "['John', 'Wells'] 2\n",
      "['Lindsay', 'Dougherty'] 2\n",
      "['Caitlyn', 'Vega'] 2\n",
      "['Kevin', 'Campbell'] 2\n",
      "['Michael', 'Everett'] 2\n",
      "['Christian', 'Martinez'] 2\n",
      "['Chad', 'Rivera'] 2\n",
      "['Amanda', 'Ferrell'] 2\n",
      "['Natasha', 'Murphy'] 2\n",
      "['Kathleen', 'Cook'] 2\n",
      "['Steven', 'Lewis', 'Jr.'] 3\n",
      "['Raymond', 'Hardy'] 2\n",
      "['Michael', 'Hill'] 2\n",
      "['Mary', 'Summers'] 2\n",
      "['Barbara', 'Cardenas'] 2\n",
      "['Angela', 'Garcia', 'DDS'] 3\n",
      "['Ronnie', 'Craig'] 2\n",
      "['Chad', 'Miller'] 2\n",
      "['Margaret', 'Perez'] 2\n",
      "['Michael', 'Rodriguez'] 2\n",
      "['Preston', 'Davis'] 2\n",
      "['Michael', 'Reed'] 2\n",
      "['Matthew', 'Ball'] 2\n",
      "['Larry', 'Robinson'] 2\n",
      "['Kyle', 'Gonzalez'] 2\n",
      "['Sarah', 'Atkinson'] 2\n",
      "['William', 'Foster', 'PhD'] 3\n",
      "['Michael', 'James'] 2\n",
      "['Michael', 'Strong'] 2\n",
      "['Kenneth', 'Moore'] 2\n",
      "['Brittney', 'Coleman'] 2\n",
      "['Jacob', 'Stein'] 2\n",
      "['Jason', 'Rodgers'] 2\n",
      "['Jose', 'Newton'] 2\n",
      "['John', 'Wheeler'] 2\n",
      "['April', 'Ellis'] 2\n",
      "['Caleb', 'Young'] 2\n",
      "['Derrick', 'Alexander'] 2\n",
      "['Jasmine', 'Li'] 2\n",
      "['Michael', 'Higgins'] 2\n",
      "['Joel', 'French'] 2\n",
      "['Sheri', 'Taylor'] 2\n",
      "['Vanessa', 'Wagner'] 2\n",
      "['Amanda', 'Ramirez'] 2\n",
      "['Susan', 'Gates'] 2\n",
      "['Jason', 'Lawrence'] 2\n",
      "['Jonathan', 'Alvarez'] 2\n",
      "['Joshua', 'Graham'] 2\n",
      "['Jeffery', 'Gomez'] 2\n",
      "['Sara', 'Hughes'] 2\n",
      "['Sandy', 'Johns'] 2\n",
      "['Melissa', 'Carter'] 2\n",
      "['Emma', 'Foley'] 2\n",
      "['Jennifer', 'Harris'] 2\n",
      "['Gloria', 'Wilson'] 2\n",
      "['Angela', 'Daniels'] 2\n",
      "['Marcus', 'Morgan'] 2\n",
      "['Joanna', 'Allen'] 2\n",
      "['Lisa', 'Kennedy'] 2\n",
      "['Joseph', 'Stewart'] 2\n",
      "['Lindsey', 'Thompson'] 2\n",
      "['Lori', 'Dickson'] 2\n",
      "['Jeremy', 'Edwards'] 2\n",
      "['Joseph', 'Burgess'] 2\n",
      "['Antonio', 'Kirk'] 2\n",
      "['Renee', 'Mcdonald'] 2\n",
      "['Kelli', 'Barnes'] 2\n",
      "['Lucas', 'Williams', 'Jr.'] 3\n",
      "['Kathleen', 'Barr'] 2\n",
      "['Nancy', 'Silva'] 2\n",
      "['Rachel', 'Murphy'] 2\n",
      "['Rhonda', 'Rodriguez'] 2\n",
      "['Tammy', 'Torres'] 2\n",
      "['Jennifer', 'White'] 2\n",
      "['Carrie', 'Stewart'] 2\n",
      "['Karen', 'Rogers'] 2\n",
      "['Dr.', 'Kimberly', 'Page'] 3\n",
      "['Catherine', 'Mendoza'] 2\n",
      "['Stacy', 'Wells'] 2\n",
      "['Crystal', 'Smith'] 2\n",
      "['Ernest', 'Lawrence'] 2\n",
      "['Sharon', 'Nguyen'] 2\n",
      "['Mary', 'Coffey'] 2\n",
      "['Kimberly', 'Pruitt'] 2\n",
      "['Richard', 'Mcdonald'] 2\n",
      "['Gregory', 'Taylor'] 2\n",
      "['Joseph', 'Ho'] 2\n",
      "['Anna', 'Smith'] 2\n",
      "['Daniel', 'Best'] 2\n",
      "['Terri', 'Johnston'] 2\n",
      "['Katherine', 'Harrison'] 2\n",
      "['Megan', 'Carson'] 2\n",
      "['Stephanie', 'Wilson'] 2\n",
      "['Samantha', 'Johnson'] 2\n",
      "['Andrew', 'Merritt'] 2\n",
      "['Susan', 'Simon'] 2\n",
      "['Maria', 'Shields'] 2\n",
      "['Samuel', 'Casey'] 2\n",
      "['Robert', 'Wood'] 2\n",
      "['Jonathan', 'Mueller'] 2\n",
      "['Diane', 'Miller'] 2\n",
      "['Brett', 'Arnold'] 2\n",
      "['Brian', 'Williams'] 2\n",
      "['Shawn', 'Hayden'] 2\n",
      "['Emily', 'Gomez'] 2\n",
      "['Kerri', 'Berger'] 2\n",
      "['Laura', 'Webster'] 2\n",
      "['Elizabeth', 'Aguirre'] 2\n",
      "['Victoria', 'Bailey'] 2\n",
      "['Monica', 'Hampton'] 2\n",
      "['Catherine', 'Lee'] 2\n",
      "['Cheyenne', 'Hernandez'] 2\n",
      "['Jonathan', 'Sullivan'] 2\n",
      "['Deborah', 'Higgins', 'DDS'] 3\n",
      "['Steven', 'Jackson'] 2\n",
      "['Cristian', 'Webster'] 2\n",
      "['Audrey', 'Fry'] 2\n",
      "['Michael', 'Carroll'] 2\n",
      "['Raymond', 'Hawkins'] 2\n",
      "['Christopher', 'Wilson'] 2\n",
      "['Glenda', 'Fletcher'] 2\n",
      "['Jennifer', 'Hamilton'] 2\n",
      "['Shannon', 'Williams'] 2\n",
      "['Lori', 'Moore'] 2\n",
      "['William', 'Hubbard'] 2\n",
      "['Bradley', 'Johnson'] 2\n",
      "['John', 'Brooks'] 2\n",
      "['Stephanie', 'Contreras'] 2\n",
      "['Kristen', 'Gonzalez'] 2\n",
      "['Kari', 'Holloway'] 2\n",
      "['Kimberly', 'Cabrera'] 2\n",
      "['Katie', 'Weaver'] 2\n",
      "['April', 'Reyes'] 2\n",
      "['Derek', 'Weeks'] 2\n",
      "['John', 'Reese'] 2\n",
      "['Joseph', 'Anthony'] 2\n",
      "['Donna', 'Howard'] 2\n",
      "['Dawn', 'Bell'] 2\n",
      "['Rebecca', 'Tanner'] 2\n",
      "['Desiree', 'Kidd'] 2\n",
      "['Carolyn', 'Jackson'] 2\n"
     ]
    }
   ],
   "source": [
    "## split student_names and count substring parts - VISUAL\n",
    "\n",
    "for name in student_name_ls:\n",
    "    print(name.split(), len(name.split()))\n"
   ]
  },
  {
   "cell_type": "code",
   "execution_count": 119,
   "metadata": {},
   "outputs": [
    {
     "output_type": "execute_result",
     "data": {
      "text/plain": [
       "{'Adam',\n",
       " 'Amy',\n",
       " 'Anna',\n",
       " 'Anne',\n",
       " 'Carl',\n",
       " 'Chad',\n",
       " 'Cody',\n",
       " 'Cory',\n",
       " 'Dale',\n",
       " 'Dana',\n",
       " 'Dawn',\n",
       " 'Dr.',\n",
       " 'Emma',\n",
       " 'Eric',\n",
       " 'Erik',\n",
       " 'Erin',\n",
       " 'Gail',\n",
       " 'Gary',\n",
       " 'Gina',\n",
       " 'Greg',\n",
       " 'Ian',\n",
       " 'Jill',\n",
       " 'Jodi',\n",
       " 'Joe',\n",
       " 'John',\n",
       " 'Jon',\n",
       " 'Jose',\n",
       " 'Judy',\n",
       " 'Kara',\n",
       " 'Kari',\n",
       " 'Kim',\n",
       " 'Kyle',\n",
       " 'Leah',\n",
       " 'Lisa',\n",
       " 'Lori',\n",
       " 'Luke',\n",
       " 'Lynn',\n",
       " 'Marc',\n",
       " 'Mark',\n",
       " 'Mary',\n",
       " 'Mike',\n",
       " 'Miss',\n",
       " 'Mr.',\n",
       " 'Mrs.',\n",
       " 'Ms.',\n",
       " 'Noah',\n",
       " 'Omar',\n",
       " 'Paul',\n",
       " 'Ruth',\n",
       " 'Ryan',\n",
       " 'Sara',\n",
       " 'Sean',\n",
       " 'Seth',\n",
       " 'Tara',\n",
       " 'Tina',\n",
       " 'Todd',\n",
       " 'Toni',\n",
       " 'Tony',\n",
       " 'Troy'}"
      ]
     },
     "metadata": {},
     "execution_count": 119
    }
   ],
   "source": [
    "## copy names with more than 2 parts to the 'students_to_fix' list \n",
    "\n",
    "students_to_fix = []\n",
    "\n",
    "for name in student_name_ls:\n",
    "    if len(name.split()) >=3:\n",
    "        students_to_fix.append(name)\n",
    "\n",
    "## copy the Prefixes only to the 'prefixes' list\n",
    "prefixes = []\n",
    "\n",
    "for name in students_to_fix:\n",
    "    if len(name.split()[0]) <= 4:\n",
    "        prefixes.append(name.split()[0])\n",
    "\n",
    "## copy the Suffixes only to the 'suffixes' list\n",
    "suffixes = []\n",
    "\n",
    "for name in students_to_fix:\n",
    "    if len(name.split()[-1]) <= 3: \n",
    "        suffixes.append(name.split()[-1])\n",
    "\n",
    "## view distinct values from 'prefixes' list\n",
    "set(prefixes)\n",
    "\n"
   ]
  },
  {
   "cell_type": "code",
   "execution_count": 120,
   "metadata": {},
   "outputs": [
    {
     "output_type": "execute_result",
     "data": {
      "text/plain": [
       "{'Cox',\n",
       " 'DDS',\n",
       " 'DVM',\n",
       " 'Day',\n",
       " 'II',\n",
       " 'III',\n",
       " 'IV',\n",
       " 'Jr.',\n",
       " 'Kim',\n",
       " 'Lee',\n",
       " 'Li',\n",
       " 'MD',\n",
       " 'PhD',\n",
       " 'Roy',\n",
       " 'V'}"
      ]
     },
     "metadata": {},
     "execution_count": 120
    }
   ],
   "source": [
    "## view distinct values from 'suffixes' list\n",
    "set(suffixes)\n"
   ]
  },
  {
   "cell_type": "code",
   "execution_count": 121,
   "metadata": {},
   "outputs": [
    {
     "output_type": "execute_result",
     "data": {
      "text/plain": [
       "[' DDS', ' DVM', ' MD', ' PhD', 'Dr. ', 'Miss ', 'Mr. ', 'Mrs. ', 'Ms. ']"
      ]
     },
     "metadata": {},
     "execution_count": 121
    }
   ],
   "source": [
    "## add distinct values from the Prefixes and Suffixes lists to new 'prefix_suffix' list\n",
    "prefix_suffix = [' DDS',' DVM',' MD',' PhD','Dr. ','Miss ','Mr. ','Mrs. ','Ms. ']\n",
    "prefix_suffix\n"
   ]
  },
  {
   "cell_type": "code",
   "execution_count": 122,
   "metadata": {},
   "outputs": [],
   "source": [
    "## replace all 'prefixes' and 'suffixes' with \"\" to remove them\n",
    "\n",
    "for word in prefix_suffix:\n",
    "    student_data_df[\"student_name\"] = student_data_df[\"student_name\"].str.replace(word,\"\")\n",
    "\n",
    "## create list of 'clean_names' and print to screen for validation \n",
    "clean_names = student_data_df[\"student_name\"].tolist()\n",
    "\n",
    "students_fixed = []\n",
    "\n",
    "for name in clean_names:\n",
    "    if len(name.split()) >=3:\n",
    "        students_fixed.append(name)\n",
    "\n"
   ]
  },
  {
   "cell_type": "code",
   "execution_count": 123,
   "metadata": {},
   "outputs": [
    {
     "output_type": "execute_result",
     "data": {
      "text/plain": [
       "[['Joseph Morales III',\n",
       "  'Xavier Bell II',\n",
       "  'David Miller Jr.',\n",
       "  'Reginald Garcia IV',\n",
       "  'Kevin Brown IV',\n",
       "  'William Washington Jr.',\n",
       "  'Juan Bryant II',\n",
       "  'Kenneth Paul Jr.',\n",
       "  'Scott Rivers III',\n",
       "  'Mark Myers Jr.',\n",
       "  'Michael Norton Jr.']]"
      ]
     },
     "metadata": {},
     "execution_count": 123
    }
   ],
   "source": [
    "sample = [students_fixed[0:11]]\n",
    "sample\n",
    "\n",
    "## Yay! Everyone in \"students_fixed\" list has more than a first and last name, but it's an appropriate suffix"
   ]
  },
  {
   "cell_type": "code",
   "execution_count": 124,
   "metadata": {},
   "outputs": [
    {
     "output_type": "execute_result",
     "data": {
      "text/plain": [
       "       Student ID     student_name gender grade         school_name  \\\n",
       "0               0     Paul Bradley      M   9th   Huang High School   \n",
       "1               1     Victor Smith      M  12th   Huang High School   \n",
       "2               2  Kevin Rodriguez      M  12th   Huang High School   \n",
       "3               3    Richard Scott      M  12th   Huang High School   \n",
       "4               4       Bonnie Ray      F   9th   Huang High School   \n",
       "...           ...              ...    ...   ...                 ...   \n",
       "39165       39165     Donna Howard      F  12th  Thomas High School   \n",
       "39166       39166        Dawn Bell      F  10th  Thomas High School   \n",
       "39167       39167   Rebecca Tanner      F   9th  Thomas High School   \n",
       "39168       39168     Desiree Kidd      F  10th  Thomas High School   \n",
       "39169       39169  Carolyn Jackson      F  11th  Thomas High School   \n",
       "\n",
       "       reading_score  math_score  \n",
       "0                 66          79  \n",
       "1                 94          61  \n",
       "2                 90          60  \n",
       "3                 67          58  \n",
       "4                 97          84  \n",
       "...              ...         ...  \n",
       "39165             99          90  \n",
       "39166             95          70  \n",
       "39167             73          84  \n",
       "39168             99          90  \n",
       "39169             95          75  \n",
       "\n",
       "[39170 rows x 7 columns]"
      ],
      "text/html": "<div>\n<style scoped>\n    .dataframe tbody tr th:only-of-type {\n        vertical-align: middle;\n    }\n\n    .dataframe tbody tr th {\n        vertical-align: top;\n    }\n\n    .dataframe thead th {\n        text-align: right;\n    }\n</style>\n<table border=\"1\" class=\"dataframe\">\n  <thead>\n    <tr style=\"text-align: right;\">\n      <th></th>\n      <th>Student ID</th>\n      <th>student_name</th>\n      <th>gender</th>\n      <th>grade</th>\n      <th>school_name</th>\n      <th>reading_score</th>\n      <th>math_score</th>\n    </tr>\n  </thead>\n  <tbody>\n    <tr>\n      <th>0</th>\n      <td>0</td>\n      <td>Paul Bradley</td>\n      <td>M</td>\n      <td>9th</td>\n      <td>Huang High School</td>\n      <td>66</td>\n      <td>79</td>\n    </tr>\n    <tr>\n      <th>1</th>\n      <td>1</td>\n      <td>Victor Smith</td>\n      <td>M</td>\n      <td>12th</td>\n      <td>Huang High School</td>\n      <td>94</td>\n      <td>61</td>\n    </tr>\n    <tr>\n      <th>2</th>\n      <td>2</td>\n      <td>Kevin Rodriguez</td>\n      <td>M</td>\n      <td>12th</td>\n      <td>Huang High School</td>\n      <td>90</td>\n      <td>60</td>\n    </tr>\n    <tr>\n      <th>3</th>\n      <td>3</td>\n      <td>Richard Scott</td>\n      <td>M</td>\n      <td>12th</td>\n      <td>Huang High School</td>\n      <td>67</td>\n      <td>58</td>\n    </tr>\n    <tr>\n      <th>4</th>\n      <td>4</td>\n      <td>Bonnie Ray</td>\n      <td>F</td>\n      <td>9th</td>\n      <td>Huang High School</td>\n      <td>97</td>\n      <td>84</td>\n    </tr>\n    <tr>\n      <th>...</th>\n      <td>...</td>\n      <td>...</td>\n      <td>...</td>\n      <td>...</td>\n      <td>...</td>\n      <td>...</td>\n      <td>...</td>\n    </tr>\n    <tr>\n      <th>39165</th>\n      <td>39165</td>\n      <td>Donna Howard</td>\n      <td>F</td>\n      <td>12th</td>\n      <td>Thomas High School</td>\n      <td>99</td>\n      <td>90</td>\n    </tr>\n    <tr>\n      <th>39166</th>\n      <td>39166</td>\n      <td>Dawn Bell</td>\n      <td>F</td>\n      <td>10th</td>\n      <td>Thomas High School</td>\n      <td>95</td>\n      <td>70</td>\n    </tr>\n    <tr>\n      <th>39167</th>\n      <td>39167</td>\n      <td>Rebecca Tanner</td>\n      <td>F</td>\n      <td>9th</td>\n      <td>Thomas High School</td>\n      <td>73</td>\n      <td>84</td>\n    </tr>\n    <tr>\n      <th>39168</th>\n      <td>39168</td>\n      <td>Desiree Kidd</td>\n      <td>F</td>\n      <td>10th</td>\n      <td>Thomas High School</td>\n      <td>99</td>\n      <td>90</td>\n    </tr>\n    <tr>\n      <th>39169</th>\n      <td>39169</td>\n      <td>Carolyn Jackson</td>\n      <td>F</td>\n      <td>11th</td>\n      <td>Thomas High School</td>\n      <td>95</td>\n      <td>75</td>\n    </tr>\n  </tbody>\n</table>\n<p>39170 rows × 7 columns</p>\n</div>"
     },
     "metadata": {},
     "execution_count": 124
    }
   ],
   "source": [
    "student_data_df\n"
   ]
  },
  {
   "source": [
    "clean_students_df = pd.read_csv(\"Resources/clean_students_complete.csv\")\n",
    "clean_students_df"
   ],
   "cell_type": "code",
   "metadata": {},
   "execution_count": 125,
   "outputs": [
    {
     "output_type": "execute_result",
     "data": {
      "text/plain": [
       "       Unnamed: 0  Student ID     student_name gender grade  \\\n",
       "0               0           0     Paul Bradley      M   9th   \n",
       "1               1           1     Victor Smith      M  12th   \n",
       "2               2           2  Kevin Rodriguez      M  12th   \n",
       "3               3           3    Richard Scott      M  12th   \n",
       "4               4           4       Bonnie Ray      F   9th   \n",
       "...           ...         ...              ...    ...   ...   \n",
       "39165       39165       39165     Donna Howard      F  12th   \n",
       "39166       39166       39166        Dawn Bell      F  10th   \n",
       "39167       39167       39167   Rebecca Tanner      F   9th   \n",
       "39168       39168       39168     Desiree Kidd      F  10th   \n",
       "39169       39169       39169  Carolyn Jackson      F  11th   \n",
       "\n",
       "              school_name  reading_score  math_score  \n",
       "0       Huang High School             66          79  \n",
       "1       Huang High School             94          61  \n",
       "2       Huang High School             90          60  \n",
       "3       Huang High School             67          58  \n",
       "4       Huang High School             97          84  \n",
       "...                   ...            ...         ...  \n",
       "39165  Thomas High School             99          90  \n",
       "39166  Thomas High School             95          70  \n",
       "39167  Thomas High School             73          84  \n",
       "39168  Thomas High School             99          90  \n",
       "39169  Thomas High School             95          75  \n",
       "\n",
       "[39170 rows x 8 columns]"
      ],
      "text/html": "<div>\n<style scoped>\n    .dataframe tbody tr th:only-of-type {\n        vertical-align: middle;\n    }\n\n    .dataframe tbody tr th {\n        vertical-align: top;\n    }\n\n    .dataframe thead th {\n        text-align: right;\n    }\n</style>\n<table border=\"1\" class=\"dataframe\">\n  <thead>\n    <tr style=\"text-align: right;\">\n      <th></th>\n      <th>Unnamed: 0</th>\n      <th>Student ID</th>\n      <th>student_name</th>\n      <th>gender</th>\n      <th>grade</th>\n      <th>school_name</th>\n      <th>reading_score</th>\n      <th>math_score</th>\n    </tr>\n  </thead>\n  <tbody>\n    <tr>\n      <th>0</th>\n      <td>0</td>\n      <td>0</td>\n      <td>Paul Bradley</td>\n      <td>M</td>\n      <td>9th</td>\n      <td>Huang High School</td>\n      <td>66</td>\n      <td>79</td>\n    </tr>\n    <tr>\n      <th>1</th>\n      <td>1</td>\n      <td>1</td>\n      <td>Victor Smith</td>\n      <td>M</td>\n      <td>12th</td>\n      <td>Huang High School</td>\n      <td>94</td>\n      <td>61</td>\n    </tr>\n    <tr>\n      <th>2</th>\n      <td>2</td>\n      <td>2</td>\n      <td>Kevin Rodriguez</td>\n      <td>M</td>\n      <td>12th</td>\n      <td>Huang High School</td>\n      <td>90</td>\n      <td>60</td>\n    </tr>\n    <tr>\n      <th>3</th>\n      <td>3</td>\n      <td>3</td>\n      <td>Richard Scott</td>\n      <td>M</td>\n      <td>12th</td>\n      <td>Huang High School</td>\n      <td>67</td>\n      <td>58</td>\n    </tr>\n    <tr>\n      <th>4</th>\n      <td>4</td>\n      <td>4</td>\n      <td>Bonnie Ray</td>\n      <td>F</td>\n      <td>9th</td>\n      <td>Huang High School</td>\n      <td>97</td>\n      <td>84</td>\n    </tr>\n    <tr>\n      <th>...</th>\n      <td>...</td>\n      <td>...</td>\n      <td>...</td>\n      <td>...</td>\n      <td>...</td>\n      <td>...</td>\n      <td>...</td>\n      <td>...</td>\n    </tr>\n    <tr>\n      <th>39165</th>\n      <td>39165</td>\n      <td>39165</td>\n      <td>Donna Howard</td>\n      <td>F</td>\n      <td>12th</td>\n      <td>Thomas High School</td>\n      <td>99</td>\n      <td>90</td>\n    </tr>\n    <tr>\n      <th>39166</th>\n      <td>39166</td>\n      <td>39166</td>\n      <td>Dawn Bell</td>\n      <td>F</td>\n      <td>10th</td>\n      <td>Thomas High School</td>\n      <td>95</td>\n      <td>70</td>\n    </tr>\n    <tr>\n      <th>39167</th>\n      <td>39167</td>\n      <td>39167</td>\n      <td>Rebecca Tanner</td>\n      <td>F</td>\n      <td>9th</td>\n      <td>Thomas High School</td>\n      <td>73</td>\n      <td>84</td>\n    </tr>\n    <tr>\n      <th>39168</th>\n      <td>39168</td>\n      <td>39168</td>\n      <td>Desiree Kidd</td>\n      <td>F</td>\n      <td>10th</td>\n      <td>Thomas High School</td>\n      <td>99</td>\n      <td>90</td>\n    </tr>\n    <tr>\n      <th>39169</th>\n      <td>39169</td>\n      <td>39169</td>\n      <td>Carolyn Jackson</td>\n      <td>F</td>\n      <td>11th</td>\n      <td>Thomas High School</td>\n      <td>95</td>\n      <td>75</td>\n    </tr>\n  </tbody>\n</table>\n<p>39170 rows × 8 columns</p>\n</div>"
     },
     "metadata": {},
     "execution_count": 125
    }
   ]
  },
  {
   "cell_type": "code",
   "execution_count": 126,
   "metadata": {},
   "outputs": [
    {
     "output_type": "execute_result",
     "data": {
      "text/plain": [
       "       Unnamed: 0  Student ID     student_name gender grade  \\\n",
       "0               0           0     Paul Bradley      M   9th   \n",
       "1               1           1     Victor Smith      M  12th   \n",
       "2               2           2  Kevin Rodriguez      M  12th   \n",
       "3               3           3    Richard Scott      M  12th   \n",
       "4               4           4       Bonnie Ray      F   9th   \n",
       "...           ...         ...              ...    ...   ...   \n",
       "39165       39165       39165     Donna Howard      F  12th   \n",
       "39166       39166       39166        Dawn Bell      F  10th   \n",
       "39167       39167       39167   Rebecca Tanner      F   9th   \n",
       "39168       39168       39168     Desiree Kidd      F  10th   \n",
       "39169       39169       39169  Carolyn Jackson      F  11th   \n",
       "\n",
       "              school_name  reading_score  math_score  School ID      type  \\\n",
       "0       Huang High School             66          79          0  District   \n",
       "1       Huang High School             94          61          0  District   \n",
       "2       Huang High School             90          60          0  District   \n",
       "3       Huang High School             67          58          0  District   \n",
       "4       Huang High School             97          84          0  District   \n",
       "...                   ...            ...         ...        ...       ...   \n",
       "39165  Thomas High School             99          90         14   Charter   \n",
       "39166  Thomas High School             95          70         14   Charter   \n",
       "39167  Thomas High School             73          84         14   Charter   \n",
       "39168  Thomas High School             99          90         14   Charter   \n",
       "39169  Thomas High School             95          75         14   Charter   \n",
       "\n",
       "       size   budget  \n",
       "0      2917  1910635  \n",
       "1      2917  1910635  \n",
       "2      2917  1910635  \n",
       "3      2917  1910635  \n",
       "4      2917  1910635  \n",
       "...     ...      ...  \n",
       "39165  1635  1043130  \n",
       "39166  1635  1043130  \n",
       "39167  1635  1043130  \n",
       "39168  1635  1043130  \n",
       "39169  1635  1043130  \n",
       "\n",
       "[39170 rows x 12 columns]"
      ],
      "text/html": "<div>\n<style scoped>\n    .dataframe tbody tr th:only-of-type {\n        vertical-align: middle;\n    }\n\n    .dataframe tbody tr th {\n        vertical-align: top;\n    }\n\n    .dataframe thead th {\n        text-align: right;\n    }\n</style>\n<table border=\"1\" class=\"dataframe\">\n  <thead>\n    <tr style=\"text-align: right;\">\n      <th></th>\n      <th>Unnamed: 0</th>\n      <th>Student ID</th>\n      <th>student_name</th>\n      <th>gender</th>\n      <th>grade</th>\n      <th>school_name</th>\n      <th>reading_score</th>\n      <th>math_score</th>\n      <th>School ID</th>\n      <th>type</th>\n      <th>size</th>\n      <th>budget</th>\n    </tr>\n  </thead>\n  <tbody>\n    <tr>\n      <th>0</th>\n      <td>0</td>\n      <td>0</td>\n      <td>Paul Bradley</td>\n      <td>M</td>\n      <td>9th</td>\n      <td>Huang High School</td>\n      <td>66</td>\n      <td>79</td>\n      <td>0</td>\n      <td>District</td>\n      <td>2917</td>\n      <td>1910635</td>\n    </tr>\n    <tr>\n      <th>1</th>\n      <td>1</td>\n      <td>1</td>\n      <td>Victor Smith</td>\n      <td>M</td>\n      <td>12th</td>\n      <td>Huang High School</td>\n      <td>94</td>\n      <td>61</td>\n      <td>0</td>\n      <td>District</td>\n      <td>2917</td>\n      <td>1910635</td>\n    </tr>\n    <tr>\n      <th>2</th>\n      <td>2</td>\n      <td>2</td>\n      <td>Kevin Rodriguez</td>\n      <td>M</td>\n      <td>12th</td>\n      <td>Huang High School</td>\n      <td>90</td>\n      <td>60</td>\n      <td>0</td>\n      <td>District</td>\n      <td>2917</td>\n      <td>1910635</td>\n    </tr>\n    <tr>\n      <th>3</th>\n      <td>3</td>\n      <td>3</td>\n      <td>Richard Scott</td>\n      <td>M</td>\n      <td>12th</td>\n      <td>Huang High School</td>\n      <td>67</td>\n      <td>58</td>\n      <td>0</td>\n      <td>District</td>\n      <td>2917</td>\n      <td>1910635</td>\n    </tr>\n    <tr>\n      <th>4</th>\n      <td>4</td>\n      <td>4</td>\n      <td>Bonnie Ray</td>\n      <td>F</td>\n      <td>9th</td>\n      <td>Huang High School</td>\n      <td>97</td>\n      <td>84</td>\n      <td>0</td>\n      <td>District</td>\n      <td>2917</td>\n      <td>1910635</td>\n    </tr>\n    <tr>\n      <th>...</th>\n      <td>...</td>\n      <td>...</td>\n      <td>...</td>\n      <td>...</td>\n      <td>...</td>\n      <td>...</td>\n      <td>...</td>\n      <td>...</td>\n      <td>...</td>\n      <td>...</td>\n      <td>...</td>\n      <td>...</td>\n    </tr>\n    <tr>\n      <th>39165</th>\n      <td>39165</td>\n      <td>39165</td>\n      <td>Donna Howard</td>\n      <td>F</td>\n      <td>12th</td>\n      <td>Thomas High School</td>\n      <td>99</td>\n      <td>90</td>\n      <td>14</td>\n      <td>Charter</td>\n      <td>1635</td>\n      <td>1043130</td>\n    </tr>\n    <tr>\n      <th>39166</th>\n      <td>39166</td>\n      <td>39166</td>\n      <td>Dawn Bell</td>\n      <td>F</td>\n      <td>10th</td>\n      <td>Thomas High School</td>\n      <td>95</td>\n      <td>70</td>\n      <td>14</td>\n      <td>Charter</td>\n      <td>1635</td>\n      <td>1043130</td>\n    </tr>\n    <tr>\n      <th>39167</th>\n      <td>39167</td>\n      <td>39167</td>\n      <td>Rebecca Tanner</td>\n      <td>F</td>\n      <td>9th</td>\n      <td>Thomas High School</td>\n      <td>73</td>\n      <td>84</td>\n      <td>14</td>\n      <td>Charter</td>\n      <td>1635</td>\n      <td>1043130</td>\n    </tr>\n    <tr>\n      <th>39168</th>\n      <td>39168</td>\n      <td>39168</td>\n      <td>Desiree Kidd</td>\n      <td>F</td>\n      <td>10th</td>\n      <td>Thomas High School</td>\n      <td>99</td>\n      <td>90</td>\n      <td>14</td>\n      <td>Charter</td>\n      <td>1635</td>\n      <td>1043130</td>\n    </tr>\n    <tr>\n      <th>39169</th>\n      <td>39169</td>\n      <td>39169</td>\n      <td>Carolyn Jackson</td>\n      <td>F</td>\n      <td>11th</td>\n      <td>Thomas High School</td>\n      <td>95</td>\n      <td>75</td>\n      <td>14</td>\n      <td>Charter</td>\n      <td>1635</td>\n      <td>1043130</td>\n    </tr>\n  </tbody>\n</table>\n<p>39170 rows × 12 columns</p>\n</div>"
     },
     "metadata": {},
     "execution_count": 126
    }
   ],
   "source": [
    "school_data_complete_df = pd.merge(clean_students_df, schools_data_df, on=[\"school_name\", \"school_name\"])\n",
    "school_data_complete_df"
   ]
  },
  {
   "cell_type": "code",
   "execution_count": 127,
   "metadata": {},
   "outputs": [
    {
     "output_type": "execute_result",
     "data": {
      "text/plain": [
       "Unnamed: 0       39170\n",
       "Student ID       39170\n",
       "student_name     39170\n",
       "gender           39170\n",
       "grade            39170\n",
       "school_name      39170\n",
       "reading_score    39170\n",
       "math_score       39170\n",
       "School ID        39170\n",
       "type             39170\n",
       "size             39170\n",
       "budget           39170\n",
       "dtype: int64"
      ]
     },
     "metadata": {},
     "execution_count": 127
    }
   ],
   "source": [
    "## get the total number of students\n",
    "student_count = school_data_complete_df.count()\n",
    "student_count"
   ]
  },
  {
   "cell_type": "code",
   "execution_count": 128,
   "metadata": {},
   "outputs": [
    {
     "output_type": "execute_result",
     "data": {
      "text/plain": [
       "15"
      ]
     },
     "metadata": {},
     "execution_count": 128
    }
   ],
   "source": [
    "school_count = schools_data_df.school_name.count()\n",
    "school_count"
   ]
  },
  {
   "cell_type": "code",
   "execution_count": 129,
   "metadata": {},
   "outputs": [
    {
     "output_type": "execute_result",
     "data": {
      "text/plain": [
       "array(['Huang High School', 'Figueroa High School', 'Shelton High School',\n",
       "       'Hernandez High School', 'Griffin High School',\n",
       "       'Wilson High School', 'Cabrera High School', 'Bailey High School',\n",
       "       'Holden High School', 'Pena High School', 'Wright High School',\n",
       "       'Rodriguez High School', 'Johnson High School', 'Ford High School',\n",
       "       'Thomas High School'], dtype=object)"
      ]
     },
     "metadata": {},
     "execution_count": 129
    }
   ],
   "source": [
    "## calculate the total number of schools\n",
    "school_count = school_data_complete_df[\"school_name\"].unique()\n",
    "school_count"
   ]
  },
  {
   "cell_type": "code",
   "execution_count": 130,
   "metadata": {},
   "outputs": [
    {
     "output_type": "execute_result",
     "data": {
      "text/plain": [
       "15"
      ]
     },
     "metadata": {},
     "execution_count": 130
    }
   ],
   "source": [
    "total_schools = len(school_data_complete_df[\"school_name\"].unique())\n",
    "total_schools"
   ]
  },
  {
   "cell_type": "code",
   "execution_count": 131,
   "metadata": {},
   "outputs": [
    {
     "output_type": "execute_result",
     "data": {
      "text/plain": [
       "24649428"
      ]
     },
     "metadata": {},
     "execution_count": 131
    }
   ],
   "source": [
    "##calculate the total budget\n",
    "total_budget = schools_data_df['budget'].sum()\n",
    "total_budget"
   ]
  },
  {
   "cell_type": "code",
   "execution_count": 132,
   "metadata": {},
   "outputs": [
    {
     "output_type": "execute_result",
     "data": {
      "text/plain": [
       "81.87784018381414"
      ]
     },
     "metadata": {},
     "execution_count": 132
    }
   ],
   "source": [
    "## find the average reading score\n",
    "avg_reading = school_data_complete_df['reading_score'].mean()\n",
    "avg_reading"
   ]
  },
  {
   "cell_type": "code",
   "execution_count": 133,
   "metadata": {},
   "outputs": [
    {
     "output_type": "execute_result",
     "data": {
      "text/plain": [
       "78.98537145774827"
      ]
     },
     "metadata": {},
     "execution_count": 133
    }
   ],
   "source": [
    "## find the average match score\n",
    "avg_math = school_data_complete_df['math_score'].mean()\n",
    "avg_math"
   ]
  },
  {
   "cell_type": "code",
   "execution_count": 134,
   "metadata": {},
   "outputs": [
    {
     "output_type": "execute_result",
     "data": {
      "text/plain": [
       "       Unnamed: 0  Student ID     student_name gender grade  \\\n",
       "0               0           0     Paul Bradley      M   9th   \n",
       "4               4           4       Bonnie Ray      F   9th   \n",
       "5               5           5    Bryan Miranda      M   9th   \n",
       "6               6           6    Sheena Carter      F  11th   \n",
       "8               8           8     Michael Roth      M  10th   \n",
       "...           ...         ...              ...    ...   ...   \n",
       "39165       39165       39165     Donna Howard      F  12th   \n",
       "39166       39166       39166        Dawn Bell      F  10th   \n",
       "39167       39167       39167   Rebecca Tanner      F   9th   \n",
       "39168       39168       39168     Desiree Kidd      F  10th   \n",
       "39169       39169       39169  Carolyn Jackson      F  11th   \n",
       "\n",
       "              school_name  reading_score  math_score  School ID      type  \\\n",
       "0       Huang High School             66          79          0  District   \n",
       "4       Huang High School             97          84          0  District   \n",
       "5       Huang High School             94          94          0  District   \n",
       "6       Huang High School             82          80          0  District   \n",
       "8       Huang High School             95          87          0  District   \n",
       "...                   ...            ...         ...        ...       ...   \n",
       "39165  Thomas High School             99          90         14   Charter   \n",
       "39166  Thomas High School             95          70         14   Charter   \n",
       "39167  Thomas High School             73          84         14   Charter   \n",
       "39168  Thomas High School             99          90         14   Charter   \n",
       "39169  Thomas High School             95          75         14   Charter   \n",
       "\n",
       "       size   budget  \n",
       "0      2917  1910635  \n",
       "4      2917  1910635  \n",
       "5      2917  1910635  \n",
       "6      2917  1910635  \n",
       "8      2917  1910635  \n",
       "...     ...      ...  \n",
       "39165  1635  1043130  \n",
       "39166  1635  1043130  \n",
       "39167  1635  1043130  \n",
       "39168  1635  1043130  \n",
       "39169  1635  1043130  \n",
       "\n",
       "[29370 rows x 12 columns]"
      ],
      "text/html": "<div>\n<style scoped>\n    .dataframe tbody tr th:only-of-type {\n        vertical-align: middle;\n    }\n\n    .dataframe tbody tr th {\n        vertical-align: top;\n    }\n\n    .dataframe thead th {\n        text-align: right;\n    }\n</style>\n<table border=\"1\" class=\"dataframe\">\n  <thead>\n    <tr style=\"text-align: right;\">\n      <th></th>\n      <th>Unnamed: 0</th>\n      <th>Student ID</th>\n      <th>student_name</th>\n      <th>gender</th>\n      <th>grade</th>\n      <th>school_name</th>\n      <th>reading_score</th>\n      <th>math_score</th>\n      <th>School ID</th>\n      <th>type</th>\n      <th>size</th>\n      <th>budget</th>\n    </tr>\n  </thead>\n  <tbody>\n    <tr>\n      <th>0</th>\n      <td>0</td>\n      <td>0</td>\n      <td>Paul Bradley</td>\n      <td>M</td>\n      <td>9th</td>\n      <td>Huang High School</td>\n      <td>66</td>\n      <td>79</td>\n      <td>0</td>\n      <td>District</td>\n      <td>2917</td>\n      <td>1910635</td>\n    </tr>\n    <tr>\n      <th>4</th>\n      <td>4</td>\n      <td>4</td>\n      <td>Bonnie Ray</td>\n      <td>F</td>\n      <td>9th</td>\n      <td>Huang High School</td>\n      <td>97</td>\n      <td>84</td>\n      <td>0</td>\n      <td>District</td>\n      <td>2917</td>\n      <td>1910635</td>\n    </tr>\n    <tr>\n      <th>5</th>\n      <td>5</td>\n      <td>5</td>\n      <td>Bryan Miranda</td>\n      <td>M</td>\n      <td>9th</td>\n      <td>Huang High School</td>\n      <td>94</td>\n      <td>94</td>\n      <td>0</td>\n      <td>District</td>\n      <td>2917</td>\n      <td>1910635</td>\n    </tr>\n    <tr>\n      <th>6</th>\n      <td>6</td>\n      <td>6</td>\n      <td>Sheena Carter</td>\n      <td>F</td>\n      <td>11th</td>\n      <td>Huang High School</td>\n      <td>82</td>\n      <td>80</td>\n      <td>0</td>\n      <td>District</td>\n      <td>2917</td>\n      <td>1910635</td>\n    </tr>\n    <tr>\n      <th>8</th>\n      <td>8</td>\n      <td>8</td>\n      <td>Michael Roth</td>\n      <td>M</td>\n      <td>10th</td>\n      <td>Huang High School</td>\n      <td>95</td>\n      <td>87</td>\n      <td>0</td>\n      <td>District</td>\n      <td>2917</td>\n      <td>1910635</td>\n    </tr>\n    <tr>\n      <th>...</th>\n      <td>...</td>\n      <td>...</td>\n      <td>...</td>\n      <td>...</td>\n      <td>...</td>\n      <td>...</td>\n      <td>...</td>\n      <td>...</td>\n      <td>...</td>\n      <td>...</td>\n      <td>...</td>\n      <td>...</td>\n    </tr>\n    <tr>\n      <th>39165</th>\n      <td>39165</td>\n      <td>39165</td>\n      <td>Donna Howard</td>\n      <td>F</td>\n      <td>12th</td>\n      <td>Thomas High School</td>\n      <td>99</td>\n      <td>90</td>\n      <td>14</td>\n      <td>Charter</td>\n      <td>1635</td>\n      <td>1043130</td>\n    </tr>\n    <tr>\n      <th>39166</th>\n      <td>39166</td>\n      <td>39166</td>\n      <td>Dawn Bell</td>\n      <td>F</td>\n      <td>10th</td>\n      <td>Thomas High School</td>\n      <td>95</td>\n      <td>70</td>\n      <td>14</td>\n      <td>Charter</td>\n      <td>1635</td>\n      <td>1043130</td>\n    </tr>\n    <tr>\n      <th>39167</th>\n      <td>39167</td>\n      <td>39167</td>\n      <td>Rebecca Tanner</td>\n      <td>F</td>\n      <td>9th</td>\n      <td>Thomas High School</td>\n      <td>73</td>\n      <td>84</td>\n      <td>14</td>\n      <td>Charter</td>\n      <td>1635</td>\n      <td>1043130</td>\n    </tr>\n    <tr>\n      <th>39168</th>\n      <td>39168</td>\n      <td>39168</td>\n      <td>Desiree Kidd</td>\n      <td>F</td>\n      <td>10th</td>\n      <td>Thomas High School</td>\n      <td>99</td>\n      <td>90</td>\n      <td>14</td>\n      <td>Charter</td>\n      <td>1635</td>\n      <td>1043130</td>\n    </tr>\n    <tr>\n      <th>39169</th>\n      <td>39169</td>\n      <td>39169</td>\n      <td>Carolyn Jackson</td>\n      <td>F</td>\n      <td>11th</td>\n      <td>Thomas High School</td>\n      <td>95</td>\n      <td>75</td>\n      <td>14</td>\n      <td>Charter</td>\n      <td>1635</td>\n      <td>1043130</td>\n    </tr>\n  </tbody>\n</table>\n<p>29370 rows × 12 columns</p>\n</div>"
     },
     "metadata": {},
     "execution_count": 134
    }
   ],
   "source": [
    "## add students with passing math scores to new DFs\n",
    "passing_math = school_data_complete_df[school_data_complete_df['math_score'] >=70]\n",
    "passing_math"
   ]
  },
  {
   "cell_type": "code",
   "execution_count": 135,
   "metadata": {},
   "outputs": [
    {
     "output_type": "execute_result",
     "data": {
      "text/plain": [
       "       Unnamed: 0  Student ID     student_name gender grade  \\\n",
       "1               1           1     Victor Smith      M  12th   \n",
       "2               2           2  Kevin Rodriguez      M  12th   \n",
       "4               4           4       Bonnie Ray      F   9th   \n",
       "5               5           5    Bryan Miranda      M   9th   \n",
       "6               6           6    Sheena Carter      F  11th   \n",
       "...           ...         ...              ...    ...   ...   \n",
       "39165       39165       39165     Donna Howard      F  12th   \n",
       "39166       39166       39166        Dawn Bell      F  10th   \n",
       "39167       39167       39167   Rebecca Tanner      F   9th   \n",
       "39168       39168       39168     Desiree Kidd      F  10th   \n",
       "39169       39169       39169  Carolyn Jackson      F  11th   \n",
       "\n",
       "              school_name  reading_score  math_score  School ID      type  \\\n",
       "1       Huang High School             94          61          0  District   \n",
       "2       Huang High School             90          60          0  District   \n",
       "4       Huang High School             97          84          0  District   \n",
       "5       Huang High School             94          94          0  District   \n",
       "6       Huang High School             82          80          0  District   \n",
       "...                   ...            ...         ...        ...       ...   \n",
       "39165  Thomas High School             99          90         14   Charter   \n",
       "39166  Thomas High School             95          70         14   Charter   \n",
       "39167  Thomas High School             73          84         14   Charter   \n",
       "39168  Thomas High School             99          90         14   Charter   \n",
       "39169  Thomas High School             95          75         14   Charter   \n",
       "\n",
       "       size   budget  \n",
       "1      2917  1910635  \n",
       "2      2917  1910635  \n",
       "4      2917  1910635  \n",
       "5      2917  1910635  \n",
       "6      2917  1910635  \n",
       "...     ...      ...  \n",
       "39165  1635  1043130  \n",
       "39166  1635  1043130  \n",
       "39167  1635  1043130  \n",
       "39168  1635  1043130  \n",
       "39169  1635  1043130  \n",
       "\n",
       "[33610 rows x 12 columns]"
      ],
      "text/html": "<div>\n<style scoped>\n    .dataframe tbody tr th:only-of-type {\n        vertical-align: middle;\n    }\n\n    .dataframe tbody tr th {\n        vertical-align: top;\n    }\n\n    .dataframe thead th {\n        text-align: right;\n    }\n</style>\n<table border=\"1\" class=\"dataframe\">\n  <thead>\n    <tr style=\"text-align: right;\">\n      <th></th>\n      <th>Unnamed: 0</th>\n      <th>Student ID</th>\n      <th>student_name</th>\n      <th>gender</th>\n      <th>grade</th>\n      <th>school_name</th>\n      <th>reading_score</th>\n      <th>math_score</th>\n      <th>School ID</th>\n      <th>type</th>\n      <th>size</th>\n      <th>budget</th>\n    </tr>\n  </thead>\n  <tbody>\n    <tr>\n      <th>1</th>\n      <td>1</td>\n      <td>1</td>\n      <td>Victor Smith</td>\n      <td>M</td>\n      <td>12th</td>\n      <td>Huang High School</td>\n      <td>94</td>\n      <td>61</td>\n      <td>0</td>\n      <td>District</td>\n      <td>2917</td>\n      <td>1910635</td>\n    </tr>\n    <tr>\n      <th>2</th>\n      <td>2</td>\n      <td>2</td>\n      <td>Kevin Rodriguez</td>\n      <td>M</td>\n      <td>12th</td>\n      <td>Huang High School</td>\n      <td>90</td>\n      <td>60</td>\n      <td>0</td>\n      <td>District</td>\n      <td>2917</td>\n      <td>1910635</td>\n    </tr>\n    <tr>\n      <th>4</th>\n      <td>4</td>\n      <td>4</td>\n      <td>Bonnie Ray</td>\n      <td>F</td>\n      <td>9th</td>\n      <td>Huang High School</td>\n      <td>97</td>\n      <td>84</td>\n      <td>0</td>\n      <td>District</td>\n      <td>2917</td>\n      <td>1910635</td>\n    </tr>\n    <tr>\n      <th>5</th>\n      <td>5</td>\n      <td>5</td>\n      <td>Bryan Miranda</td>\n      <td>M</td>\n      <td>9th</td>\n      <td>Huang High School</td>\n      <td>94</td>\n      <td>94</td>\n      <td>0</td>\n      <td>District</td>\n      <td>2917</td>\n      <td>1910635</td>\n    </tr>\n    <tr>\n      <th>6</th>\n      <td>6</td>\n      <td>6</td>\n      <td>Sheena Carter</td>\n      <td>F</td>\n      <td>11th</td>\n      <td>Huang High School</td>\n      <td>82</td>\n      <td>80</td>\n      <td>0</td>\n      <td>District</td>\n      <td>2917</td>\n      <td>1910635</td>\n    </tr>\n    <tr>\n      <th>...</th>\n      <td>...</td>\n      <td>...</td>\n      <td>...</td>\n      <td>...</td>\n      <td>...</td>\n      <td>...</td>\n      <td>...</td>\n      <td>...</td>\n      <td>...</td>\n      <td>...</td>\n      <td>...</td>\n      <td>...</td>\n    </tr>\n    <tr>\n      <th>39165</th>\n      <td>39165</td>\n      <td>39165</td>\n      <td>Donna Howard</td>\n      <td>F</td>\n      <td>12th</td>\n      <td>Thomas High School</td>\n      <td>99</td>\n      <td>90</td>\n      <td>14</td>\n      <td>Charter</td>\n      <td>1635</td>\n      <td>1043130</td>\n    </tr>\n    <tr>\n      <th>39166</th>\n      <td>39166</td>\n      <td>39166</td>\n      <td>Dawn Bell</td>\n      <td>F</td>\n      <td>10th</td>\n      <td>Thomas High School</td>\n      <td>95</td>\n      <td>70</td>\n      <td>14</td>\n      <td>Charter</td>\n      <td>1635</td>\n      <td>1043130</td>\n    </tr>\n    <tr>\n      <th>39167</th>\n      <td>39167</td>\n      <td>39167</td>\n      <td>Rebecca Tanner</td>\n      <td>F</td>\n      <td>9th</td>\n      <td>Thomas High School</td>\n      <td>73</td>\n      <td>84</td>\n      <td>14</td>\n      <td>Charter</td>\n      <td>1635</td>\n      <td>1043130</td>\n    </tr>\n    <tr>\n      <th>39168</th>\n      <td>39168</td>\n      <td>39168</td>\n      <td>Desiree Kidd</td>\n      <td>F</td>\n      <td>10th</td>\n      <td>Thomas High School</td>\n      <td>99</td>\n      <td>90</td>\n      <td>14</td>\n      <td>Charter</td>\n      <td>1635</td>\n      <td>1043130</td>\n    </tr>\n    <tr>\n      <th>39169</th>\n      <td>39169</td>\n      <td>39169</td>\n      <td>Carolyn Jackson</td>\n      <td>F</td>\n      <td>11th</td>\n      <td>Thomas High School</td>\n      <td>95</td>\n      <td>75</td>\n      <td>14</td>\n      <td>Charter</td>\n      <td>1635</td>\n      <td>1043130</td>\n    </tr>\n  </tbody>\n</table>\n<p>33610 rows × 12 columns</p>\n</div>"
     },
     "metadata": {},
     "execution_count": 135
    }
   ],
   "source": [
    "## add students with passing reading scores to new DFs\n",
    "passing_reading = school_data_complete_df[school_data_complete_df['reading_score'] >=70]\n",
    "passing_reading"
   ]
  },
  {
   "cell_type": "code",
   "execution_count": 136,
   "metadata": {},
   "outputs": [],
   "source": [
    "## total students with passing_math score\n",
    "passing_math_count = passing_math[\"student_name\"].count()\n",
    "\n",
    "## total students with passing_reading score\n",
    "passing_reading_count = passing_reading['student_name'].count()"
   ]
  },
  {
   "cell_type": "code",
   "execution_count": 137,
   "metadata": {},
   "outputs": [
    {
     "output_type": "stream",
     "name": "stdout",
     "text": [
      "29370\n33610\n"
     ]
    }
   ],
   "source": [
    "print(passing_math_count)\n",
    "print(passing_reading_count)"
   ]
  },
  {
   "cell_type": "code",
   "execution_count": 138,
   "metadata": {},
   "outputs": [
    {
     "output_type": "execute_result",
     "data": {
      "text/plain": [
       "39170"
      ]
     },
     "metadata": {},
     "execution_count": 138
    }
   ],
   "source": [
    "student_count = school_data_complete_df['Student ID'].count()\n",
    "student_count"
   ]
  },
  {
   "cell_type": "code",
   "execution_count": 139,
   "metadata": {},
   "outputs": [
    {
     "output_type": "execute_result",
     "data": {
      "text/plain": [
       "74.9808526933878"
      ]
     },
     "metadata": {},
     "execution_count": 139
    }
   ],
   "source": [
    "passing_math_percentage = passing_math_count/float(student_count) *100\n",
    "passing_math_percentage"
   ]
  },
  {
   "cell_type": "code",
   "execution_count": 140,
   "metadata": {},
   "outputs": [
    {
     "output_type": "execute_result",
     "data": {
      "text/plain": [
       "85.80546336482001"
      ]
     },
     "metadata": {},
     "execution_count": 140
    }
   ],
   "source": [
    "passing_reading_percentage = passing_reading_count/float(student_count) *100\n",
    "passing_reading_percentage"
   ]
  },
  {
   "cell_type": "code",
   "execution_count": 141,
   "metadata": {},
   "outputs": [
    {
     "output_type": "execute_result",
     "data": {
      "text/plain": [
       "       Unnamed: 0  Student ID     student_name gender grade  \\\n",
       "4               4           4       Bonnie Ray      F   9th   \n",
       "5               5           5    Bryan Miranda      M   9th   \n",
       "6               6           6    Sheena Carter      F  11th   \n",
       "8               8           8     Michael Roth      M  10th   \n",
       "9               9           9   Matthew Greene      M  10th   \n",
       "...           ...         ...              ...    ...   ...   \n",
       "39165       39165       39165     Donna Howard      F  12th   \n",
       "39166       39166       39166        Dawn Bell      F  10th   \n",
       "39167       39167       39167   Rebecca Tanner      F   9th   \n",
       "39168       39168       39168     Desiree Kidd      F  10th   \n",
       "39169       39169       39169  Carolyn Jackson      F  11th   \n",
       "\n",
       "              school_name  reading_score  math_score  School ID      type  \\\n",
       "4       Huang High School             97          84          0  District   \n",
       "5       Huang High School             94          94          0  District   \n",
       "6       Huang High School             82          80          0  District   \n",
       "8       Huang High School             95          87          0  District   \n",
       "9       Huang High School             96          84          0  District   \n",
       "...                   ...            ...         ...        ...       ...   \n",
       "39165  Thomas High School             99          90         14   Charter   \n",
       "39166  Thomas High School             95          70         14   Charter   \n",
       "39167  Thomas High School             73          84         14   Charter   \n",
       "39168  Thomas High School             99          90         14   Charter   \n",
       "39169  Thomas High School             95          75         14   Charter   \n",
       "\n",
       "       size   budget  \n",
       "4      2917  1910635  \n",
       "5      2917  1910635  \n",
       "6      2917  1910635  \n",
       "8      2917  1910635  \n",
       "9      2917  1910635  \n",
       "...     ...      ...  \n",
       "39165  1635  1043130  \n",
       "39166  1635  1043130  \n",
       "39167  1635  1043130  \n",
       "39168  1635  1043130  \n",
       "39169  1635  1043130  \n",
       "\n",
       "[25528 rows x 12 columns]"
      ],
      "text/html": "<div>\n<style scoped>\n    .dataframe tbody tr th:only-of-type {\n        vertical-align: middle;\n    }\n\n    .dataframe tbody tr th {\n        vertical-align: top;\n    }\n\n    .dataframe thead th {\n        text-align: right;\n    }\n</style>\n<table border=\"1\" class=\"dataframe\">\n  <thead>\n    <tr style=\"text-align: right;\">\n      <th></th>\n      <th>Unnamed: 0</th>\n      <th>Student ID</th>\n      <th>student_name</th>\n      <th>gender</th>\n      <th>grade</th>\n      <th>school_name</th>\n      <th>reading_score</th>\n      <th>math_score</th>\n      <th>School ID</th>\n      <th>type</th>\n      <th>size</th>\n      <th>budget</th>\n    </tr>\n  </thead>\n  <tbody>\n    <tr>\n      <th>4</th>\n      <td>4</td>\n      <td>4</td>\n      <td>Bonnie Ray</td>\n      <td>F</td>\n      <td>9th</td>\n      <td>Huang High School</td>\n      <td>97</td>\n      <td>84</td>\n      <td>0</td>\n      <td>District</td>\n      <td>2917</td>\n      <td>1910635</td>\n    </tr>\n    <tr>\n      <th>5</th>\n      <td>5</td>\n      <td>5</td>\n      <td>Bryan Miranda</td>\n      <td>M</td>\n      <td>9th</td>\n      <td>Huang High School</td>\n      <td>94</td>\n      <td>94</td>\n      <td>0</td>\n      <td>District</td>\n      <td>2917</td>\n      <td>1910635</td>\n    </tr>\n    <tr>\n      <th>6</th>\n      <td>6</td>\n      <td>6</td>\n      <td>Sheena Carter</td>\n      <td>F</td>\n      <td>11th</td>\n      <td>Huang High School</td>\n      <td>82</td>\n      <td>80</td>\n      <td>0</td>\n      <td>District</td>\n      <td>2917</td>\n      <td>1910635</td>\n    </tr>\n    <tr>\n      <th>8</th>\n      <td>8</td>\n      <td>8</td>\n      <td>Michael Roth</td>\n      <td>M</td>\n      <td>10th</td>\n      <td>Huang High School</td>\n      <td>95</td>\n      <td>87</td>\n      <td>0</td>\n      <td>District</td>\n      <td>2917</td>\n      <td>1910635</td>\n    </tr>\n    <tr>\n      <th>9</th>\n      <td>9</td>\n      <td>9</td>\n      <td>Matthew Greene</td>\n      <td>M</td>\n      <td>10th</td>\n      <td>Huang High School</td>\n      <td>96</td>\n      <td>84</td>\n      <td>0</td>\n      <td>District</td>\n      <td>2917</td>\n      <td>1910635</td>\n    </tr>\n    <tr>\n      <th>...</th>\n      <td>...</td>\n      <td>...</td>\n      <td>...</td>\n      <td>...</td>\n      <td>...</td>\n      <td>...</td>\n      <td>...</td>\n      <td>...</td>\n      <td>...</td>\n      <td>...</td>\n      <td>...</td>\n      <td>...</td>\n    </tr>\n    <tr>\n      <th>39165</th>\n      <td>39165</td>\n      <td>39165</td>\n      <td>Donna Howard</td>\n      <td>F</td>\n      <td>12th</td>\n      <td>Thomas High School</td>\n      <td>99</td>\n      <td>90</td>\n      <td>14</td>\n      <td>Charter</td>\n      <td>1635</td>\n      <td>1043130</td>\n    </tr>\n    <tr>\n      <th>39166</th>\n      <td>39166</td>\n      <td>39166</td>\n      <td>Dawn Bell</td>\n      <td>F</td>\n      <td>10th</td>\n      <td>Thomas High School</td>\n      <td>95</td>\n      <td>70</td>\n      <td>14</td>\n      <td>Charter</td>\n      <td>1635</td>\n      <td>1043130</td>\n    </tr>\n    <tr>\n      <th>39167</th>\n      <td>39167</td>\n      <td>39167</td>\n      <td>Rebecca Tanner</td>\n      <td>F</td>\n      <td>9th</td>\n      <td>Thomas High School</td>\n      <td>73</td>\n      <td>84</td>\n      <td>14</td>\n      <td>Charter</td>\n      <td>1635</td>\n      <td>1043130</td>\n    </tr>\n    <tr>\n      <th>39168</th>\n      <td>39168</td>\n      <td>39168</td>\n      <td>Desiree Kidd</td>\n      <td>F</td>\n      <td>10th</td>\n      <td>Thomas High School</td>\n      <td>99</td>\n      <td>90</td>\n      <td>14</td>\n      <td>Charter</td>\n      <td>1635</td>\n      <td>1043130</td>\n    </tr>\n    <tr>\n      <th>39169</th>\n      <td>39169</td>\n      <td>39169</td>\n      <td>Carolyn Jackson</td>\n      <td>F</td>\n      <td>11th</td>\n      <td>Thomas High School</td>\n      <td>95</td>\n      <td>75</td>\n      <td>14</td>\n      <td>Charter</td>\n      <td>1635</td>\n      <td>1043130</td>\n    </tr>\n  </tbody>\n</table>\n<p>25528 rows × 12 columns</p>\n</div>"
     },
     "metadata": {},
     "execution_count": 141
    }
   ],
   "source": [
    "passed_both = school_data_complete_df[(school_data_complete_df['reading_score'] >=70) & (school_data_complete_df['math_score'] >=70)]\n",
    "passed_both"
   ]
  },
  {
   "cell_type": "code",
   "execution_count": 142,
   "metadata": {},
   "outputs": [
    {
     "output_type": "execute_result",
     "data": {
      "text/plain": [
       "25528"
      ]
     },
     "metadata": {},
     "execution_count": 142
    }
   ],
   "source": [
    "passed_both_count = passed_both.student_name.count()\n",
    "passed_both_count"
   ]
  },
  {
   "cell_type": "code",
   "execution_count": 143,
   "metadata": {},
   "outputs": [
    {
     "output_type": "execute_result",
     "data": {
      "text/plain": [
       "65.17232575950983"
      ]
     },
     "metadata": {},
     "execution_count": 143
    }
   ],
   "source": [
    "passed_both_percentage = passed_both_count / student_count *100\n",
    "passed_both_percentage"
   ]
  },
  {
   "cell_type": "code",
   "execution_count": 144,
   "metadata": {},
   "outputs": [
    {
     "output_type": "execute_result",
     "data": {
      "text/plain": [
       "   Total Schools  Total Students  Total Budget  Average Math Score  \\\n",
       "0             15           39170      24649428           78.985371   \n",
       "\n",
       "   Average Reading Score  % Passing Math  % Passing Reading  % Overall Passing  \n",
       "0               81.87784       74.980853          85.805463          65.172326  "
      ],
      "text/html": "<div>\n<style scoped>\n    .dataframe tbody tr th:only-of-type {\n        vertical-align: middle;\n    }\n\n    .dataframe tbody tr th {\n        vertical-align: top;\n    }\n\n    .dataframe thead th {\n        text-align: right;\n    }\n</style>\n<table border=\"1\" class=\"dataframe\">\n  <thead>\n    <tr style=\"text-align: right;\">\n      <th></th>\n      <th>Total Schools</th>\n      <th>Total Students</th>\n      <th>Total Budget</th>\n      <th>Average Math Score</th>\n      <th>Average Reading Score</th>\n      <th>% Passing Math</th>\n      <th>% Passing Reading</th>\n      <th>% Overall Passing</th>\n    </tr>\n  </thead>\n  <tbody>\n    <tr>\n      <th>0</th>\n      <td>15</td>\n      <td>39170</td>\n      <td>24649428</td>\n      <td>78.985371</td>\n      <td>81.87784</td>\n      <td>74.980853</td>\n      <td>85.805463</td>\n      <td>65.172326</td>\n    </tr>\n  </tbody>\n</table>\n</div>"
     },
     "metadata": {},
     "execution_count": 144
    }
   ],
   "source": [
    "# Adding a list of values with keys to create a new DataFrame.\n",
    "district_summary_df = pd.DataFrame(\n",
    "          [{\"Total Schools\": total_schools,\n",
    "          \"Total Students\": student_count,\n",
    "          \"Total Budget\": total_budget,\n",
    "          \"Average Math Score\": avg_math,\n",
    "          \"Average Reading Score\": avg_reading,\n",
    "          \"% Passing Math\": passing_math_percentage,\n",
    "         \"% Passing Reading\": passing_reading_percentage,\n",
    "        \"% Overall Passing\": passed_both_percentage}])\n",
    "district_summary_df"
   ]
  },
  {
   "cell_type": "code",
   "execution_count": 145,
   "metadata": {},
   "outputs": [
    {
     "output_type": "execute_result",
     "data": {
      "text/plain": [
       "0    39,170\n",
       "Name: Total Students, dtype: object"
      ]
     },
     "metadata": {},
     "execution_count": 145
    }
   ],
   "source": [
    "# Format the \"Total Students\" to have the comma for a thousands separator.\n",
    "district_summary_df[\"Total Students\"] = district_summary_df[\"Total Students\"].map(\"{:,}\".format)\n",
    "\n",
    "district_summary_df[\"Total Students\"]"
   ]
  },
  {
   "cell_type": "code",
   "execution_count": 146,
   "metadata": {},
   "outputs": [
    {
     "output_type": "execute_result",
     "data": {
      "text/plain": [
       "0    $24,649,428.00\n",
       "Name: Total Budget, dtype: object"
      ]
     },
     "metadata": {},
     "execution_count": 146
    }
   ],
   "source": [
    "# Format \"Total Budget\" to have the comma for a thousands separator, a decimal separator, and a \"$\".\n",
    "\n",
    "district_summary_df[\"Total Budget\"] = district_summary_df[\"Total Budget\"].map(\"${:,.2f}\".format)\n",
    "\n",
    "district_summary_df[\"Total Budget\"]"
   ]
  },
  {
   "cell_type": "code",
   "execution_count": 147,
   "metadata": {},
   "outputs": [
    {
     "output_type": "execute_result",
     "data": {
      "text/plain": [
       "   Total Schools Total Students    Total Budget Average Math Score  \\\n",
       "0             15         39,170  $24,649,428.00               79.0   \n",
       "\n",
       "   Average Reading Score  % Passing Math  % Passing Reading  % Overall Passing  \n",
       "0               81.87784       74.980853          85.805463          65.172326  "
      ],
      "text/html": "<div>\n<style scoped>\n    .dataframe tbody tr th:only-of-type {\n        vertical-align: middle;\n    }\n\n    .dataframe tbody tr th {\n        vertical-align: top;\n    }\n\n    .dataframe thead th {\n        text-align: right;\n    }\n</style>\n<table border=\"1\" class=\"dataframe\">\n  <thead>\n    <tr style=\"text-align: right;\">\n      <th></th>\n      <th>Total Schools</th>\n      <th>Total Students</th>\n      <th>Total Budget</th>\n      <th>Average Math Score</th>\n      <th>Average Reading Score</th>\n      <th>% Passing Math</th>\n      <th>% Passing Reading</th>\n      <th>% Overall Passing</th>\n    </tr>\n  </thead>\n  <tbody>\n    <tr>\n      <th>0</th>\n      <td>15</td>\n      <td>39,170</td>\n      <td>$24,649,428.00</td>\n      <td>79.0</td>\n      <td>81.87784</td>\n      <td>74.980853</td>\n      <td>85.805463</td>\n      <td>65.172326</td>\n    </tr>\n  </tbody>\n</table>\n</div>"
     },
     "metadata": {},
     "execution_count": 147
    }
   ],
   "source": [
    "district_summary_df[\"Average Math Score\"] = district_summary_df[\"Average Math Score\"].map(\"{:.1f}\".format)\n",
    "district_summary_df"
   ]
  },
  {
   "cell_type": "code",
   "execution_count": 148,
   "metadata": {},
   "outputs": [
    {
     "output_type": "execute_result",
     "data": {
      "text/plain": [
       "   Total Schools Total Students    Total Budget Average Math Score  \\\n",
       "0             15         39,170  $24,649,428.00               79.0   \n",
       "\n",
       "  Average Reading Score % Passing Math % Passing Reading % Overall Passing  \n",
       "0                  81.9             75                86                65  "
      ],
      "text/html": "<div>\n<style scoped>\n    .dataframe tbody tr th:only-of-type {\n        vertical-align: middle;\n    }\n\n    .dataframe tbody tr th {\n        vertical-align: top;\n    }\n\n    .dataframe thead th {\n        text-align: right;\n    }\n</style>\n<table border=\"1\" class=\"dataframe\">\n  <thead>\n    <tr style=\"text-align: right;\">\n      <th></th>\n      <th>Total Schools</th>\n      <th>Total Students</th>\n      <th>Total Budget</th>\n      <th>Average Math Score</th>\n      <th>Average Reading Score</th>\n      <th>% Passing Math</th>\n      <th>% Passing Reading</th>\n      <th>% Overall Passing</th>\n    </tr>\n  </thead>\n  <tbody>\n    <tr>\n      <th>0</th>\n      <td>15</td>\n      <td>39,170</td>\n      <td>$24,649,428.00</td>\n      <td>79.0</td>\n      <td>81.9</td>\n      <td>75</td>\n      <td>86</td>\n      <td>65</td>\n    </tr>\n  </tbody>\n</table>\n</div>"
     },
     "metadata": {},
     "execution_count": 148
    }
   ],
   "source": [
    "district_summary_df[\"Average Reading Score\"] = district_summary_df[\"Average Reading Score\"].map(\"{:.1f}\".format)\n",
    "\n",
    "district_summary_df[\"% Passing Math\"] = district_summary_df[\"% Passing Math\"].map(\"{:.0f}\".format)\n",
    "\n",
    "district_summary_df[\"% Passing Reading\"] = district_summary_df[\"% Passing Reading\"].map(\"{:.0f}\".format)\n",
    "\n",
    "district_summary_df[\"% Overall Passing\"] = district_summary_df[\"% Overall Passing\"].map(\"{:.0f}\".format)\n",
    "\n",
    "district_summary_df"
   ]
  },
  {
   "cell_type": "code",
   "execution_count": 152,
   "metadata": {},
   "outputs": [
    {
     "output_type": "execute_result",
     "data": {
      "text/plain": [
       "school_name\n",
       "Huang High School        District\n",
       "Figueroa High School     District\n",
       "Shelton High School       Charter\n",
       "Hernandez High School    District\n",
       "Griffin High School       Charter\n",
       "Wilson High School        Charter\n",
       "Cabrera High School       Charter\n",
       "Bailey High School       District\n",
       "Holden High School        Charter\n",
       "Pena High School          Charter\n",
       "Wright High School        Charter\n",
       "Rodriguez High School    District\n",
       "Johnson High School      District\n",
       "Ford High School         District\n",
       "Thomas High School        Charter\n",
       "Name: type, dtype: object"
      ]
     },
     "metadata": {},
     "execution_count": 152
    }
   ],
   "source": [
    "# Determine the school type.\n",
    "per_school_types = schools_data_df.set_index([\"school_name\"])[\"type\"]\n",
    "per_school_types"
   ]
  },
  {
   "cell_type": "code",
   "execution_count": 153,
   "metadata": {},
   "outputs": [
    {
     "output_type": "execute_result",
     "data": {
      "text/plain": [
       "                           type\n",
       "school_name                    \n",
       "Huang High School      District\n",
       "Figueroa High School   District\n",
       "Shelton High School     Charter\n",
       "Hernandez High School  District\n",
       "Griffin High School     Charter\n",
       "Wilson High School      Charter\n",
       "Cabrera High School     Charter\n",
       "Bailey High School     District\n",
       "Holden High School      Charter\n",
       "Pena High School        Charter\n",
       "Wright High School      Charter\n",
       "Rodriguez High School  District\n",
       "Johnson High School    District\n",
       "Ford High School       District\n",
       "Thomas High School      Charter"
      ],
      "text/html": "<div>\n<style scoped>\n    .dataframe tbody tr th:only-of-type {\n        vertical-align: middle;\n    }\n\n    .dataframe tbody tr th {\n        vertical-align: top;\n    }\n\n    .dataframe thead th {\n        text-align: right;\n    }\n</style>\n<table border=\"1\" class=\"dataframe\">\n  <thead>\n    <tr style=\"text-align: right;\">\n      <th></th>\n      <th>type</th>\n    </tr>\n    <tr>\n      <th>school_name</th>\n      <th></th>\n    </tr>\n  </thead>\n  <tbody>\n    <tr>\n      <th>Huang High School</th>\n      <td>District</td>\n    </tr>\n    <tr>\n      <th>Figueroa High School</th>\n      <td>District</td>\n    </tr>\n    <tr>\n      <th>Shelton High School</th>\n      <td>Charter</td>\n    </tr>\n    <tr>\n      <th>Hernandez High School</th>\n      <td>District</td>\n    </tr>\n    <tr>\n      <th>Griffin High School</th>\n      <td>Charter</td>\n    </tr>\n    <tr>\n      <th>Wilson High School</th>\n      <td>Charter</td>\n    </tr>\n    <tr>\n      <th>Cabrera High School</th>\n      <td>Charter</td>\n    </tr>\n    <tr>\n      <th>Bailey High School</th>\n      <td>District</td>\n    </tr>\n    <tr>\n      <th>Holden High School</th>\n      <td>Charter</td>\n    </tr>\n    <tr>\n      <th>Pena High School</th>\n      <td>Charter</td>\n    </tr>\n    <tr>\n      <th>Wright High School</th>\n      <td>Charter</td>\n    </tr>\n    <tr>\n      <th>Rodriguez High School</th>\n      <td>District</td>\n    </tr>\n    <tr>\n      <th>Johnson High School</th>\n      <td>District</td>\n    </tr>\n    <tr>\n      <th>Ford High School</th>\n      <td>District</td>\n    </tr>\n    <tr>\n      <th>Thomas High School</th>\n      <td>Charter</td>\n    </tr>\n  </tbody>\n</table>\n</div>"
     },
     "metadata": {},
     "execution_count": 153
    }
   ],
   "source": [
    "# Add the per_school_types into a DataFrame for testing.\n",
    "df = pd.DataFrame(per_school_types)\n",
    "df"
   ]
  },
  {
   "cell_type": "code",
   "execution_count": 155,
   "metadata": {},
   "outputs": [
    {
     "output_type": "execute_result",
     "data": {
      "text/plain": [
       "0     2917\n",
       "1     2949\n",
       "2     1761\n",
       "3     4635\n",
       "4     1468\n",
       "5     2283\n",
       "6     1858\n",
       "7     4976\n",
       "8      427\n",
       "9      962\n",
       "10    1800\n",
       "11    3999\n",
       "12    4761\n",
       "13    2739\n",
       "14    1635\n",
       "Name: size, dtype: int64"
      ]
     },
     "metadata": {},
     "execution_count": 155
    }
   ],
   "source": [
    "# Calculate the total student count.\n",
    "per_school_counts = schools_data_df[\"size\"]\n",
    "per_school_counts"
   ]
  },
  {
   "cell_type": "code",
   "execution_count": 156,
   "metadata": {},
   "outputs": [
    {
     "output_type": "execute_result",
     "data": {
      "text/plain": [
       "school_name\n",
       "Huang High School        2917\n",
       "Figueroa High School     2949\n",
       "Shelton High School      1761\n",
       "Hernandez High School    4635\n",
       "Griffin High School      1468\n",
       "Wilson High School       2283\n",
       "Cabrera High School      1858\n",
       "Bailey High School       4976\n",
       "Holden High School        427\n",
       "Pena High School          962\n",
       "Wright High School       1800\n",
       "Rodriguez High School    3999\n",
       "Johnson High School      4761\n",
       "Ford High School         2739\n",
       "Thomas High School       1635\n",
       "Name: size, dtype: int64"
      ]
     },
     "metadata": {},
     "execution_count": 156
    }
   ],
   "source": [
    "# Calculate the total student count.\n",
    "per_school_counts = schools_data_df.set_index([\"school_name\"])[\"size\"]\n",
    "per_school_counts"
   ]
  },
  {
   "cell_type": "code",
   "execution_count": 157,
   "metadata": {},
   "outputs": [
    {
     "output_type": "execute_result",
     "data": {
      "text/plain": [
       "Bailey High School       4976\n",
       "Johnson High School      4761\n",
       "Hernandez High School    4635\n",
       "Rodriguez High School    3999\n",
       "Figueroa High School     2949\n",
       "Huang High School        2917\n",
       "Ford High School         2739\n",
       "Wilson High School       2283\n",
       "Cabrera High School      1858\n",
       "Wright High School       1800\n",
       "Shelton High School      1761\n",
       "Thomas High School       1635\n",
       "Griffin High School      1468\n",
       "Pena High School          962\n",
       "Holden High School        427\n",
       "Name: school_name, dtype: int64"
      ]
     },
     "metadata": {},
     "execution_count": 157
    }
   ],
   "source": [
    "# Calculate the total student count.\n",
    "per_school_counts = school_data_complete_df[\"school_name\"].value_counts()\n",
    "per_school_counts"
   ]
  },
  {
   "cell_type": "code",
   "execution_count": 159,
   "metadata": {},
   "outputs": [
    {
     "output_type": "execute_result",
     "data": {
      "text/plain": [
       "school_name\n",
       "Huang High School        1910635\n",
       "Figueroa High School     1884411\n",
       "Shelton High School      1056600\n",
       "Hernandez High School    3022020\n",
       "Griffin High School       917500\n",
       "Wilson High School       1319574\n",
       "Cabrera High School      1081356\n",
       "Bailey High School       3124928\n",
       "Holden High School        248087\n",
       "Pena High School          585858\n",
       "Wright High School       1049400\n",
       "Rodriguez High School    2547363\n",
       "Johnson High School      3094650\n",
       "Ford High School         1763916\n",
       "Thomas High School       1043130\n",
       "Name: budget, dtype: int64"
      ]
     },
     "metadata": {},
     "execution_count": 159
    }
   ],
   "source": [
    "# Calculate the total school budget.\n",
    "per_school_budget = schools_data_df.set_index([\"school_name\"])[\"budget\"]\n",
    "per_school_budget"
   ]
  },
  {
   "cell_type": "code",
   "execution_count": 160,
   "metadata": {},
   "outputs": [
    {
     "output_type": "execute_result",
     "data": {
      "text/plain": [
       "Bailey High School       628.0\n",
       "Cabrera High School      582.0\n",
       "Figueroa High School     639.0\n",
       "Ford High School         644.0\n",
       "Griffin High School      625.0\n",
       "Hernandez High School    652.0\n",
       "Holden High School       581.0\n",
       "Huang High School        655.0\n",
       "Johnson High School      650.0\n",
       "Pena High School         609.0\n",
       "Rodriguez High School    637.0\n",
       "Shelton High School      600.0\n",
       "Thomas High School       638.0\n",
       "Wilson High School       578.0\n",
       "Wright High School       583.0\n",
       "dtype: float64"
      ]
     },
     "metadata": {},
     "execution_count": 160
    }
   ],
   "source": [
    "# Calculate the per capita spending.\n",
    "per_school_capita = per_school_budget / per_school_counts\n",
    "per_school_capita"
   ]
  },
  {
   "cell_type": "code",
   "execution_count": 161,
   "metadata": {},
   "outputs": [],
   "source": [
    "# Calculate the math scores.\n",
    "student_school_math = student_data_df.set_index([\"school_name\"])[\"math_score\"]"
   ]
  },
  {
   "cell_type": "code",
   "execution_count": 162,
   "metadata": {},
   "outputs": [
    {
     "output_type": "execute_result",
     "data": {
      "text/plain": [
       "                       Unnamed: 0  Student ID  reading_score  math_score  \\\n",
       "school_name                                                                \n",
       "Bailey High School        20358.5     20358.5      81.033963   77.048432   \n",
       "Cabrera High School       16941.5     16941.5      83.975780   83.061895   \n",
       "Figueroa High School       4391.0      4391.0      81.158020   76.711767   \n",
       "Ford High School          36165.0     36165.0      80.746258   77.102592   \n",
       "Griffin High School       12995.5     12995.5      83.816757   83.351499   \n",
       "Hernandez High School      9944.0      9944.0      80.934412   77.289752   \n",
       "Holden High School        23060.0     23060.0      83.814988   83.803279   \n",
       "Huang High School          1458.0      1458.0      81.182722   76.629414   \n",
       "Johnson High School       32415.0     32415.0      80.966394   77.072464   \n",
       "Pena High School          23754.5     23754.5      84.044699   83.839917   \n",
       "Rodriguez High School     28035.0     28035.0      80.744686   76.842711   \n",
       "Shelton High School        6746.0      6746.0      83.725724   83.359455   \n",
       "Thomas High School        38352.0     38352.0      83.848930   83.418349   \n",
       "Wilson High School        14871.0     14871.0      83.989488   83.274201   \n",
       "Wright High School        25135.5     25135.5      83.955000   83.682222   \n",
       "\n",
       "                       School ID    size     budget  \n",
       "school_name                                          \n",
       "Bailey High School           7.0  4976.0  3124928.0  \n",
       "Cabrera High School          6.0  1858.0  1081356.0  \n",
       "Figueroa High School         1.0  2949.0  1884411.0  \n",
       "Ford High School            13.0  2739.0  1763916.0  \n",
       "Griffin High School          4.0  1468.0   917500.0  \n",
       "Hernandez High School        3.0  4635.0  3022020.0  \n",
       "Holden High School           8.0   427.0   248087.0  \n",
       "Huang High School            0.0  2917.0  1910635.0  \n",
       "Johnson High School         12.0  4761.0  3094650.0  \n",
       "Pena High School             9.0   962.0   585858.0  \n",
       "Rodriguez High School       11.0  3999.0  2547363.0  \n",
       "Shelton High School          2.0  1761.0  1056600.0  \n",
       "Thomas High School          14.0  1635.0  1043130.0  \n",
       "Wilson High School           5.0  2283.0  1319574.0  \n",
       "Wright High School          10.0  1800.0  1049400.0  "
      ],
      "text/html": "<div>\n<style scoped>\n    .dataframe tbody tr th:only-of-type {\n        vertical-align: middle;\n    }\n\n    .dataframe tbody tr th {\n        vertical-align: top;\n    }\n\n    .dataframe thead th {\n        text-align: right;\n    }\n</style>\n<table border=\"1\" class=\"dataframe\">\n  <thead>\n    <tr style=\"text-align: right;\">\n      <th></th>\n      <th>Unnamed: 0</th>\n      <th>Student ID</th>\n      <th>reading_score</th>\n      <th>math_score</th>\n      <th>School ID</th>\n      <th>size</th>\n      <th>budget</th>\n    </tr>\n    <tr>\n      <th>school_name</th>\n      <th></th>\n      <th></th>\n      <th></th>\n      <th></th>\n      <th></th>\n      <th></th>\n      <th></th>\n    </tr>\n  </thead>\n  <tbody>\n    <tr>\n      <th>Bailey High School</th>\n      <td>20358.5</td>\n      <td>20358.5</td>\n      <td>81.033963</td>\n      <td>77.048432</td>\n      <td>7.0</td>\n      <td>4976.0</td>\n      <td>3124928.0</td>\n    </tr>\n    <tr>\n      <th>Cabrera High School</th>\n      <td>16941.5</td>\n      <td>16941.5</td>\n      <td>83.975780</td>\n      <td>83.061895</td>\n      <td>6.0</td>\n      <td>1858.0</td>\n      <td>1081356.0</td>\n    </tr>\n    <tr>\n      <th>Figueroa High School</th>\n      <td>4391.0</td>\n      <td>4391.0</td>\n      <td>81.158020</td>\n      <td>76.711767</td>\n      <td>1.0</td>\n      <td>2949.0</td>\n      <td>1884411.0</td>\n    </tr>\n    <tr>\n      <th>Ford High School</th>\n      <td>36165.0</td>\n      <td>36165.0</td>\n      <td>80.746258</td>\n      <td>77.102592</td>\n      <td>13.0</td>\n      <td>2739.0</td>\n      <td>1763916.0</td>\n    </tr>\n    <tr>\n      <th>Griffin High School</th>\n      <td>12995.5</td>\n      <td>12995.5</td>\n      <td>83.816757</td>\n      <td>83.351499</td>\n      <td>4.0</td>\n      <td>1468.0</td>\n      <td>917500.0</td>\n    </tr>\n    <tr>\n      <th>Hernandez High School</th>\n      <td>9944.0</td>\n      <td>9944.0</td>\n      <td>80.934412</td>\n      <td>77.289752</td>\n      <td>3.0</td>\n      <td>4635.0</td>\n      <td>3022020.0</td>\n    </tr>\n    <tr>\n      <th>Holden High School</th>\n      <td>23060.0</td>\n      <td>23060.0</td>\n      <td>83.814988</td>\n      <td>83.803279</td>\n      <td>8.0</td>\n      <td>427.0</td>\n      <td>248087.0</td>\n    </tr>\n    <tr>\n      <th>Huang High School</th>\n      <td>1458.0</td>\n      <td>1458.0</td>\n      <td>81.182722</td>\n      <td>76.629414</td>\n      <td>0.0</td>\n      <td>2917.0</td>\n      <td>1910635.0</td>\n    </tr>\n    <tr>\n      <th>Johnson High School</th>\n      <td>32415.0</td>\n      <td>32415.0</td>\n      <td>80.966394</td>\n      <td>77.072464</td>\n      <td>12.0</td>\n      <td>4761.0</td>\n      <td>3094650.0</td>\n    </tr>\n    <tr>\n      <th>Pena High School</th>\n      <td>23754.5</td>\n      <td>23754.5</td>\n      <td>84.044699</td>\n      <td>83.839917</td>\n      <td>9.0</td>\n      <td>962.0</td>\n      <td>585858.0</td>\n    </tr>\n    <tr>\n      <th>Rodriguez High School</th>\n      <td>28035.0</td>\n      <td>28035.0</td>\n      <td>80.744686</td>\n      <td>76.842711</td>\n      <td>11.0</td>\n      <td>3999.0</td>\n      <td>2547363.0</td>\n    </tr>\n    <tr>\n      <th>Shelton High School</th>\n      <td>6746.0</td>\n      <td>6746.0</td>\n      <td>83.725724</td>\n      <td>83.359455</td>\n      <td>2.0</td>\n      <td>1761.0</td>\n      <td>1056600.0</td>\n    </tr>\n    <tr>\n      <th>Thomas High School</th>\n      <td>38352.0</td>\n      <td>38352.0</td>\n      <td>83.848930</td>\n      <td>83.418349</td>\n      <td>14.0</td>\n      <td>1635.0</td>\n      <td>1043130.0</td>\n    </tr>\n    <tr>\n      <th>Wilson High School</th>\n      <td>14871.0</td>\n      <td>14871.0</td>\n      <td>83.989488</td>\n      <td>83.274201</td>\n      <td>5.0</td>\n      <td>2283.0</td>\n      <td>1319574.0</td>\n    </tr>\n    <tr>\n      <th>Wright High School</th>\n      <td>25135.5</td>\n      <td>25135.5</td>\n      <td>83.955000</td>\n      <td>83.682222</td>\n      <td>10.0</td>\n      <td>1800.0</td>\n      <td>1049400.0</td>\n    </tr>\n  </tbody>\n</table>\n</div>"
     },
     "metadata": {},
     "execution_count": 162
    }
   ],
   "source": [
    "# Calculate the average math scores.\n",
    "per_school_averages = school_data_complete_df.groupby([\"school_name\"]).mean()\n",
    "per_school_averages"
   ]
  },
  {
   "cell_type": "code",
   "execution_count": 163,
   "metadata": {},
   "outputs": [],
   "source": [
    "# Calculate the average test scores.\n",
    "per_school_math = school_data_complete_df.groupby([\"school_name\"]).mean()[\"math_score\"]\n",
    "\n",
    "per_school_reading = school_data_complete_df.groupby([\"school_name\"]).mean()[\"reading_score\"]"
   ]
  },
  {
   "cell_type": "code",
   "execution_count": 164,
   "metadata": {},
   "outputs": [
    {
     "output_type": "stream",
     "name": "stdout",
     "text": [
      "school_name\nBailey High School       77.048432\nCabrera High School      83.061895\nFigueroa High School     76.711767\nFord High School         77.102592\nGriffin High School      83.351499\nHernandez High School    77.289752\nHolden High School       83.803279\nHuang High School        76.629414\nJohnson High School      77.072464\nPena High School         83.839917\nRodriguez High School    76.842711\nShelton High School      83.359455\nThomas High School       83.418349\nWilson High School       83.274201\nWright High School       83.682222\nName: math_score, dtype: float64\n"
     ]
    }
   ],
   "source": [
    "print(per_school_math)"
   ]
  },
  {
   "cell_type": "code",
   "execution_count": 165,
   "metadata": {},
   "outputs": [],
   "source": [
    "# Calculate the passing scores by creating a filtered DataFrame.\n",
    "per_school_passing_math = school_data_complete_df[(school_data_complete_df[\"math_score\"] >= 70)]\n",
    "\n",
    "per_school_passing_reading = school_data_complete_df[(school_data_complete_df[\"reading_score\"] >= 70)]"
   ]
  },
  {
   "cell_type": "code",
   "execution_count": 166,
   "metadata": {},
   "outputs": [
    {
     "output_type": "execute_result",
     "data": {
      "text/plain": [
       "school_name\n",
       "Bailey High School       3318\n",
       "Cabrera High School      1749\n",
       "Figueroa High School     1946\n",
       "Ford High School         1871\n",
       "Griffin High School      1371\n",
       "Hernandez High School    3094\n",
       "Holden High School        395\n",
       "Huang High School        1916\n",
       "Johnson High School      3145\n",
       "Pena High School          910\n",
       "Rodriguez High School    2654\n",
       "Shelton High School      1653\n",
       "Thomas High School       1525\n",
       "Wilson High School       2143\n",
       "Wright High School       1680\n",
       "Name: student_name, dtype: int64"
      ]
     },
     "metadata": {},
     "execution_count": 166
    }
   ],
   "source": [
    "# Calculate the number of students passing math and passing reading by school.\n",
    "per_school_passing_math = per_school_passing_math.groupby([\"school_name\"]).count()[\"student_name\"]\n",
    "\n",
    "per_school_passing_reading = per_school_passing_reading.groupby([\"school_name\"]).count()[\"student_name\"]\n",
    "\n",
    "per_school_passing_math\n"
   ]
  },
  {
   "cell_type": "code",
   "execution_count": 167,
   "metadata": {},
   "outputs": [
    {
     "output_type": "execute_result",
     "data": {
      "text/plain": [
       "Bailey High School       66.680064\n",
       "Cabrera High School      94.133477\n",
       "Figueroa High School     65.988471\n",
       "Ford High School         68.309602\n",
       "Griffin High School      93.392371\n",
       "Hernandez High School    66.752967\n",
       "Holden High School       92.505855\n",
       "Huang High School        65.683922\n",
       "Johnson High School      66.057551\n",
       "Pena High School         94.594595\n",
       "Rodriguez High School    66.366592\n",
       "Shelton High School      93.867121\n",
       "Thomas High School       93.272171\n",
       "Wilson High School       93.867718\n",
       "Wright High School       93.333333\n",
       "dtype: float64"
      ]
     },
     "metadata": {},
     "execution_count": 167
    }
   ],
   "source": [
    "# Calculate the percentage of passing math and reading scores per school.\n",
    "per_school_passing_math = per_school_passing_math / per_school_counts * 100\n",
    "\n",
    "per_school_passing_reading = per_school_passing_reading / per_school_counts * 100\n",
    "\n",
    "per_school_passing_math"
   ]
  },
  {
   "cell_type": "code",
   "execution_count": 168,
   "metadata": {},
   "outputs": [
    {
     "output_type": "execute_result",
     "data": {
      "text/plain": [
       "   Unnamed: 0  Student ID    student_name gender grade        school_name  \\\n",
       "4           4           4      Bonnie Ray      F   9th  Huang High School   \n",
       "5           5           5   Bryan Miranda      M   9th  Huang High School   \n",
       "6           6           6   Sheena Carter      F  11th  Huang High School   \n",
       "8           8           8    Michael Roth      M  10th  Huang High School   \n",
       "9           9           9  Matthew Greene      M  10th  Huang High School   \n",
       "\n",
       "   reading_score  math_score  School ID      type  size   budget  \n",
       "4             97          84          0  District  2917  1910635  \n",
       "5             94          94          0  District  2917  1910635  \n",
       "6             82          80          0  District  2917  1910635  \n",
       "8             95          87          0  District  2917  1910635  \n",
       "9             96          84          0  District  2917  1910635  "
      ],
      "text/html": "<div>\n<style scoped>\n    .dataframe tbody tr th:only-of-type {\n        vertical-align: middle;\n    }\n\n    .dataframe tbody tr th {\n        vertical-align: top;\n    }\n\n    .dataframe thead th {\n        text-align: right;\n    }\n</style>\n<table border=\"1\" class=\"dataframe\">\n  <thead>\n    <tr style=\"text-align: right;\">\n      <th></th>\n      <th>Unnamed: 0</th>\n      <th>Student ID</th>\n      <th>student_name</th>\n      <th>gender</th>\n      <th>grade</th>\n      <th>school_name</th>\n      <th>reading_score</th>\n      <th>math_score</th>\n      <th>School ID</th>\n      <th>type</th>\n      <th>size</th>\n      <th>budget</th>\n    </tr>\n  </thead>\n  <tbody>\n    <tr>\n      <th>4</th>\n      <td>4</td>\n      <td>4</td>\n      <td>Bonnie Ray</td>\n      <td>F</td>\n      <td>9th</td>\n      <td>Huang High School</td>\n      <td>97</td>\n      <td>84</td>\n      <td>0</td>\n      <td>District</td>\n      <td>2917</td>\n      <td>1910635</td>\n    </tr>\n    <tr>\n      <th>5</th>\n      <td>5</td>\n      <td>5</td>\n      <td>Bryan Miranda</td>\n      <td>M</td>\n      <td>9th</td>\n      <td>Huang High School</td>\n      <td>94</td>\n      <td>94</td>\n      <td>0</td>\n      <td>District</td>\n      <td>2917</td>\n      <td>1910635</td>\n    </tr>\n    <tr>\n      <th>6</th>\n      <td>6</td>\n      <td>6</td>\n      <td>Sheena Carter</td>\n      <td>F</td>\n      <td>11th</td>\n      <td>Huang High School</td>\n      <td>82</td>\n      <td>80</td>\n      <td>0</td>\n      <td>District</td>\n      <td>2917</td>\n      <td>1910635</td>\n    </tr>\n    <tr>\n      <th>8</th>\n      <td>8</td>\n      <td>8</td>\n      <td>Michael Roth</td>\n      <td>M</td>\n      <td>10th</td>\n      <td>Huang High School</td>\n      <td>95</td>\n      <td>87</td>\n      <td>0</td>\n      <td>District</td>\n      <td>2917</td>\n      <td>1910635</td>\n    </tr>\n    <tr>\n      <th>9</th>\n      <td>9</td>\n      <td>9</td>\n      <td>Matthew Greene</td>\n      <td>M</td>\n      <td>10th</td>\n      <td>Huang High School</td>\n      <td>96</td>\n      <td>84</td>\n      <td>0</td>\n      <td>District</td>\n      <td>2917</td>\n      <td>1910635</td>\n    </tr>\n  </tbody>\n</table>\n</div>"
     },
     "metadata": {},
     "execution_count": 168
    }
   ],
   "source": [
    "# Calculate the students who passed both math and reading.\n",
    "per_passing_math_reading = school_data_complete_df[(school_data_complete_df[\"math_score\"] >= 70) & (school_data_complete_df[\"reading_score\"] >= 70)]\n",
    "\n",
    "per_passing_math_reading.head()"
   ]
  },
  {
   "cell_type": "code",
   "execution_count": 169,
   "metadata": {},
   "outputs": [
    {
     "output_type": "execute_result",
     "data": {
      "text/plain": [
       "Bailey High School       54.642283\n",
       "Cabrera High School      91.334769\n",
       "Figueroa High School     53.204476\n",
       "Ford High School         54.289887\n",
       "Griffin High School      90.599455\n",
       "Hernandez High School    53.527508\n",
       "Holden High School       89.227166\n",
       "Huang High School        53.513884\n",
       "Johnson High School      53.539172\n",
       "Pena High School         90.540541\n",
       "Rodriguez High School    52.988247\n",
       "Shelton High School      89.892107\n",
       "Thomas High School       90.948012\n",
       "Wilson High School       90.582567\n",
       "Wright High School       90.333333\n",
       "dtype: float64"
      ]
     },
     "metadata": {},
     "execution_count": 169
    }
   ],
   "source": [
    "# Calculate the number of students who passed both math and reading.\n",
    "per_passing_math_reading = per_passing_math_reading.groupby([\"school_name\"]).count()[\"student_name\"]\n",
    "\n",
    "# Calculate the overall passing percentage.\n",
    "per_overall_passing_percentage = per_passing_math_reading / per_school_counts * 100\n",
    "\n",
    "per_overall_passing_percentage "
   ]
  },
  {
   "cell_type": "code",
   "execution_count": 170,
   "metadata": {},
   "outputs": [
    {
     "output_type": "execute_result",
     "data": {
      "text/plain": [
       "                     School Type  Total Students  Total School Budget  \\\n",
       "Bailey High School      District            4976              3124928   \n",
       "Cabrera High School      Charter            1858              1081356   \n",
       "Figueroa High School    District            2949              1884411   \n",
       "Ford High School        District            2739              1763916   \n",
       "Griffin High School      Charter            1468               917500   \n",
       "\n",
       "                      Per Student Budget  Average Math Score  \\\n",
       "Bailey High School                 628.0           77.048432   \n",
       "Cabrera High School                582.0           83.061895   \n",
       "Figueroa High School               639.0           76.711767   \n",
       "Ford High School                   644.0           77.102592   \n",
       "Griffin High School                625.0           83.351499   \n",
       "\n",
       "                      Average Reading Score  % Passing Math  \\\n",
       "Bailey High School                81.033963       66.680064   \n",
       "Cabrera High School               83.975780       94.133477   \n",
       "Figueroa High School              81.158020       65.988471   \n",
       "Ford High School                  80.746258       68.309602   \n",
       "Griffin High School               83.816757       93.392371   \n",
       "\n",
       "                      % Passing Reading  % Overall Passing  \n",
       "Bailey High School            81.933280          54.642283  \n",
       "Cabrera High School           97.039828          91.334769  \n",
       "Figueroa High School          80.739234          53.204476  \n",
       "Ford High School              79.299014          54.289887  \n",
       "Griffin High School           97.138965          90.599455  "
      ],
      "text/html": "<div>\n<style scoped>\n    .dataframe tbody tr th:only-of-type {\n        vertical-align: middle;\n    }\n\n    .dataframe tbody tr th {\n        vertical-align: top;\n    }\n\n    .dataframe thead th {\n        text-align: right;\n    }\n</style>\n<table border=\"1\" class=\"dataframe\">\n  <thead>\n    <tr style=\"text-align: right;\">\n      <th></th>\n      <th>School Type</th>\n      <th>Total Students</th>\n      <th>Total School Budget</th>\n      <th>Per Student Budget</th>\n      <th>Average Math Score</th>\n      <th>Average Reading Score</th>\n      <th>% Passing Math</th>\n      <th>% Passing Reading</th>\n      <th>% Overall Passing</th>\n    </tr>\n  </thead>\n  <tbody>\n    <tr>\n      <th>Bailey High School</th>\n      <td>District</td>\n      <td>4976</td>\n      <td>3124928</td>\n      <td>628.0</td>\n      <td>77.048432</td>\n      <td>81.033963</td>\n      <td>66.680064</td>\n      <td>81.933280</td>\n      <td>54.642283</td>\n    </tr>\n    <tr>\n      <th>Cabrera High School</th>\n      <td>Charter</td>\n      <td>1858</td>\n      <td>1081356</td>\n      <td>582.0</td>\n      <td>83.061895</td>\n      <td>83.975780</td>\n      <td>94.133477</td>\n      <td>97.039828</td>\n      <td>91.334769</td>\n    </tr>\n    <tr>\n      <th>Figueroa High School</th>\n      <td>District</td>\n      <td>2949</td>\n      <td>1884411</td>\n      <td>639.0</td>\n      <td>76.711767</td>\n      <td>81.158020</td>\n      <td>65.988471</td>\n      <td>80.739234</td>\n      <td>53.204476</td>\n    </tr>\n    <tr>\n      <th>Ford High School</th>\n      <td>District</td>\n      <td>2739</td>\n      <td>1763916</td>\n      <td>644.0</td>\n      <td>77.102592</td>\n      <td>80.746258</td>\n      <td>68.309602</td>\n      <td>79.299014</td>\n      <td>54.289887</td>\n    </tr>\n    <tr>\n      <th>Griffin High School</th>\n      <td>Charter</td>\n      <td>1468</td>\n      <td>917500</td>\n      <td>625.0</td>\n      <td>83.351499</td>\n      <td>83.816757</td>\n      <td>93.392371</td>\n      <td>97.138965</td>\n      <td>90.599455</td>\n    </tr>\n  </tbody>\n</table>\n</div>"
     },
     "metadata": {},
     "execution_count": 170
    }
   ],
   "source": [
    "# Adding a list of values with keys to create a new DataFrame.\n",
    "\n",
    "per_school_summary_df = pd.DataFrame({\n",
    "             \"School Type\": per_school_types,\n",
    "             \"Total Students\": per_school_counts,\n",
    "             \"Total School Budget\": per_school_budget,\n",
    "             \"Per Student Budget\": per_school_capita,\n",
    "             \"Average Math Score\": per_school_math,\n",
    "           \"Average Reading Score\": per_school_reading,\n",
    "           \"% Passing Math\": per_school_passing_math,\n",
    "           \"% Passing Reading\": per_school_passing_reading,\n",
    "           \"% Overall Passing\": per_overall_passing_percentage})\n",
    "per_school_summary_df.head()"
   ]
  },
  {
   "cell_type": "code",
   "execution_count": 171,
   "metadata": {},
   "outputs": [
    {
     "output_type": "execute_result",
     "data": {
      "text/plain": [
       "                     School Type  Total Students Total School Budget  \\\n",
       "Bailey High School      District            4976       $3,124,928.00   \n",
       "Cabrera High School      Charter            1858       $1,081,356.00   \n",
       "Figueroa High School    District            2949       $1,884,411.00   \n",
       "Ford High School        District            2739       $1,763,916.00   \n",
       "Griffin High School      Charter            1468         $917,500.00   \n",
       "\n",
       "                     Per Student Budget  Average Math Score  \\\n",
       "Bailey High School              $628.00           77.048432   \n",
       "Cabrera High School             $582.00           83.061895   \n",
       "Figueroa High School            $639.00           76.711767   \n",
       "Ford High School                $644.00           77.102592   \n",
       "Griffin High School             $625.00           83.351499   \n",
       "\n",
       "                      Average Reading Score  % Passing Math  \\\n",
       "Bailey High School                81.033963       66.680064   \n",
       "Cabrera High School               83.975780       94.133477   \n",
       "Figueroa High School              81.158020       65.988471   \n",
       "Ford High School                  80.746258       68.309602   \n",
       "Griffin High School               83.816757       93.392371   \n",
       "\n",
       "                      % Passing Reading  % Overall Passing  \n",
       "Bailey High School            81.933280          54.642283  \n",
       "Cabrera High School           97.039828          91.334769  \n",
       "Figueroa High School          80.739234          53.204476  \n",
       "Ford High School              79.299014          54.289887  \n",
       "Griffin High School           97.138965          90.599455  "
      ],
      "text/html": "<div>\n<style scoped>\n    .dataframe tbody tr th:only-of-type {\n        vertical-align: middle;\n    }\n\n    .dataframe tbody tr th {\n        vertical-align: top;\n    }\n\n    .dataframe thead th {\n        text-align: right;\n    }\n</style>\n<table border=\"1\" class=\"dataframe\">\n  <thead>\n    <tr style=\"text-align: right;\">\n      <th></th>\n      <th>School Type</th>\n      <th>Total Students</th>\n      <th>Total School Budget</th>\n      <th>Per Student Budget</th>\n      <th>Average Math Score</th>\n      <th>Average Reading Score</th>\n      <th>% Passing Math</th>\n      <th>% Passing Reading</th>\n      <th>% Overall Passing</th>\n    </tr>\n  </thead>\n  <tbody>\n    <tr>\n      <th>Bailey High School</th>\n      <td>District</td>\n      <td>4976</td>\n      <td>$3,124,928.00</td>\n      <td>$628.00</td>\n      <td>77.048432</td>\n      <td>81.033963</td>\n      <td>66.680064</td>\n      <td>81.933280</td>\n      <td>54.642283</td>\n    </tr>\n    <tr>\n      <th>Cabrera High School</th>\n      <td>Charter</td>\n      <td>1858</td>\n      <td>$1,081,356.00</td>\n      <td>$582.00</td>\n      <td>83.061895</td>\n      <td>83.975780</td>\n      <td>94.133477</td>\n      <td>97.039828</td>\n      <td>91.334769</td>\n    </tr>\n    <tr>\n      <th>Figueroa High School</th>\n      <td>District</td>\n      <td>2949</td>\n      <td>$1,884,411.00</td>\n      <td>$639.00</td>\n      <td>76.711767</td>\n      <td>81.158020</td>\n      <td>65.988471</td>\n      <td>80.739234</td>\n      <td>53.204476</td>\n    </tr>\n    <tr>\n      <th>Ford High School</th>\n      <td>District</td>\n      <td>2739</td>\n      <td>$1,763,916.00</td>\n      <td>$644.00</td>\n      <td>77.102592</td>\n      <td>80.746258</td>\n      <td>68.309602</td>\n      <td>79.299014</td>\n      <td>54.289887</td>\n    </tr>\n    <tr>\n      <th>Griffin High School</th>\n      <td>Charter</td>\n      <td>1468</td>\n      <td>$917,500.00</td>\n      <td>$625.00</td>\n      <td>83.351499</td>\n      <td>83.816757</td>\n      <td>93.392371</td>\n      <td>97.138965</td>\n      <td>90.599455</td>\n    </tr>\n  </tbody>\n</table>\n</div>"
     },
     "metadata": {},
     "execution_count": 171
    }
   ],
   "source": [
    "# Format the Total School Budget and the Per Student Budget columns.\n",
    "per_school_summary_df[\"Total School Budget\"] = per_school_summary_df[\"Total School Budget\"].map(\"${:,.2f}\".format)\n",
    "\n",
    "per_school_summary_df[\"Per Student Budget\"] = per_school_summary_df[\"Per Student Budget\"].map(\"${:,.2f}\".format)\n",
    "\n",
    "\n",
    "# Display the data frame\n",
    "per_school_summary_df.head()"
   ]
  },
  {
   "cell_type": "code",
   "execution_count": 173,
   "metadata": {},
   "outputs": [
    {
     "output_type": "execute_result",
     "data": {
      "text/plain": [
       "                    School Type  Total Students Total School Budget  \\\n",
       "Cabrera High School     Charter            1858       $1,081,356.00   \n",
       "Thomas High School      Charter            1635       $1,043,130.00   \n",
       "Griffin High School     Charter            1468         $917,500.00   \n",
       "Wilson High School      Charter            2283       $1,319,574.00   \n",
       "Pena High School        Charter             962         $585,858.00   \n",
       "\n",
       "                    Per Student Budget  Average Math Score  \\\n",
       "Cabrera High School            $582.00           83.061895   \n",
       "Thomas High School             $638.00           83.418349   \n",
       "Griffin High School            $625.00           83.351499   \n",
       "Wilson High School             $578.00           83.274201   \n",
       "Pena High School               $609.00           83.839917   \n",
       "\n",
       "                     Average Reading Score  % Passing Math  % Passing Reading  \\\n",
       "Cabrera High School              83.975780       94.133477          97.039828   \n",
       "Thomas High School               83.848930       93.272171          97.308869   \n",
       "Griffin High School              83.816757       93.392371          97.138965   \n",
       "Wilson High School               83.989488       93.867718          96.539641   \n",
       "Pena High School                 84.044699       94.594595          95.945946   \n",
       "\n",
       "                     % Overall Passing  \n",
       "Cabrera High School          91.334769  \n",
       "Thomas High School           90.948012  \n",
       "Griffin High School          90.599455  \n",
       "Wilson High School           90.582567  \n",
       "Pena High School             90.540541  "
      ],
      "text/html": "<div>\n<style scoped>\n    .dataframe tbody tr th:only-of-type {\n        vertical-align: middle;\n    }\n\n    .dataframe tbody tr th {\n        vertical-align: top;\n    }\n\n    .dataframe thead th {\n        text-align: right;\n    }\n</style>\n<table border=\"1\" class=\"dataframe\">\n  <thead>\n    <tr style=\"text-align: right;\">\n      <th></th>\n      <th>School Type</th>\n      <th>Total Students</th>\n      <th>Total School Budget</th>\n      <th>Per Student Budget</th>\n      <th>Average Math Score</th>\n      <th>Average Reading Score</th>\n      <th>% Passing Math</th>\n      <th>% Passing Reading</th>\n      <th>% Overall Passing</th>\n    </tr>\n  </thead>\n  <tbody>\n    <tr>\n      <th>Cabrera High School</th>\n      <td>Charter</td>\n      <td>1858</td>\n      <td>$1,081,356.00</td>\n      <td>$582.00</td>\n      <td>83.061895</td>\n      <td>83.975780</td>\n      <td>94.133477</td>\n      <td>97.039828</td>\n      <td>91.334769</td>\n    </tr>\n    <tr>\n      <th>Thomas High School</th>\n      <td>Charter</td>\n      <td>1635</td>\n      <td>$1,043,130.00</td>\n      <td>$638.00</td>\n      <td>83.418349</td>\n      <td>83.848930</td>\n      <td>93.272171</td>\n      <td>97.308869</td>\n      <td>90.948012</td>\n    </tr>\n    <tr>\n      <th>Griffin High School</th>\n      <td>Charter</td>\n      <td>1468</td>\n      <td>$917,500.00</td>\n      <td>$625.00</td>\n      <td>83.351499</td>\n      <td>83.816757</td>\n      <td>93.392371</td>\n      <td>97.138965</td>\n      <td>90.599455</td>\n    </tr>\n    <tr>\n      <th>Wilson High School</th>\n      <td>Charter</td>\n      <td>2283</td>\n      <td>$1,319,574.00</td>\n      <td>$578.00</td>\n      <td>83.274201</td>\n      <td>83.989488</td>\n      <td>93.867718</td>\n      <td>96.539641</td>\n      <td>90.582567</td>\n    </tr>\n    <tr>\n      <th>Pena High School</th>\n      <td>Charter</td>\n      <td>962</td>\n      <td>$585,858.00</td>\n      <td>$609.00</td>\n      <td>83.839917</td>\n      <td>84.044699</td>\n      <td>94.594595</td>\n      <td>95.945946</td>\n      <td>90.540541</td>\n    </tr>\n  </tbody>\n</table>\n</div>"
     },
     "metadata": {},
     "execution_count": 173
    }
   ],
   "source": [
    "# Sort and show top five schools.\n",
    "top_schools = per_school_summary_df.sort_values([\"% Overall Passing\"], ascending=False)\n",
    "\n",
    "top_schools.head()"
   ]
  },
  {
   "cell_type": "code",
   "execution_count": 174,
   "metadata": {},
   "outputs": [
    {
     "output_type": "execute_result",
     "data": {
      "text/plain": [
       "                      School Type  Total Students Total School Budget  \\\n",
       "Rodriguez High School    District            3999       $2,547,363.00   \n",
       "Figueroa High School     District            2949       $1,884,411.00   \n",
       "Huang High School        District            2917       $1,910,635.00   \n",
       "Hernandez High School    District            4635       $3,022,020.00   \n",
       "Johnson High School      District            4761       $3,094,650.00   \n",
       "\n",
       "                      Per Student Budget  Average Math Score  \\\n",
       "Rodriguez High School            $637.00           76.842711   \n",
       "Figueroa High School             $639.00           76.711767   \n",
       "Huang High School                $655.00           76.629414   \n",
       "Hernandez High School            $652.00           77.289752   \n",
       "Johnson High School              $650.00           77.072464   \n",
       "\n",
       "                       Average Reading Score  % Passing Math  \\\n",
       "Rodriguez High School              80.744686       66.366592   \n",
       "Figueroa High School               81.158020       65.988471   \n",
       "Huang High School                  81.182722       65.683922   \n",
       "Hernandez High School              80.934412       66.752967   \n",
       "Johnson High School                80.966394       66.057551   \n",
       "\n",
       "                       % Passing Reading  % Overall Passing  \n",
       "Rodriguez High School          80.220055          52.988247  \n",
       "Figueroa High School           80.739234          53.204476  \n",
       "Huang High School              81.316421          53.513884  \n",
       "Hernandez High School          80.862999          53.527508  \n",
       "Johnson High School            81.222432          53.539172  "
      ],
      "text/html": "<div>\n<style scoped>\n    .dataframe tbody tr th:only-of-type {\n        vertical-align: middle;\n    }\n\n    .dataframe tbody tr th {\n        vertical-align: top;\n    }\n\n    .dataframe thead th {\n        text-align: right;\n    }\n</style>\n<table border=\"1\" class=\"dataframe\">\n  <thead>\n    <tr style=\"text-align: right;\">\n      <th></th>\n      <th>School Type</th>\n      <th>Total Students</th>\n      <th>Total School Budget</th>\n      <th>Per Student Budget</th>\n      <th>Average Math Score</th>\n      <th>Average Reading Score</th>\n      <th>% Passing Math</th>\n      <th>% Passing Reading</th>\n      <th>% Overall Passing</th>\n    </tr>\n  </thead>\n  <tbody>\n    <tr>\n      <th>Rodriguez High School</th>\n      <td>District</td>\n      <td>3999</td>\n      <td>$2,547,363.00</td>\n      <td>$637.00</td>\n      <td>76.842711</td>\n      <td>80.744686</td>\n      <td>66.366592</td>\n      <td>80.220055</td>\n      <td>52.988247</td>\n    </tr>\n    <tr>\n      <th>Figueroa High School</th>\n      <td>District</td>\n      <td>2949</td>\n      <td>$1,884,411.00</td>\n      <td>$639.00</td>\n      <td>76.711767</td>\n      <td>81.158020</td>\n      <td>65.988471</td>\n      <td>80.739234</td>\n      <td>53.204476</td>\n    </tr>\n    <tr>\n      <th>Huang High School</th>\n      <td>District</td>\n      <td>2917</td>\n      <td>$1,910,635.00</td>\n      <td>$655.00</td>\n      <td>76.629414</td>\n      <td>81.182722</td>\n      <td>65.683922</td>\n      <td>81.316421</td>\n      <td>53.513884</td>\n    </tr>\n    <tr>\n      <th>Hernandez High School</th>\n      <td>District</td>\n      <td>4635</td>\n      <td>$3,022,020.00</td>\n      <td>$652.00</td>\n      <td>77.289752</td>\n      <td>80.934412</td>\n      <td>66.752967</td>\n      <td>80.862999</td>\n      <td>53.527508</td>\n    </tr>\n    <tr>\n      <th>Johnson High School</th>\n      <td>District</td>\n      <td>4761</td>\n      <td>$3,094,650.00</td>\n      <td>$650.00</td>\n      <td>77.072464</td>\n      <td>80.966394</td>\n      <td>66.057551</td>\n      <td>81.222432</td>\n      <td>53.539172</td>\n    </tr>\n  </tbody>\n</table>\n</div>"
     },
     "metadata": {},
     "execution_count": 174
    }
   ],
   "source": [
    "# Sort and show bottom five schools.\n",
    "bottom_schools = per_school_summary_df.sort_values([\"% Overall Passing\"], ascending=True)\n",
    "\n",
    "bottom_schools.head()"
   ]
  },
  {
   "cell_type": "code",
   "execution_count": 175,
   "metadata": {},
   "outputs": [],
   "source": [
    "# Create grade level DataFrames.\n",
    "ninth_graders = school_data_complete_df[(school_data_complete_df[\"grade\"] == \"9th\")]\n",
    "\n",
    "tenth_graders = school_data_complete_df[(school_data_complete_df[\"grade\"] == \"10th\")]\n",
    "\n",
    "eleventh_graders = school_data_complete_df[(school_data_complete_df[\"grade\"] == \"11th\")]\n",
    "\n",
    "twelfth_graders = school_data_complete_df[(school_data_complete_df[\"grade\"] == \"12th\")]"
   ]
  },
  {
   "cell_type": "code",
   "execution_count": 177,
   "metadata": {},
   "outputs": [
    {
     "output_type": "execute_result",
     "data": {
      "text/plain": [
       "school_name\n",
       "Bailey High School       77.083676\n",
       "Cabrera High School      83.094697\n",
       "Figueroa High School     76.403037\n",
       "Ford High School         77.361345\n",
       "Griffin High School      82.044010\n",
       "Hernandez High School    77.438495\n",
       "Holden High School       83.787402\n",
       "Huang High School        77.027251\n",
       "Johnson High School      77.187857\n",
       "Pena High School         83.625455\n",
       "Rodriguez High School    76.859966\n",
       "Shelton High School      83.420755\n",
       "Thomas High School       83.590022\n",
       "Wilson High School       83.085578\n",
       "Wright High School       83.264706\n",
       "Name: math_score, dtype: float64"
      ]
     },
     "metadata": {},
     "execution_count": 177
    }
   ],
   "source": [
    "# Group each school Series by the school name for the average math score.\n",
    "ninth_grade_math_scores = ninth_graders.groupby([\"school_name\"]).mean()[\"math_score\"]\n",
    "\n",
    "tenth_grade_math_scores = tenth_graders.groupby([\"school_name\"]).mean()[\"math_score\"]\n",
    "\n",
    "eleventh_grade_math_scores = eleventh_graders.groupby([\"school_name\"]).mean()[\"math_score\"]\n",
    "\n",
    "twelfth_grade_math_scores = twelfth_graders.groupby([\"school_name\"]).mean()[\"math_score\"]\n",
    "\n",
    "ninth_grade_math_scores"
   ]
  },
  {
   "cell_type": "code",
   "execution_count": 179,
   "metadata": {},
   "outputs": [
    {
     "output_type": "execute_result",
     "data": {
      "text/plain": [
       "school_name\n",
       "Bailey High School       77.515588\n",
       "Cabrera High School      82.765560\n",
       "Figueroa High School     76.884344\n",
       "Ford High School         76.918058\n",
       "Griffin High School      83.842105\n",
       "Hernandez High School    77.136029\n",
       "Holden High School       85.000000\n",
       "Huang High School        76.446602\n",
       "Johnson High School      77.491653\n",
       "Pena High School         84.328125\n",
       "Rodriguez High School    76.395626\n",
       "Shelton High School      83.383495\n",
       "Thomas High School       83.498795\n",
       "Wilson High School       83.195326\n",
       "Wright High School       83.836782\n",
       "Name: math_score, dtype: float64"
      ]
     },
     "metadata": {},
     "execution_count": 179
    }
   ],
   "source": [
    "eleventh_grade_math_scores"
   ]
  },
  {
   "cell_type": "code",
   "execution_count": null,
   "metadata": {},
   "outputs": [],
   "source": [
    "# Group each school Series by the school name for the average reading score.\n",
    "ninth_grade_reading_scores = ninth_graders.groupby([\"school_name\"]).mean()[\"reading_score\"]\n",
    "\n",
    "tenth_grade_reading_scores = tenth_graders.groupby([\"school_name\"]).mean()[\"reading_score\"]\n",
    "\n",
    "eleventh_grade_reading_scores = eleventh_graders.groupby([\"school_name\"]).mean()[\"reading_score\"]\n",
    "\n",
    "twelfth_grade_reading_scores = twelfth_graders.groupby([\"school_name\"]).mean()[\"reading_score\"]"
   ]
  },
  {
   "cell_type": "code",
   "execution_count": 180,
   "metadata": {},
   "outputs": [
    {
     "output_type": "execute_result",
     "data": {
      "text/plain": [
       "school_name\n",
       "Bailey High School       81.303155\n",
       "Cabrera High School      83.676136\n",
       "Figueroa High School     81.198598\n",
       "Ford High School         80.632653\n",
       "Griffin High School      83.369193\n",
       "Hernandez High School    80.866860\n",
       "Holden High School       83.677165\n",
       "Huang High School        81.290284\n",
       "Johnson High School      81.260714\n",
       "Pena High School         83.807273\n",
       "Rodriguez High School    80.993127\n",
       "Shelton High School      84.122642\n",
       "Thomas High School       83.728850\n",
       "Wilson High School       83.939778\n",
       "Wright High School       83.833333\n",
       "Name: reading_score, dtype: float64"
      ]
     },
     "metadata": {},
     "execution_count": 180
    }
   ],
   "source": [
    "ninth_grade_reading_scores"
   ]
  },
  {
   "cell_type": "code",
   "execution_count": 181,
   "metadata": {},
   "outputs": [
    {
     "output_type": "execute_result",
     "data": {
      "text/plain": [
       "school_name\n",
       "Bailey High School       80.912451\n",
       "Cabrera High School      84.287958\n",
       "Figueroa High School     81.384863\n",
       "Ford High School         80.662338\n",
       "Griffin High School      84.013699\n",
       "Hernandez High School    80.857143\n",
       "Holden High School       84.698795\n",
       "Huang High School        80.305983\n",
       "Johnson High School      81.227564\n",
       "Pena High School         84.591160\n",
       "Rodriguez High School    80.376426\n",
       "Shelton High School      82.781671\n",
       "Thomas High School       83.831361\n",
       "Wilson High School       84.317673\n",
       "Wright High School       84.073171\n",
       "Name: reading_score, dtype: float64"
      ]
     },
     "metadata": {},
     "execution_count": 181
    }
   ],
   "source": [
    "twelfth_grade_reading_scores"
   ]
  },
  {
   "cell_type": "code",
   "execution_count": 182,
   "metadata": {},
   "outputs": [
    {
     "output_type": "execute_result",
     "data": {
      "text/plain": [
       "                            9th       10th       11th       12th\n",
       "school_name                                                     \n",
       "Bailey High School    77.083676  76.996772  77.515588  76.492218\n",
       "Cabrera High School   83.094697  83.154506  82.765560  83.277487\n",
       "Figueroa High School  76.403037  76.539974  76.884344  77.151369\n",
       "Ford High School      77.361345  77.672316  76.918058  76.179963\n",
       "Griffin High School   82.044010  84.229064  83.842105  83.356164"
      ],
      "text/html": "<div>\n<style scoped>\n    .dataframe tbody tr th:only-of-type {\n        vertical-align: middle;\n    }\n\n    .dataframe tbody tr th {\n        vertical-align: top;\n    }\n\n    .dataframe thead th {\n        text-align: right;\n    }\n</style>\n<table border=\"1\" class=\"dataframe\">\n  <thead>\n    <tr style=\"text-align: right;\">\n      <th></th>\n      <th>9th</th>\n      <th>10th</th>\n      <th>11th</th>\n      <th>12th</th>\n    </tr>\n    <tr>\n      <th>school_name</th>\n      <th></th>\n      <th></th>\n      <th></th>\n      <th></th>\n    </tr>\n  </thead>\n  <tbody>\n    <tr>\n      <th>Bailey High School</th>\n      <td>77.083676</td>\n      <td>76.996772</td>\n      <td>77.515588</td>\n      <td>76.492218</td>\n    </tr>\n    <tr>\n      <th>Cabrera High School</th>\n      <td>83.094697</td>\n      <td>83.154506</td>\n      <td>82.765560</td>\n      <td>83.277487</td>\n    </tr>\n    <tr>\n      <th>Figueroa High School</th>\n      <td>76.403037</td>\n      <td>76.539974</td>\n      <td>76.884344</td>\n      <td>77.151369</td>\n    </tr>\n    <tr>\n      <th>Ford High School</th>\n      <td>77.361345</td>\n      <td>77.672316</td>\n      <td>76.918058</td>\n      <td>76.179963</td>\n    </tr>\n    <tr>\n      <th>Griffin High School</th>\n      <td>82.044010</td>\n      <td>84.229064</td>\n      <td>83.842105</td>\n      <td>83.356164</td>\n    </tr>\n  </tbody>\n</table>\n</div>"
     },
     "metadata": {},
     "execution_count": 182
    }
   ],
   "source": [
    "# Combine each Series for average math scores by school into single DataFrame.\n",
    "math_scores_by_grade = pd.DataFrame({\n",
    "               \"9th\": ninth_grade_math_scores,\n",
    "               \"10th\": tenth_grade_math_scores,\n",
    "               \"11th\": eleventh_grade_math_scores,\n",
    "               \"12th\": twelfth_grade_math_scores})\n",
    "\n",
    "math_scores_by_grade.head()"
   ]
  },
  {
   "cell_type": "code",
   "execution_count": 184,
   "metadata": {},
   "outputs": [
    {
     "output_type": "execute_result",
     "data": {
      "text/plain": [
       "                            9th       10th       11th       12th\n",
       "school_name                                                     \n",
       "Bailey High School    81.303155  80.907183  80.945643  80.912451\n",
       "Cabrera High School   83.676136  84.253219  83.788382  84.287958\n",
       "Figueroa High School  81.198598  81.408912  80.640339  81.384863\n",
       "Ford High School      80.632653  81.262712  80.403642  80.662338\n",
       "Griffin High School   83.369193  83.706897  84.288089  84.013699"
      ],
      "text/html": "<div>\n<style scoped>\n    .dataframe tbody tr th:only-of-type {\n        vertical-align: middle;\n    }\n\n    .dataframe tbody tr th {\n        vertical-align: top;\n    }\n\n    .dataframe thead th {\n        text-align: right;\n    }\n</style>\n<table border=\"1\" class=\"dataframe\">\n  <thead>\n    <tr style=\"text-align: right;\">\n      <th></th>\n      <th>9th</th>\n      <th>10th</th>\n      <th>11th</th>\n      <th>12th</th>\n    </tr>\n    <tr>\n      <th>school_name</th>\n      <th></th>\n      <th></th>\n      <th></th>\n      <th></th>\n    </tr>\n  </thead>\n  <tbody>\n    <tr>\n      <th>Bailey High School</th>\n      <td>81.303155</td>\n      <td>80.907183</td>\n      <td>80.945643</td>\n      <td>80.912451</td>\n    </tr>\n    <tr>\n      <th>Cabrera High School</th>\n      <td>83.676136</td>\n      <td>84.253219</td>\n      <td>83.788382</td>\n      <td>84.287958</td>\n    </tr>\n    <tr>\n      <th>Figueroa High School</th>\n      <td>81.198598</td>\n      <td>81.408912</td>\n      <td>80.640339</td>\n      <td>81.384863</td>\n    </tr>\n    <tr>\n      <th>Ford High School</th>\n      <td>80.632653</td>\n      <td>81.262712</td>\n      <td>80.403642</td>\n      <td>80.662338</td>\n    </tr>\n    <tr>\n      <th>Griffin High School</th>\n      <td>83.369193</td>\n      <td>83.706897</td>\n      <td>84.288089</td>\n      <td>84.013699</td>\n    </tr>\n  </tbody>\n</table>\n</div>"
     },
     "metadata": {},
     "execution_count": 184
    }
   ],
   "source": [
    "# Combine each Series for average reading scores by school into single DataFrame.\n",
    "reading_scores_by_grade = pd.DataFrame({\n",
    "              \"9th\": ninth_grade_reading_scores,\n",
    "              \"10th\": tenth_grade_reading_scores,\n",
    "              \"11th\": eleventh_grade_reading_scores,\n",
    "              \"12th\": twelfth_grade_reading_scores})\n",
    "\n",
    "reading_scores_by_grade.head()"
   ]
  },
  {
   "cell_type": "code",
   "execution_count": 188,
   "metadata": {},
   "outputs": [
    {
     "output_type": "execute_result",
     "data": {
      "text/plain": [
       "                       9th  10th  11th  12th\n",
       "Bailey High School    77.1  77.0  77.5  76.5\n",
       "Cabrera High School   83.1  83.2  82.8  83.3\n",
       "Figueroa High School  76.4  76.5  76.9  77.2\n",
       "Ford High School      77.4  77.7  76.9  76.2\n",
       "Griffin High School   82.0  84.2  83.8  83.4"
      ],
      "text/html": "<div>\n<style scoped>\n    .dataframe tbody tr th:only-of-type {\n        vertical-align: middle;\n    }\n\n    .dataframe tbody tr th {\n        vertical-align: top;\n    }\n\n    .dataframe thead th {\n        text-align: right;\n    }\n</style>\n<table border=\"1\" class=\"dataframe\">\n  <thead>\n    <tr style=\"text-align: right;\">\n      <th></th>\n      <th>9th</th>\n      <th>10th</th>\n      <th>11th</th>\n      <th>12th</th>\n    </tr>\n  </thead>\n  <tbody>\n    <tr>\n      <th>Bailey High School</th>\n      <td>77.1</td>\n      <td>77.0</td>\n      <td>77.5</td>\n      <td>76.5</td>\n    </tr>\n    <tr>\n      <th>Cabrera High School</th>\n      <td>83.1</td>\n      <td>83.2</td>\n      <td>82.8</td>\n      <td>83.3</td>\n    </tr>\n    <tr>\n      <th>Figueroa High School</th>\n      <td>76.4</td>\n      <td>76.5</td>\n      <td>76.9</td>\n      <td>77.2</td>\n    </tr>\n    <tr>\n      <th>Ford High School</th>\n      <td>77.4</td>\n      <td>77.7</td>\n      <td>76.9</td>\n      <td>76.2</td>\n    </tr>\n    <tr>\n      <th>Griffin High School</th>\n      <td>82.0</td>\n      <td>84.2</td>\n      <td>83.8</td>\n      <td>83.4</td>\n    </tr>\n  </tbody>\n</table>\n</div>"
     },
     "metadata": {},
     "execution_count": 188
    }
   ],
   "source": [
    "# Format each grade column.\n",
    "math_scores_by_grade[\"9th\"] = math_scores_by_grade[\"9th\"].map(\"{:.1f}\".format)\n",
    "\n",
    "math_scores_by_grade[\"10th\"] = math_scores_by_grade[\"10th\"].map(\"{:.1f}\".format)\n",
    "\n",
    "math_scores_by_grade[\"11th\"] = math_scores_by_grade[\"11th\"].map(\"{:.1f}\".format)\n",
    "\n",
    "math_scores_by_grade[\"12th\"] = math_scores_by_grade[\"12th\"].map(\"{:.1f}\".format)\n",
    "\n",
    "# Make sure the columns are in the correct order.\n",
    "math_scores_by_grade = math_scores_by_grade[\n",
    "    [\"9th\", \"10th\", \"11th\", \"12th\"]]\n",
    "\n",
    "# Remove the index name.\n",
    "math_scores_by_grade.index.name = None\n",
    "# Display the DataFrame.\n",
    "math_scores_by_grade.head()"
   ]
  },
  {
   "cell_type": "code",
   "execution_count": 189,
   "metadata": {},
   "outputs": [
    {
     "output_type": "execute_result",
     "data": {
      "text/plain": [
       "                       9th  10th  11th  12th\n",
       "Bailey High School    81.3  80.9  80.9  80.9\n",
       "Cabrera High School   83.7  84.3  83.8  84.3\n",
       "Figueroa High School  81.2  81.4  80.6  81.4\n",
       "Ford High School      80.6  81.3  80.4  80.7\n",
       "Griffin High School   83.4  83.7  84.3  84.0"
      ],
      "text/html": "<div>\n<style scoped>\n    .dataframe tbody tr th:only-of-type {\n        vertical-align: middle;\n    }\n\n    .dataframe tbody tr th {\n        vertical-align: top;\n    }\n\n    .dataframe thead th {\n        text-align: right;\n    }\n</style>\n<table border=\"1\" class=\"dataframe\">\n  <thead>\n    <tr style=\"text-align: right;\">\n      <th></th>\n      <th>9th</th>\n      <th>10th</th>\n      <th>11th</th>\n      <th>12th</th>\n    </tr>\n  </thead>\n  <tbody>\n    <tr>\n      <th>Bailey High School</th>\n      <td>81.3</td>\n      <td>80.9</td>\n      <td>80.9</td>\n      <td>80.9</td>\n    </tr>\n    <tr>\n      <th>Cabrera High School</th>\n      <td>83.7</td>\n      <td>84.3</td>\n      <td>83.8</td>\n      <td>84.3</td>\n    </tr>\n    <tr>\n      <th>Figueroa High School</th>\n      <td>81.2</td>\n      <td>81.4</td>\n      <td>80.6</td>\n      <td>81.4</td>\n    </tr>\n    <tr>\n      <th>Ford High School</th>\n      <td>80.6</td>\n      <td>81.3</td>\n      <td>80.4</td>\n      <td>80.7</td>\n    </tr>\n    <tr>\n      <th>Griffin High School</th>\n      <td>83.4</td>\n      <td>83.7</td>\n      <td>84.3</td>\n      <td>84.0</td>\n    </tr>\n  </tbody>\n</table>\n</div>"
     },
     "metadata": {},
     "execution_count": 189
    }
   ],
   "source": [
    "# Format each grade column.\n",
    "reading_scores_by_grade[\"9th\"] = reading_scores_by_grade[\"9th\"].map(\"{:,.1f}\".format)\n",
    "\n",
    "reading_scores_by_grade[\"10th\"] = reading_scores_by_grade[\"10th\"].map(\"{:,.1f}\".format)\n",
    "\n",
    "reading_scores_by_grade[\"11th\"] = reading_scores_by_grade[\"11th\"].map(\"{:,.1f}\".format)\n",
    "\n",
    "reading_scores_by_grade[\"12th\"] = reading_scores_by_grade[\"12th\"].map(\"{:,.1f}\".format)\n",
    "\n",
    "# Make sure the columns are in the correct order.\n",
    "reading_scores_by_grade = reading_scores_by_grade[\n",
    "                [\"9th\", \"10th\", \"11th\", \"12th\"]]\n",
    "\n",
    "# Remove the index name.\n",
    "reading_scores_by_grade.index.name = None\n",
    "# Display the data frame.\n",
    "reading_scores_by_grade.head()"
   ]
  },
  {
   "cell_type": "code",
   "execution_count": 190,
   "metadata": {},
   "outputs": [
    {
     "output_type": "execute_result",
     "data": {
      "text/plain": [
       "count     15.000000\n",
       "mean     620.066667\n",
       "std       28.544368\n",
       "min      578.000000\n",
       "25%      591.500000\n",
       "50%      628.000000\n",
       "75%      641.500000\n",
       "max      655.000000\n",
       "dtype: float64"
      ]
     },
     "metadata": {},
     "execution_count": 190
    }
   ],
   "source": [
    "# Get the descriptive statistics for the per_school_capita.\n",
    "per_school_capita.describe()"
   ]
  },
  {
   "cell_type": "code",
   "execution_count": 191,
   "metadata": {},
   "outputs": [
    {
     "output_type": "execute_result",
     "data": {
      "text/plain": [
       "Bailey High School       (615, 645]\n",
       "Cabrera High School        (0, 585]\n",
       "Figueroa High School     (615, 645]\n",
       "Ford High School         (615, 645]\n",
       "Griffin High School      (615, 645]\n",
       "Hernandez High School    (645, 675]\n",
       "Holden High School         (0, 585]\n",
       "Huang High School        (645, 675]\n",
       "Johnson High School      (645, 675]\n",
       "Pena High School         (585, 615]\n",
       "Rodriguez High School    (615, 645]\n",
       "Shelton High School      (585, 615]\n",
       "Thomas High School       (615, 645]\n",
       "Wilson High School         (0, 585]\n",
       "Wright High School         (0, 585]\n",
       "dtype: category\n",
       "Categories (4, interval[int64]): [(0, 585] < (585, 615] < (615, 645] < (645, 675]]"
      ]
     },
     "metadata": {},
     "execution_count": 191
    }
   ],
   "source": [
    "# Cut the per_school_capita into the spending ranges.\n",
    "spending_bins = [0, 585, 615, 645, 675]\n",
    "pd.cut(per_school_capita, spending_bins)"
   ]
  },
  {
   "cell_type": "code",
   "execution_count": 192,
   "metadata": {},
   "outputs": [
    {
     "output_type": "execute_result",
     "data": {
      "text/plain": [
       "Bailey High School       (615.0, 645.0]\n",
       "Cabrera High School                 NaN\n",
       "Figueroa High School     (615.0, 645.0]\n",
       "Ford High School         (615.0, 645.0]\n",
       "Griffin High School      (615.0, 645.0]\n",
       "Hernandez High School    (645.0, 675.0]\n",
       "Holden High School                  NaN\n",
       "Huang High School        (645.0, 675.0]\n",
       "Johnson High School      (645.0, 675.0]\n",
       "Pena High School         (585.0, 615.0]\n",
       "Rodriguez High School    (615.0, 645.0]\n",
       "Shelton High School      (585.0, 615.0]\n",
       "Thomas High School       (615.0, 645.0]\n",
       "Wilson High School                  NaN\n",
       "Wright High School                  NaN\n",
       "dtype: category\n",
       "Categories (3, interval[int64]): [(585, 615] < (615, 645] < (645, 675]]"
      ]
     },
     "metadata": {},
     "execution_count": 192
    }
   ],
   "source": [
    "# Cut the per_school_capita into the spending ranges.\n",
    "spending_bins = [585, 615, 645, 675]\n",
    "pd.cut(per_school_capita, spending_bins)"
   ]
  },
  {
   "cell_type": "code",
   "execution_count": 195,
   "metadata": {},
   "outputs": [
    {
     "output_type": "execute_result",
     "data": {
      "text/plain": [
       "(0, 585]      4\n",
       "(585, 630]    4\n",
       "(630, 645]    4\n",
       "(645, 675]    3\n",
       "dtype: int64"
      ]
     },
     "metadata": {},
     "execution_count": 195
    }
   ],
   "source": [
    "# Cut the per_school_capita into the spending ranges.\n",
    "spending_bins = [0, 585, 630, 645, 675]\n",
    "per_school_capita.groupby(pd.cut(per_school_capita, spending_bins)).count()"
   ]
  },
  {
   "cell_type": "code",
   "execution_count": 196,
   "metadata": {},
   "outputs": [],
   "source": [
    "# Establish the spending bins and group names.\n",
    "spending_bins = [0, 585, 630, 645, 675]\n",
    "group_names = [\"<$584\", \"$585-629\", \"$630-644\", \"$645-675\"]"
   ]
  },
  {
   "cell_type": "code",
   "execution_count": 197,
   "metadata": {},
   "outputs": [
    {
     "output_type": "execute_result",
     "data": {
      "text/plain": [
       "                      School Type  Total Students Total School Budget  \\\n",
       "Bailey High School       District            4976       $3,124,928.00   \n",
       "Cabrera High School       Charter            1858       $1,081,356.00   \n",
       "Figueroa High School     District            2949       $1,884,411.00   \n",
       "Ford High School         District            2739       $1,763,916.00   \n",
       "Griffin High School       Charter            1468         $917,500.00   \n",
       "Hernandez High School    District            4635       $3,022,020.00   \n",
       "Holden High School        Charter             427         $248,087.00   \n",
       "Huang High School        District            2917       $1,910,635.00   \n",
       "Johnson High School      District            4761       $3,094,650.00   \n",
       "Pena High School          Charter             962         $585,858.00   \n",
       "Rodriguez High School    District            3999       $2,547,363.00   \n",
       "Shelton High School       Charter            1761       $1,056,600.00   \n",
       "Thomas High School        Charter            1635       $1,043,130.00   \n",
       "Wilson High School        Charter            2283       $1,319,574.00   \n",
       "Wright High School        Charter            1800       $1,049,400.00   \n",
       "\n",
       "                      Per Student Budget  Average Math Score  \\\n",
       "Bailey High School               $628.00           77.048432   \n",
       "Cabrera High School              $582.00           83.061895   \n",
       "Figueroa High School             $639.00           76.711767   \n",
       "Ford High School                 $644.00           77.102592   \n",
       "Griffin High School              $625.00           83.351499   \n",
       "Hernandez High School            $652.00           77.289752   \n",
       "Holden High School               $581.00           83.803279   \n",
       "Huang High School                $655.00           76.629414   \n",
       "Johnson High School              $650.00           77.072464   \n",
       "Pena High School                 $609.00           83.839917   \n",
       "Rodriguez High School            $637.00           76.842711   \n",
       "Shelton High School              $600.00           83.359455   \n",
       "Thomas High School               $638.00           83.418349   \n",
       "Wilson High School               $578.00           83.274201   \n",
       "Wright High School               $583.00           83.682222   \n",
       "\n",
       "                       Average Reading Score  % Passing Math  \\\n",
       "Bailey High School                 81.033963       66.680064   \n",
       "Cabrera High School                83.975780       94.133477   \n",
       "Figueroa High School               81.158020       65.988471   \n",
       "Ford High School                   80.746258       68.309602   \n",
       "Griffin High School                83.816757       93.392371   \n",
       "Hernandez High School              80.934412       66.752967   \n",
       "Holden High School                 83.814988       92.505855   \n",
       "Huang High School                  81.182722       65.683922   \n",
       "Johnson High School                80.966394       66.057551   \n",
       "Pena High School                   84.044699       94.594595   \n",
       "Rodriguez High School              80.744686       66.366592   \n",
       "Shelton High School                83.725724       93.867121   \n",
       "Thomas High School                 83.848930       93.272171   \n",
       "Wilson High School                 83.989488       93.867718   \n",
       "Wright High School                 83.955000       93.333333   \n",
       "\n",
       "                       % Passing Reading  % Overall Passing  \\\n",
       "Bailey High School             81.933280          54.642283   \n",
       "Cabrera High School            97.039828          91.334769   \n",
       "Figueroa High School           80.739234          53.204476   \n",
       "Ford High School               79.299014          54.289887   \n",
       "Griffin High School            97.138965          90.599455   \n",
       "Hernandez High School          80.862999          53.527508   \n",
       "Holden High School             96.252927          89.227166   \n",
       "Huang High School              81.316421          53.513884   \n",
       "Johnson High School            81.222432          53.539172   \n",
       "Pena High School               95.945946          90.540541   \n",
       "Rodriguez High School          80.220055          52.988247   \n",
       "Shelton High School            95.854628          89.892107   \n",
       "Thomas High School             97.308869          90.948012   \n",
       "Wilson High School             96.539641          90.582567   \n",
       "Wright High School             96.611111          90.333333   \n",
       "\n",
       "                      Spending Ranges (Per Student)  \n",
       "Bailey High School                         $585-629  \n",
       "Cabrera High School                           <$584  \n",
       "Figueroa High School                       $630-644  \n",
       "Ford High School                           $630-644  \n",
       "Griffin High School                        $585-629  \n",
       "Hernandez High School                      $645-675  \n",
       "Holden High School                            <$584  \n",
       "Huang High School                          $645-675  \n",
       "Johnson High School                        $645-675  \n",
       "Pena High School                           $585-629  \n",
       "Rodriguez High School                      $630-644  \n",
       "Shelton High School                        $585-629  \n",
       "Thomas High School                         $630-644  \n",
       "Wilson High School                            <$584  \n",
       "Wright High School                            <$584  "
      ],
      "text/html": "<div>\n<style scoped>\n    .dataframe tbody tr th:only-of-type {\n        vertical-align: middle;\n    }\n\n    .dataframe tbody tr th {\n        vertical-align: top;\n    }\n\n    .dataframe thead th {\n        text-align: right;\n    }\n</style>\n<table border=\"1\" class=\"dataframe\">\n  <thead>\n    <tr style=\"text-align: right;\">\n      <th></th>\n      <th>School Type</th>\n      <th>Total Students</th>\n      <th>Total School Budget</th>\n      <th>Per Student Budget</th>\n      <th>Average Math Score</th>\n      <th>Average Reading Score</th>\n      <th>% Passing Math</th>\n      <th>% Passing Reading</th>\n      <th>% Overall Passing</th>\n      <th>Spending Ranges (Per Student)</th>\n    </tr>\n  </thead>\n  <tbody>\n    <tr>\n      <th>Bailey High School</th>\n      <td>District</td>\n      <td>4976</td>\n      <td>$3,124,928.00</td>\n      <td>$628.00</td>\n      <td>77.048432</td>\n      <td>81.033963</td>\n      <td>66.680064</td>\n      <td>81.933280</td>\n      <td>54.642283</td>\n      <td>$585-629</td>\n    </tr>\n    <tr>\n      <th>Cabrera High School</th>\n      <td>Charter</td>\n      <td>1858</td>\n      <td>$1,081,356.00</td>\n      <td>$582.00</td>\n      <td>83.061895</td>\n      <td>83.975780</td>\n      <td>94.133477</td>\n      <td>97.039828</td>\n      <td>91.334769</td>\n      <td>&lt;$584</td>\n    </tr>\n    <tr>\n      <th>Figueroa High School</th>\n      <td>District</td>\n      <td>2949</td>\n      <td>$1,884,411.00</td>\n      <td>$639.00</td>\n      <td>76.711767</td>\n      <td>81.158020</td>\n      <td>65.988471</td>\n      <td>80.739234</td>\n      <td>53.204476</td>\n      <td>$630-644</td>\n    </tr>\n    <tr>\n      <th>Ford High School</th>\n      <td>District</td>\n      <td>2739</td>\n      <td>$1,763,916.00</td>\n      <td>$644.00</td>\n      <td>77.102592</td>\n      <td>80.746258</td>\n      <td>68.309602</td>\n      <td>79.299014</td>\n      <td>54.289887</td>\n      <td>$630-644</td>\n    </tr>\n    <tr>\n      <th>Griffin High School</th>\n      <td>Charter</td>\n      <td>1468</td>\n      <td>$917,500.00</td>\n      <td>$625.00</td>\n      <td>83.351499</td>\n      <td>83.816757</td>\n      <td>93.392371</td>\n      <td>97.138965</td>\n      <td>90.599455</td>\n      <td>$585-629</td>\n    </tr>\n    <tr>\n      <th>Hernandez High School</th>\n      <td>District</td>\n      <td>4635</td>\n      <td>$3,022,020.00</td>\n      <td>$652.00</td>\n      <td>77.289752</td>\n      <td>80.934412</td>\n      <td>66.752967</td>\n      <td>80.862999</td>\n      <td>53.527508</td>\n      <td>$645-675</td>\n    </tr>\n    <tr>\n      <th>Holden High School</th>\n      <td>Charter</td>\n      <td>427</td>\n      <td>$248,087.00</td>\n      <td>$581.00</td>\n      <td>83.803279</td>\n      <td>83.814988</td>\n      <td>92.505855</td>\n      <td>96.252927</td>\n      <td>89.227166</td>\n      <td>&lt;$584</td>\n    </tr>\n    <tr>\n      <th>Huang High School</th>\n      <td>District</td>\n      <td>2917</td>\n      <td>$1,910,635.00</td>\n      <td>$655.00</td>\n      <td>76.629414</td>\n      <td>81.182722</td>\n      <td>65.683922</td>\n      <td>81.316421</td>\n      <td>53.513884</td>\n      <td>$645-675</td>\n    </tr>\n    <tr>\n      <th>Johnson High School</th>\n      <td>District</td>\n      <td>4761</td>\n      <td>$3,094,650.00</td>\n      <td>$650.00</td>\n      <td>77.072464</td>\n      <td>80.966394</td>\n      <td>66.057551</td>\n      <td>81.222432</td>\n      <td>53.539172</td>\n      <td>$645-675</td>\n    </tr>\n    <tr>\n      <th>Pena High School</th>\n      <td>Charter</td>\n      <td>962</td>\n      <td>$585,858.00</td>\n      <td>$609.00</td>\n      <td>83.839917</td>\n      <td>84.044699</td>\n      <td>94.594595</td>\n      <td>95.945946</td>\n      <td>90.540541</td>\n      <td>$585-629</td>\n    </tr>\n    <tr>\n      <th>Rodriguez High School</th>\n      <td>District</td>\n      <td>3999</td>\n      <td>$2,547,363.00</td>\n      <td>$637.00</td>\n      <td>76.842711</td>\n      <td>80.744686</td>\n      <td>66.366592</td>\n      <td>80.220055</td>\n      <td>52.988247</td>\n      <td>$630-644</td>\n    </tr>\n    <tr>\n      <th>Shelton High School</th>\n      <td>Charter</td>\n      <td>1761</td>\n      <td>$1,056,600.00</td>\n      <td>$600.00</td>\n      <td>83.359455</td>\n      <td>83.725724</td>\n      <td>93.867121</td>\n      <td>95.854628</td>\n      <td>89.892107</td>\n      <td>$585-629</td>\n    </tr>\n    <tr>\n      <th>Thomas High School</th>\n      <td>Charter</td>\n      <td>1635</td>\n      <td>$1,043,130.00</td>\n      <td>$638.00</td>\n      <td>83.418349</td>\n      <td>83.848930</td>\n      <td>93.272171</td>\n      <td>97.308869</td>\n      <td>90.948012</td>\n      <td>$630-644</td>\n    </tr>\n    <tr>\n      <th>Wilson High School</th>\n      <td>Charter</td>\n      <td>2283</td>\n      <td>$1,319,574.00</td>\n      <td>$578.00</td>\n      <td>83.274201</td>\n      <td>83.989488</td>\n      <td>93.867718</td>\n      <td>96.539641</td>\n      <td>90.582567</td>\n      <td>&lt;$584</td>\n    </tr>\n    <tr>\n      <th>Wright High School</th>\n      <td>Charter</td>\n      <td>1800</td>\n      <td>$1,049,400.00</td>\n      <td>$583.00</td>\n      <td>83.682222</td>\n      <td>83.955000</td>\n      <td>93.333333</td>\n      <td>96.611111</td>\n      <td>90.333333</td>\n      <td>&lt;$584</td>\n    </tr>\n  </tbody>\n</table>\n</div>"
     },
     "metadata": {},
     "execution_count": 197
    }
   ],
   "source": [
    "# Categorize spending based on the bins.\n",
    "per_school_summary_df[\"Spending Ranges (Per Student)\"] = pd.cut(per_school_capita, spending_bins, labels=group_names)\n",
    "\n",
    "per_school_summary_df"
   ]
  },
  {
   "cell_type": "code",
   "execution_count": 198,
   "metadata": {},
   "outputs": [],
   "source": [
    "# Calculate averages for the desired columns.\n",
    "spending_math_scores = per_school_summary_df.groupby([\"Spending Ranges (Per Student)\"]).mean()[\"Average Math Score\"]\n",
    "\n",
    "spending_reading_scores = per_school_summary_df.groupby([\"Spending Ranges (Per Student)\"]).mean()[\"Average Reading Score\"]\n",
    "\n",
    "spending_passing_math = per_school_summary_df.groupby([\"Spending Ranges (Per Student)\"]).mean()[\"% Passing Math\"]\n",
    "\n",
    "spending_passing_reading = per_school_summary_df.groupby([\"Spending Ranges (Per Student)\"]).mean()[\"% Passing Reading\"]\n",
    "\n",
    "overall_passing_spending = per_school_summary_df.groupby([\"Spending Ranges (Per Student)\"]).mean()[\"% Overall Passing\"]"
   ]
  },
  {
   "cell_type": "code",
   "execution_count": 199,
   "metadata": {},
   "outputs": [
    {
     "output_type": "execute_result",
     "data": {
      "text/plain": [
       "Spending Ranges (Per Student)\n",
       "<$584       90.369459\n",
       "$585-629    81.418596\n",
       "$630-644    62.857656\n",
       "$645-675    53.526855\n",
       "Name: % Overall Passing, dtype: float64"
      ]
     },
     "metadata": {},
     "execution_count": 199
    }
   ],
   "source": [
    "overall_passing_spending"
   ]
  },
  {
   "cell_type": "code",
   "execution_count": 200,
   "metadata": {},
   "outputs": [
    {
     "output_type": "execute_result",
     "data": {
      "text/plain": [
       "                               Average Math Score  Average Reading Score  \\\n",
       "Spending Ranges (Per Student)                                              \n",
       "<$584                                   83.455399              83.933814   \n",
       "$585-629                                81.899826              83.155286   \n",
       "$630-644                                78.518855              81.624473   \n",
       "$645-675                                76.997210              81.027843   \n",
       "\n",
       "                               % Passing Math  % Passing Reading  \\\n",
       "Spending Ranges (Per Student)                                      \n",
       "<$584                               93.460096          96.610877   \n",
       "$585-629                            87.133538          92.718205   \n",
       "$630-644                            73.484209          84.391793   \n",
       "$645-675                            66.164813          81.133951   \n",
       "\n",
       "                               % Overall Passing  \n",
       "Spending Ranges (Per Student)                     \n",
       "<$584                                  90.369459  \n",
       "$585-629                               81.418596  \n",
       "$630-644                               62.857656  \n",
       "$645-675                               53.526855  "
      ],
      "text/html": "<div>\n<style scoped>\n    .dataframe tbody tr th:only-of-type {\n        vertical-align: middle;\n    }\n\n    .dataframe tbody tr th {\n        vertical-align: top;\n    }\n\n    .dataframe thead th {\n        text-align: right;\n    }\n</style>\n<table border=\"1\" class=\"dataframe\">\n  <thead>\n    <tr style=\"text-align: right;\">\n      <th></th>\n      <th>Average Math Score</th>\n      <th>Average Reading Score</th>\n      <th>% Passing Math</th>\n      <th>% Passing Reading</th>\n      <th>% Overall Passing</th>\n    </tr>\n    <tr>\n      <th>Spending Ranges (Per Student)</th>\n      <th></th>\n      <th></th>\n      <th></th>\n      <th></th>\n      <th></th>\n    </tr>\n  </thead>\n  <tbody>\n    <tr>\n      <th>&lt;$584</th>\n      <td>83.455399</td>\n      <td>83.933814</td>\n      <td>93.460096</td>\n      <td>96.610877</td>\n      <td>90.369459</td>\n    </tr>\n    <tr>\n      <th>$585-629</th>\n      <td>81.899826</td>\n      <td>83.155286</td>\n      <td>87.133538</td>\n      <td>92.718205</td>\n      <td>81.418596</td>\n    </tr>\n    <tr>\n      <th>$630-644</th>\n      <td>78.518855</td>\n      <td>81.624473</td>\n      <td>73.484209</td>\n      <td>84.391793</td>\n      <td>62.857656</td>\n    </tr>\n    <tr>\n      <th>$645-675</th>\n      <td>76.997210</td>\n      <td>81.027843</td>\n      <td>66.164813</td>\n      <td>81.133951</td>\n      <td>53.526855</td>\n    </tr>\n  </tbody>\n</table>\n</div>"
     },
     "metadata": {},
     "execution_count": 200
    }
   ],
   "source": [
    "# Assemble into DataFrame.\n",
    "spending_summary_df = pd.DataFrame({\n",
    "          \"Average Math Score\" : spending_math_scores,\n",
    "          \"Average Reading Score\": spending_reading_scores,\n",
    "          \"% Passing Math\": spending_passing_math,\n",
    "          \"% Passing Reading\": spending_passing_reading,\n",
    "          \"% Overall Passing\": overall_passing_spending})\n",
    "\n",
    "spending_summary_df"
   ]
  },
  {
   "cell_type": "code",
   "execution_count": 201,
   "metadata": {},
   "outputs": [
    {
     "output_type": "execute_result",
     "data": {
      "text/plain": [
       "                              Average Math Score Average Reading Score  \\\n",
       "Spending Ranges (Per Student)                                            \n",
       "<$584                                       83.5                  83.9   \n",
       "$585-629                                    81.9                  83.2   \n",
       "$630-644                                    78.5                  81.6   \n",
       "$645-675                                    77.0                  81.0   \n",
       "\n",
       "                              % Passing Math % Passing Reading  \\\n",
       "Spending Ranges (Per Student)                                    \n",
       "<$584                                     93                97   \n",
       "$585-629                                  87                93   \n",
       "$630-644                                  73                84   \n",
       "$645-675                                  66                81   \n",
       "\n",
       "                              % Overall Passing  \n",
       "Spending Ranges (Per Student)                    \n",
       "<$584                                        90  \n",
       "$585-629                                     81  \n",
       "$630-644                                     63  \n",
       "$645-675                                     54  "
      ],
      "text/html": "<div>\n<style scoped>\n    .dataframe tbody tr th:only-of-type {\n        vertical-align: middle;\n    }\n\n    .dataframe tbody tr th {\n        vertical-align: top;\n    }\n\n    .dataframe thead th {\n        text-align: right;\n    }\n</style>\n<table border=\"1\" class=\"dataframe\">\n  <thead>\n    <tr style=\"text-align: right;\">\n      <th></th>\n      <th>Average Math Score</th>\n      <th>Average Reading Score</th>\n      <th>% Passing Math</th>\n      <th>% Passing Reading</th>\n      <th>% Overall Passing</th>\n    </tr>\n    <tr>\n      <th>Spending Ranges (Per Student)</th>\n      <th></th>\n      <th></th>\n      <th></th>\n      <th></th>\n      <th></th>\n    </tr>\n  </thead>\n  <tbody>\n    <tr>\n      <th>&lt;$584</th>\n      <td>83.5</td>\n      <td>83.9</td>\n      <td>93</td>\n      <td>97</td>\n      <td>90</td>\n    </tr>\n    <tr>\n      <th>$585-629</th>\n      <td>81.9</td>\n      <td>83.2</td>\n      <td>87</td>\n      <td>93</td>\n      <td>81</td>\n    </tr>\n    <tr>\n      <th>$630-644</th>\n      <td>78.5</td>\n      <td>81.6</td>\n      <td>73</td>\n      <td>84</td>\n      <td>63</td>\n    </tr>\n    <tr>\n      <th>$645-675</th>\n      <td>77.0</td>\n      <td>81.0</td>\n      <td>66</td>\n      <td>81</td>\n      <td>54</td>\n    </tr>\n  </tbody>\n</table>\n</div>"
     },
     "metadata": {},
     "execution_count": 201
    }
   ],
   "source": [
    "# Formatting\n",
    "spending_summary_df[\"Average Math Score\"] = spending_summary_df[\"Average Math Score\"].map(\"{:.1f}\".format)\n",
    "\n",
    "spending_summary_df[\"Average Reading Score\"] = spending_summary_df[\"Average Reading Score\"].map(\"{:.1f}\".format)\n",
    "\n",
    "spending_summary_df[\"% Passing Math\"] = spending_summary_df[\"% Passing Math\"].map(\"{:.0f}\".format)\n",
    "\n",
    "spending_summary_df[\"% Passing Reading\"] = spending_summary_df[\"% Passing Reading\"].map(\"{:.0f}\".format)\n",
    "\n",
    "spending_summary_df[\"% Overall Passing\"] = spending_summary_df[\"% Overall Passing\"].map(\"{:.0f}\".format)\n",
    "\n",
    "spending_summary_df"
   ]
  },
  {
   "cell_type": "code",
   "execution_count": null,
   "metadata": {},
   "outputs": [],
   "source": []
  },
  {
   "cell_type": "code",
   "execution_count": null,
   "metadata": {},
   "outputs": [],
   "source": []
  }
 ],
 "metadata": {
  "kernelspec": {
   "display_name": "PythonData",
   "language": "python",
   "name": "pythondata"
  },
  "language_info": {
   "codemirror_mode": {
    "name": "ipython",
    "version": 3
   },
   "file_extension": ".py",
   "mimetype": "text/x-python",
   "name": "python",
   "nbconvert_exporter": "python",
   "pygments_lexer": "ipython3",
   "version": "3.7.9"
  }
 },
 "nbformat": 4,
 "nbformat_minor": 4
}